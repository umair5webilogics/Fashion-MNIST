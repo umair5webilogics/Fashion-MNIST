{
  "cells": [
    {
      "cell_type": "markdown",
      "metadata": {
        "_uuid": "805a97911f01abb36ff8414d8d6aec9293e4fb85",
        "id": "ov09StW6wejR"
      },
      "source": [
        " <h1><center><font size=\"6\">CNN with Tensorflow|Keras for Fashion MNIST</font></center></h1>\n",
        "\n",
        "\n",
        "<center><img src=\"https://research.zalando.com/project/fashion_mnist/fashion_mnist/img/fashion-mnist-sprite.png\" width=\"600\"></img></center>\n",
        "\n",
        "\n",
        "# <a id='0'>Content</a>\n",
        "\n",
        "- <a href='#1'>Introduction</a>  \n",
        "- <a href='#2'>Load packages</a>  \n",
        "- <a href='#3'>Read the data</a>  \n",
        "- <a href='#4'>Data exploration</a>\n",
        "    - <a href='#41'>Class distribution</a>\n",
        "    - <a href='#42'>Images samples</a>\n",
        "- <a href='#5'>Model</a>  \n",
        "    - <a href='#51'>Prepare the model</a>  \n",
        "    - <a href='#52'>Train the model</a>  \n",
        "    - <a href='#53'>Test prediction accuracy</a>   \n",
        "    - <a href='#54'>Validation accuracy and loss</a>   \n",
        "    - <a href='#55'>Add Dropout layers to the model</a>  \n",
        "    - <a href='#56'>Re-train the model</a>   \n",
        "    - <a href='#57'>Check validation accuracy and loss with the new model</a>    \n",
        "    - <a href='#58'>Prediction accuracy with the new model </a>   \n",
        "- <a href='#6'>Visualize the classified images</a>  \n",
        "    - <a href='#61'>Correctly classified images</a>   \n",
        "    - <a href='#62'>Incorrectly classified images</a>   \n",
        "- <a href='#7'>Conclusions</a>\n",
        "- <a href='#8'>References</a>"
      ]
    },
    {
      "cell_type": "markdown",
      "metadata": {
        "_uuid": "1b1c16628c2f62a18e1dc2068e1d67d7003922b1",
        "id": "bliTT-HQwejd"
      },
      "source": [
        "# <a id=\"1\">Introduction</a>  \n",
        "\n",
        "\n",
        "## Dataset\n",
        "\n",
        "Fashion-MNIST is a dataset of Zalando's article images—consisting of a training set of 60,000 examples and a test set of 10,000 examples. Each example is a 28x28 grayscale image, associated with a label from 10 classes. Zalando intends Fashion-MNIST to serve as a direct drop-in replacement for the original MNIST dataset for benchmarking machine learning algorithms. It shares the same image size and structure of training and testing splits.\n",
        "\n",
        "\n",
        "## Content\n",
        "\n",
        "Each image is 28 pixels in height and 28 pixels in width, for a total of 784 pixels in total.   \n",
        "\n",
        "Each pixel has a single pixel-value associated with it, indicating the lightness or darkness of that pixel, with higher numbers meaning darker. This pixel-value is an integer between 0 and 255.   \n",
        "\n",
        "The training and test data sets have 785 columns.   \n",
        "\n",
        "The first column consists of the class labels (see above), and represents the article of clothing. \n",
        "\n",
        "The rest of 784 columns (1-785) contain the pixel-values of the associated image."
      ]
    },
    {
      "cell_type": "markdown",
      "metadata": {
        "_uuid": "5a708dc52b2e5990e2247ed573d50d0f6933b730",
        "id": "oT3o28G7wejg"
      },
      "source": [
        "# <a id=\"2\">Load packages</a>"
      ]
    },
    {
      "cell_type": "code",
      "execution_count": 2,
      "metadata": {
        "_uuid": "2defa674e4e6d0e7371df92e7d1f388fc5c14bb6",
        "colab": {
          "base_uri": "https://localhost:8080/",
          "height": 17
        },
        "execution": {
          "iopub.execute_input": "2021-06-26T10:26:50.565597Z",
          "iopub.status.busy": "2021-06-26T10:26:50.565303Z",
          "iopub.status.idle": "2021-06-26T10:26:53.758002Z",
          "shell.execute_reply": "2021-06-26T10:26:53.757137Z",
          "shell.execute_reply.started": "2021-06-26T10:26:50.565546Z"
        },
        "id": "_7KJxOqSwejh",
        "outputId": "773bfff6-050d-4c72-a919-1655018bbb58"
      },
      "outputs": [],
      "source": [
        "import numpy as np\n",
        "import pandas as pd\n",
        "from sklearn.model_selection import train_test_split\n",
        "from sklearn.metrics import classification_report\n",
        "from tensorflow.python import keras\n",
        "from tensorflow.python.keras.models import Sequential\n",
        "from tensorflow.python.keras.layers import Dense, Flatten, Conv2D, Dropout, MaxPooling2D\n",
        "from IPython.display import SVG\n",
        "from keras.utils.vis_utils import model_to_dot\n",
        "from tensorflow.keras.utils import plot_model\n",
        "import seaborn as sns\n",
        "import matplotlib.pyplot as plt\n",
        "%matplotlib inline \n",
        "import plotly.graph_objs as go\n",
        "import plotly.figure_factory as ff\n",
        "from plotly import tools\n",
        "from plotly.offline import download_plotlyjs, init_notebook_mode, plot, iplot\n",
        "init_notebook_mode(connected=True)"
      ]
    },
    {
      "cell_type": "markdown",
      "metadata": {
        "_uuid": "e17fd2539412442ddb3ecacf84366ddd62faf836",
        "id": "Hjf4oFJlwejn"
      },
      "source": [
        "## Parameters"
      ]
    },
    {
      "cell_type": "code",
      "execution_count": null,
      "metadata": {
        "_uuid": "d7a44bfc7a28df7026241c4a7e047298446f1554",
        "id": "_pojo0Gawejo"
      },
      "outputs": [],
      "source": [
        "IMG_ROWS = 28\n",
        "IMG_COLS = 28\n",
        "NUM_CLASSES = 10\n",
        "TEST_SIZE = 0.2\n",
        "RANDOM_STATE = 2018\n",
        "#Model\n",
        "NO_EPOCHS = 50\n",
        "BATCH_SIZE = 128\n",
        "\n",
        "IS_LOCAL = False\n",
        "\n",
        "import os\n"
      ]
    },
    {
      "cell_type": "markdown",
      "metadata": {
        "_uuid": "f49d65b4af77e87ab34b6854850619911cff1e6d",
        "id": "eCnq3H_kwejq"
      },
      "source": [
        "# <a id=\"3\">Read the data</a>\n",
        "\n",
        "There are 10 different classes of images, as following: \n",
        "\n",
        "* **0**: **T-shirt/top**;   \n",
        "* **1**: **Trouser**;   \n",
        "* **2**: **Pullover**;   \n",
        "* **3**: **Dress**;\n",
        "* **4**: **Coat**;\n",
        "* **5**: **Sandal**;\n",
        "* **6**: **Shirt**;\n",
        "* **7**: **Sneaker**;\n",
        "* **8**: **Bag**;\n",
        "* **9**: **Ankle boot**.\n",
        "\n",
        "Image dimmensions are **28**x**28**.   \n",
        "\n",
        "The train set and test set are given in two separate datasets.\n"
      ]
    },
    {
      "cell_type": "code",
      "execution_count": null,
      "metadata": {
        "colab": {
          "base_uri": "https://localhost:8080/"
        },
        "id": "eS4IJcy2xfAZ",
        "outputId": "cec8494b-99f6-4b08-8edf-8cc5c51dcdb5"
      },
      "outputs": [
        {
          "name": "stdout",
          "output_type": "stream",
          "text": [
            "Looking in indexes: https://pypi.org/simple, https://us-python.pkg.dev/colab-wheels/public/simple/\n",
            "Requirement already satisfied: kaggle in /usr/local/lib/python3.7/dist-packages (1.5.12)\n",
            "Requirement already satisfied: tqdm in /usr/local/lib/python3.7/dist-packages (from kaggle) (4.64.0)\n",
            "Requirement already satisfied: urllib3 in /usr/local/lib/python3.7/dist-packages (from kaggle) (1.24.3)\n",
            "Requirement already satisfied: six>=1.10 in /usr/local/lib/python3.7/dist-packages (from kaggle) (1.15.0)\n",
            "Requirement already satisfied: python-dateutil in /usr/local/lib/python3.7/dist-packages (from kaggle) (2.8.2)\n",
            "Requirement already satisfied: python-slugify in /usr/local/lib/python3.7/dist-packages (from kaggle) (6.1.2)\n",
            "Requirement already satisfied: requests in /usr/local/lib/python3.7/dist-packages (from kaggle) (2.23.0)\n",
            "Requirement already satisfied: certifi in /usr/local/lib/python3.7/dist-packages (from kaggle) (2022.6.15)\n",
            "Requirement already satisfied: text-unidecode>=1.3 in /usr/local/lib/python3.7/dist-packages (from python-slugify->kaggle) (1.3)\n",
            "Requirement already satisfied: idna<3,>=2.5 in /usr/local/lib/python3.7/dist-packages (from requests->kaggle) (2.10)\n",
            "Requirement already satisfied: chardet<4,>=3.0.2 in /usr/local/lib/python3.7/dist-packages (from requests->kaggle) (3.0.4)\n"
          ]
        }
      ],
      "source": [
        "! pip install kaggle"
      ]
    },
    {
      "cell_type": "code",
      "execution_count": null,
      "metadata": {
        "id": "0l75S2WMxe9k"
      },
      "outputs": [],
      "source": [
        "! mkdir ~/.kaggle"
      ]
    },
    {
      "cell_type": "code",
      "execution_count": null,
      "metadata": {
        "id": "Rl77sYMqxe63"
      },
      "outputs": [],
      "source": [
        "! cp kaggle.json ~/.kaggle/"
      ]
    },
    {
      "cell_type": "code",
      "execution_count": null,
      "metadata": {
        "id": "5vPenLdzxe3y"
      },
      "outputs": [],
      "source": [
        "! chmod 600 ~/.kaggle/kaggle.json"
      ]
    },
    {
      "cell_type": "code",
      "execution_count": null,
      "metadata": {
        "colab": {
          "base_uri": "https://localhost:8080/"
        },
        "id": "OXUvHxNZxs4L",
        "outputId": "bd41ae31-7deb-42ab-f500-7784a286e91a"
      },
      "outputs": [
        {
          "name": "stdout",
          "output_type": "stream",
          "text": [
            "Downloading fashionmnist.zip to /content\n",
            " 74% 51.0M/68.8M [00:00<00:00, 116MB/s]\n",
            "100% 68.8M/68.8M [00:00<00:00, 127MB/s]\n"
          ]
        }
      ],
      "source": [
        "!kaggle datasets download -d zalando-research/fashionmnist"
      ]
    },
    {
      "cell_type": "code",
      "execution_count": null,
      "metadata": {
        "colab": {
          "base_uri": "https://localhost:8080/"
        },
        "id": "T6BWkQmuyMti",
        "outputId": "4ef425ff-7a5d-4462-8fa2-b27ec9451d7e"
      },
      "outputs": [
        {
          "name": "stdout",
          "output_type": "stream",
          "text": [
            "Archive:  fashionmnist.zip\n",
            "  inflating: data/fashion-mnist_test.csv  \n",
            "  inflating: data/fashion-mnist_train.csv  \n",
            "  inflating: data/t10k-images-idx3-ubyte  \n",
            "  inflating: data/t10k-labels-idx1-ubyte  \n",
            "  inflating: data/train-images-idx3-ubyte  \n",
            "  inflating: data/train-labels-idx1-ubyte  \n"
          ]
        }
      ],
      "source": [
        "!unzip fashionmnist.zip -d 'data'"
      ]
    },
    {
      "cell_type": "markdown",
      "metadata": {
        "id": "Q5BhL8nhxd0D"
      },
      "source": []
    },
    {
      "cell_type": "code",
      "execution_count": null,
      "metadata": {
        "_uuid": "a9c3148fda056ecc88570b302f5185064d5e9fc8",
        "id": "KlzwqbRgwejs"
      },
      "outputs": [],
      "source": [
        "PATH='/content/data/'\n",
        "train_file = PATH+\"fashion-mnist_train.csv\"\n",
        "test_file  = PATH+\"fashion-mnist_test.csv\"\n",
        "\n",
        "train_data = pd.read_csv(train_file)\n",
        "test_data = pd.read_csv(test_file)"
      ]
    },
    {
      "cell_type": "markdown",
      "metadata": {
        "_uuid": "290f8f38b2f64dfd1bd3432eb1e9a101dbbaf4e5",
        "id": "nEUzeFJNwejt"
      },
      "source": [
        "# <a id=\"4\">Data exploration</a>"
      ]
    },
    {
      "cell_type": "markdown",
      "metadata": {
        "_uuid": "e8891ae7996aa2ae5bc1c025661a77ae91c2fdfb",
        "id": "-LleW52Ewejv"
      },
      "source": [
        "![](http://)The dimmension of the original  train,  test set are as following:"
      ]
    },
    {
      "cell_type": "code",
      "execution_count": null,
      "metadata": {
        "_uuid": "a133496cefc53baa56b9a5eec93bfd064ea6360d",
        "colab": {
          "base_uri": "https://localhost:8080/"
        },
        "id": "ELia5d7qwejw",
        "outputId": "582bdf59-8372-492b-937b-9adc0143733c"
      },
      "outputs": [
        {
          "name": "stdout",
          "output_type": "stream",
          "text": [
            "Fashion MNIST train -  rows: 60000  columns: 785\n",
            "Fashion MNIST test -  rows: 10000  columns: 785\n"
          ]
        }
      ],
      "source": [
        "print(\"Fashion MNIST train -  rows:\",train_data.shape[0],\" columns:\", train_data.shape[1])\n",
        "print(\"Fashion MNIST test -  rows:\",test_data.shape[0],\" columns:\", test_data.shape[1])"
      ]
    },
    {
      "cell_type": "markdown",
      "metadata": {
        "_uuid": "dc317fbf40c9b2838f8091e745a64e060a7affc0",
        "id": "TYMel1FQwejx"
      },
      "source": [
        "## <a id=\"41\">Class distribution</a>\n",
        "\n",
        "Let's see how many number of images are in each class. We start with the train set.\n",
        "\n",
        "### Train set images class distribution"
      ]
    },
    {
      "cell_type": "code",
      "execution_count": null,
      "metadata": {
        "_uuid": "da948eb587daf81160a4794a36662f8872c882a4",
        "colab": {
          "base_uri": "https://localhost:8080/"
        },
        "id": "664gnJzZwejx",
        "outputId": "8d76c975-4ed3-4ee3-ae07-83f40031d46d"
      },
      "outputs": [
        {
          "name": "stdout",
          "output_type": "stream",
          "text": [
            "Pullover            :   6000 or 10.0%\n",
            "Ankle Boot          :   6000 or 10.0%\n",
            "Shirt               :   6000 or 10.0%\n",
            "T-shirt/top         :   6000 or 10.0%\n",
            "Dress               :   6000 or 10.0%\n",
            "Coat                :   6000 or 10.0%\n",
            "Sandal              :   6000 or 10.0%\n",
            "Bag                 :   6000 or 10.0%\n",
            "Sneaker             :   6000 or 10.0%\n",
            "Trouser             :   6000 or 10.0%\n"
          ]
        }
      ],
      "source": [
        "# Create a dictionary for each type of label \n",
        "labels = {0 : \"T-shirt/top\", 1: \"Trouser\", 2: \"Pullover\", 3: \"Dress\", 4: \"Coat\",\n",
        "          5: \"Sandal\", 6: \"Shirt\", 7: \"Sneaker\", 8: \"Bag\", 9: \"Ankle Boot\"}\n",
        "\n",
        "def get_classes_distribution(data):\n",
        "    # Get the count for each label\n",
        "    label_counts = data[\"label\"].value_counts()\n",
        "\n",
        "    # Get total number of samples\n",
        "    total_samples = len(data)\n",
        "\n",
        "\n",
        "    # Count the number of items in each class\n",
        "    for i in range(len(label_counts)):\n",
        "        label = labels[label_counts.index[i]]\n",
        "        count = label_counts.values[i]\n",
        "        percent = (count / total_samples) * 100\n",
        "        print(\"{:<20s}:   {} or {}%\".format(label, count, percent))\n",
        "\n",
        "get_classes_distribution(train_data)"
      ]
    },
    {
      "cell_type": "markdown",
      "metadata": {
        "_uuid": "fc41d889d3ad6352994cdf8a76a78ed0d22ec141",
        "id": "yvT7uWE8wejy"
      },
      "source": [
        "The classes are equaly distributed in the train set (10% each). Let's check the same for the test set.    \n",
        "Let's also plot the class distribution.\n",
        "\n"
      ]
    },
    {
      "cell_type": "code",
      "execution_count": null,
      "metadata": {
        "_uuid": "7ac8f6fde6bd78553f08469093cebc0e124a5210",
        "colab": {
          "base_uri": "https://localhost:8080/",
          "height": 384
        },
        "id": "CUca4C4Rwejy",
        "outputId": "bcac9a08-68dd-41df-cdfd-6fb69ef43d0a"
      },
      "outputs": [
        {
          "name": "stderr",
          "output_type": "stream",
          "text": [
            "/usr/local/lib/python3.7/dist-packages/seaborn/_decorators.py:43: FutureWarning:\n",
            "\n",
            "Pass the following variable as a keyword arg: x. From version 0.12, the only valid positional argument will be `data`, and passing other arguments without an explicit keyword will result in an error or misinterpretation.\n",
            "\n"
          ]
        },
        {
          "data": {
            "image/png": "[encoded data removed]",
            "text/plain": [
              "<Figure size 864x288 with 1 Axes>"
            ]
          },
          "metadata": {
            "needs_background": "light"
          },
          "output_type": "display_data"
        }
      ],
      "source": [
        "def plot_label_per_class(data):\n",
        "    f, ax = plt.subplots(1,1, figsize=(12,4))\n",
        "    g = sns.countplot(data.label, order = data[\"label\"].value_counts().index)\n",
        "    g.set_title(\"Number of labels for each class\")\n",
        "\n",
        "    for p, label in zip(g.patches, data[\"label\"].value_counts().index):\n",
        "        g.annotate(labels[label], (p.get_x(), p.get_height()+0.1))\n",
        "    plt.show()  \n",
        "    \n",
        "plot_label_per_class(train_data)"
      ]
    },
    {
      "cell_type": "markdown",
      "metadata": {
        "_uuid": "f7c3328ce859d1809ce916bba73bc57b2d580963",
        "id": "z292EjZJwejz"
      },
      "source": [
        "### Test set images class distribution"
      ]
    },
    {
      "cell_type": "code",
      "execution_count": null,
      "metadata": {
        "_uuid": "2581093ff1268ae9487fe83b383c2d4be4657000",
        "colab": {
          "base_uri": "https://localhost:8080/"
        },
        "id": "8GGwPtkxwej0",
        "outputId": "5a3db0c1-7acf-44e4-d56b-f91a2cc5a963"
      },
      "outputs": [
        {
          "name": "stdout",
          "output_type": "stream",
          "text": [
            "T-shirt/top         :   1000 or 10.0%\n",
            "Trouser             :   1000 or 10.0%\n",
            "Pullover            :   1000 or 10.0%\n",
            "Dress               :   1000 or 10.0%\n",
            "Bag                 :   1000 or 10.0%\n",
            "Shirt               :   1000 or 10.0%\n",
            "Sandal              :   1000 or 10.0%\n",
            "Coat                :   1000 or 10.0%\n",
            "Sneaker             :   1000 or 10.0%\n",
            "Ankle Boot          :   1000 or 10.0%\n"
          ]
        }
      ],
      "source": [
        "get_classes_distribution(test_data)"
      ]
    },
    {
      "cell_type": "markdown",
      "metadata": {
        "_uuid": "fffa6f5248eb037b47a84e1e1ee889ee3470a1d4",
        "id": "Ax017Chgwej0"
      },
      "source": [
        "Also in the test set the 10 classes are equaly distributed (10% each).  \n",
        "\n",
        "Lets' also plot the class distribution."
      ]
    },
    {
      "cell_type": "code",
      "execution_count": null,
      "metadata": {
        "_uuid": "7d770b2cde8f32b83a67da02eeacd17f01904ddd",
        "colab": {
          "base_uri": "https://localhost:8080/",
          "height": 384
        },
        "id": "eK5S-zh3wej0",
        "outputId": "50eb6aa4-2af9-4736-e74d-9486f88f5cd7"
      },
      "outputs": [
        {
          "name": "stderr",
          "output_type": "stream",
          "text": [
            "/usr/local/lib/python3.7/dist-packages/seaborn/_decorators.py:43: FutureWarning:\n",
            "\n",
            "Pass the following variable as a keyword arg: x. From version 0.12, the only valid positional argument will be `data`, and passing other arguments without an explicit keyword will result in an error or misinterpretation.\n",
            "\n"
          ]
        },
        {
          "data": {
            "image/png": "[encoded data removed]",
            "text/plain": [
              "<Figure size 864x288 with 1 Axes>"
            ]
          },
          "metadata": {
            "needs_background": "light"
          },
          "output_type": "display_data"
        }
      ],
      "source": [
        "plot_label_per_class(test_data)"
      ]
    },
    {
      "cell_type": "markdown",
      "metadata": {
        "_uuid": "588beb3c38b5f5a0b41ca0699426a1477efb8412",
        "id": "Ij479Uzrwej1"
      },
      "source": [
        "## <a id=\"42\">Sample images</a>\n",
        "\n",
        "### Train set images\n",
        "\n",
        "Let's plot some samples for the images.   \n",
        "We add labels to the train set images, with the corresponding fashion item category.  "
      ]
    },
    {
      "cell_type": "code",
      "execution_count": null,
      "metadata": {
        "_uuid": "62fd41c12740f184ec160d692b3289d4457297d6",
        "colab": {
          "base_uri": "https://localhost:8080/"
        },
        "id": "s2NdBo58wej2",
        "outputId": "8d9cf7c3-724a-4dc8-d7ff-a084bd3f1407"
      },
      "outputs": [
        {
          "name": "stdout",
          "output_type": "stream",
          "text": [
            "Total number of sample images to plot:  40\n"
          ]
        }
      ],
      "source": [
        "def sample_images_data(data):\n",
        "    # An empty list to collect some samples\n",
        "    sample_images = []\n",
        "    sample_labels = []\n",
        "\n",
        "    # Iterate over the keys of the labels dictionary defined in the above cell\n",
        "    for k in labels.keys():\n",
        "        # Get four samples for each category\n",
        "        samples = data[data[\"label\"] == k].head(4)\n",
        "        # Append the samples to the samples list\n",
        "        for j, s in enumerate(samples.values):\n",
        "            # First column contain labels, hence index should start from 1\n",
        "            img = np.array(samples.iloc[j, 1:]).reshape(IMG_ROWS,IMG_COLS)\n",
        "            sample_images.append(img)\n",
        "            sample_labels.append(samples.iloc[j, 0])\n",
        "\n",
        "    print(\"Total number of sample images to plot: \", len(sample_images))\n",
        "    return sample_images, sample_labels\n",
        "\n",
        "train_sample_images, train_sample_labels = sample_images_data(train_data)"
      ]
    },
    {
      "cell_type": "markdown",
      "metadata": {
        "_uuid": "e5c80cef30985bb5ab0ee48d4fc9891660c2a92f",
        "id": "sxhIwH1Ewej2"
      },
      "source": [
        "Let's now plot the images.   \n",
        "The labels are shown above each image."
      ]
    },
    {
      "cell_type": "code",
      "execution_count": null,
      "metadata": {
        "_uuid": "4f4f27f5143bdd834302a2c43cdb1d68d2a131a9",
        "colab": {
          "base_uri": "https://localhost:8080/",
          "height": 591
        },
        "id": "Pa7YALLtwej3",
        "outputId": "1911dfac-28c1-44a7-ab70-be0a1be56e75"
      },
      "outputs": [
        {
          "data": {
            "image/png": "[encoded data removed]",
            "text/plain": [
              "<Figure size 1152x720 with 40 Axes>"
            ]
          },
          "metadata": {
            "needs_background": "light"
          },
          "output_type": "display_data"
        }
      ],
      "source": [
        "def plot_sample_images(data_sample_images,data_sample_labels,cmap=\"Blues\"):\n",
        "    # Plot the sample images now\n",
        "    f, ax = plt.subplots(5,8, figsize=(16,10))\n",
        "\n",
        "    for i, img in enumerate(data_sample_images):\n",
        "        ax[i//8, i%8].imshow(img, cmap=cmap)\n",
        "        ax[i//8, i%8].axis('off')\n",
        "        ax[i//8, i%8].set_title(labels[data_sample_labels[i]])\n",
        "    plt.show()    \n",
        "    \n",
        "plot_sample_images(train_sample_images,train_sample_labels, \"Greens\")"
      ]
    },
    {
      "cell_type": "markdown",
      "metadata": {
        "_uuid": "bd30352b2674a20eca5e792d7c186cdcbab25461",
        "id": "TCz79PnXwej3"
      },
      "source": [
        "### Test set images\n",
        "\n",
        "Let's plot now a selection of the test set images.  \n",
        "Labels are as well added (they are known).  "
      ]
    },
    {
      "cell_type": "code",
      "execution_count": null,
      "metadata": {
        "_uuid": "616df96bfae0e8065c206e6dfec2847d5d42125d",
        "colab": {
          "base_uri": "https://localhost:8080/",
          "height": 608
        },
        "id": "eIADmAg6wej4",
        "outputId": "3bc7eaf4-b234-46ad-9db2-a81ba52dafc5"
      },
      "outputs": [
        {
          "name": "stdout",
          "output_type": "stream",
          "text": [
            "Total number of sample images to plot:  40\n"
          ]
        },
        {
          "data": {
            "image/png": "[encoded data removed]",
            "text/plain": [
              "<Figure size 1152x720 with 40 Axes>"
            ]
          },
          "metadata": {
            "needs_background": "light"
          },
          "output_type": "display_data"
        }
      ],
      "source": [
        "test_sample_images, test_sample_labels = sample_images_data(test_data)\n",
        "plot_sample_images(test_sample_images,test_sample_labels)"
      ]
    },
    {
      "cell_type": "markdown",
      "metadata": {
        "_uuid": "273c79c7470c49fe7a546dd7148e0536be2dee19",
        "id": "wUYUU5V8wej4"
      },
      "source": [
        "# <a id=\"5\">Model</a>\n",
        "\n",
        "We start with preparing the model."
      ]
    },
    {
      "cell_type": "markdown",
      "metadata": {
        "_uuid": "10b920b2ffc5de4a3ddebe494966d90cca91ee95",
        "id": "aCg1xv6cwej4"
      },
      "source": [
        "## <a id=\"51\">Prepare the model</a>\n",
        "\n",
        "## Data preprocessing\n",
        "\n",
        "First we will do a data preprocessing to prepare for the model.\n",
        "\n",
        "We reshape the columns  from (784) to (28,28,1). We also save label (target) feature as a separate vector."
      ]
    },
    {
      "cell_type": "code",
      "execution_count": null,
      "metadata": {
        "_uuid": "db4c308b9fb334a54b4c055b00d2a1fbcf77ab96",
        "id": "ZoZEo1Pgwej5"
      },
      "outputs": [],
      "source": [
        "# data preprocessing\n",
        "from tensorflow.keras.utils import to_categorical\n",
        "def data_preprocessing(raw):\n",
        "    out_y =to_categorical(raw.label, NUM_CLASSES)\n",
        "    num_images = raw.shape[0]\n",
        "    x_as_array = raw.values[:,1:]\n",
        "    x_shaped_array = x_as_array.reshape(num_images, IMG_ROWS, IMG_COLS, 1)\n",
        "    out_x = x_shaped_array / 255\n",
        "    return out_x, out_y"
      ]
    },
    {
      "cell_type": "markdown",
      "metadata": {
        "_uuid": "2d3cafa55173d40cd9a42df63d4919f03b264c09",
        "id": "M0Bw2ZOhwej5"
      },
      "source": [
        "We process both the train_data and the test_data"
      ]
    },
    {
      "cell_type": "code",
      "execution_count": null,
      "metadata": {
        "_uuid": "454d7a8fdca4bdbefc04a9d796de04b6af4a1767",
        "id": "p37uiVQTwej5"
      },
      "outputs": [],
      "source": [
        "# prepare the data\n",
        "X, y = data_preprocessing(train_data)\n",
        "X_test, y_test = data_preprocessing(test_data)"
      ]
    },
    {
      "cell_type": "markdown",
      "metadata": {
        "_uuid": "8e25c569f0a0e817ca0462f3e3ea2f50feb480b0",
        "id": "KOTqS1l4wej6"
      },
      "source": [
        "## Split train in train and validation set\n",
        "\n",
        "We further split the train set in train and validation set. The validation set will be 20% from the original train set, therefore the split will be train/validation of 0.8/0.2."
      ]
    },
    {
      "cell_type": "code",
      "execution_count": null,
      "metadata": {
        "_uuid": "36eb910dd0868a227a73c9759d6aee0a47ba2b1e",
        "id": "9c9j1zo5wej6"
      },
      "outputs": [],
      "source": [
        "X_train, X_val, y_train, y_val = train_test_split(X, y, test_size=TEST_SIZE, random_state=RANDOM_STATE)"
      ]
    },
    {
      "cell_type": "markdown",
      "metadata": {
        "_uuid": "1e623ca7c0c61634c0e4b890fc5cf5cacb132552",
        "id": "CHN4UrTqwej6"
      },
      "source": [
        "The dimmension of the processed train, validation and test set are as following:"
      ]
    },
    {
      "cell_type": "code",
      "execution_count": null,
      "metadata": {
        "_uuid": "98b3f1bf07e8ed614bf32b8e1955cbe90bff21c5",
        "colab": {
          "base_uri": "https://localhost:8080/"
        },
        "id": "jPM7MBXjwej7",
        "outputId": "4dd7f172-543f-49c1-d6e4-ca163d56c051"
      },
      "outputs": [
        {
          "name": "stdout",
          "output_type": "stream",
          "text": [
            "Fashion MNIST train -  rows: 48000  columns: (28, 28, 1)\n",
            "Fashion MNIST valid -  rows: 12000  columns: (28, 28, 1)\n",
            "Fashion MNIST test -  rows: 10000  columns: (28, 28, 1)\n"
          ]
        }
      ],
      "source": [
        "print(\"Fashion MNIST train -  rows:\",X_train.shape[0],\" columns:\", X_train.shape[1:4])\n",
        "print(\"Fashion MNIST valid -  rows:\",X_val.shape[0],\" columns:\", X_val.shape[1:4])\n",
        "print(\"Fashion MNIST test -  rows:\",X_test.shape[0],\" columns:\", X_test.shape[1:4])"
      ]
    },
    {
      "cell_type": "markdown",
      "metadata": {
        "_uuid": "5bc44b14e07efcd3dda90deaac6884b07285b484",
        "id": "sh4lNJlFwej7"
      },
      "source": [
        "Let's check the class inbalance for the rsulted training set."
      ]
    },
    {
      "cell_type": "code",
      "execution_count": null,
      "metadata": {
        "_uuid": "a8c4e101cbbe68984f525e00afa8c7b7d8cc2215",
        "colab": {
          "base_uri": "https://localhost:8080/",
          "height": 558
        },
        "id": "NsisL_Vpwej7",
        "outputId": "b122a636-893d-4485-ec03-90664a4a8722"
      },
      "outputs": [
        {
          "name": "stderr",
          "output_type": "stream",
          "text": [
            "/usr/local/lib/python3.7/dist-packages/seaborn/_decorators.py:43: FutureWarning:\n",
            "\n",
            "Pass the following variable as a keyword arg: x. From version 0.12, the only valid positional argument will be `data`, and passing other arguments without an explicit keyword will result in an error or misinterpretation.\n",
            "\n"
          ]
        },
        {
          "data": {
            "image/png": "[encoded data removed]",
            "text/plain": [
              "<Figure size 864x288 with 1 Axes>"
            ]
          },
          "metadata": {
            "needs_background": "light"
          },
          "output_type": "display_data"
        },
        {
          "name": "stdout",
          "output_type": "stream",
          "text": [
            "Dress               :   4891 or 10.189583333333333%\n",
            "Sandal              :   4855 or 10.114583333333334%\n",
            "Pullover            :   4836 or 10.075000000000001%\n",
            "Ankle Boot          :   4827 or 10.05625%\n",
            "Sneaker             :   4798 or 9.995833333333334%\n",
            "Coat                :   4796 or 9.991666666666667%\n",
            "Shirt               :   4779 or 9.95625%\n",
            "Bag                 :   4757 or 9.910416666666666%\n",
            "Trouser             :   4745 or 9.885416666666668%\n",
            "T-shirt/top         :   4716 or 9.825000000000001%\n"
          ]
        }
      ],
      "source": [
        "def plot_count_per_class(yd):\n",
        "    ydf = pd.DataFrame(yd)\n",
        "    f, ax = plt.subplots(1,1, figsize=(12,4))\n",
        "    g = sns.countplot(ydf[0], order = np.arange(0,10))\n",
        "    g.set_title(\"Number of items for each class\")\n",
        "    g.set_xlabel(\"Category\")\n",
        "    \n",
        "    for p, label in zip(g.patches, np.arange(0,10)):\n",
        "        g.annotate(labels[label], (p.get_x(), p.get_height()+0.1))\n",
        "        \n",
        "    plt.show()  \n",
        "\n",
        "def get_count_per_class(yd):\n",
        "    ydf = pd.DataFrame(yd)\n",
        "    # Get the count for each label\n",
        "    label_counts = ydf[0].value_counts()\n",
        "\n",
        "    # Get total number of samples\n",
        "    total_samples = len(yd)\n",
        "\n",
        "\n",
        "    # Count the number of items in each class\n",
        "    for i in range(len(label_counts)):\n",
        "        label = labels[label_counts.index[i]]\n",
        "        count = label_counts.values[i]\n",
        "        percent = (count / total_samples) * 100\n",
        "        print(\"{:<20s}:   {} or {}%\".format(label, count, percent))\n",
        "    \n",
        "plot_count_per_class(np.argmax(y_train,axis=1))\n",
        "get_count_per_class(np.argmax(y_train,axis=1))"
      ]
    },
    {
      "cell_type": "markdown",
      "metadata": {
        "_uuid": "07bfe3d5d50b985788a28e546473fd885d96dcef",
        "id": "fKUFN0T-wej8"
      },
      "source": [
        "And, as well, for the validation set."
      ]
    },
    {
      "cell_type": "code",
      "execution_count": null,
      "metadata": {
        "_uuid": "af3b3d31c42637235bc07b700db121e37e156afc",
        "colab": {
          "base_uri": "https://localhost:8080/",
          "height": 558
        },
        "id": "oMGVCAlxwej8",
        "outputId": "a6631321-a9a4-4b91-98f6-410bd0ed4a63"
      },
      "outputs": [
        {
          "name": "stderr",
          "output_type": "stream",
          "text": [
            "/usr/local/lib/python3.7/dist-packages/seaborn/_decorators.py:43: FutureWarning:\n",
            "\n",
            "Pass the following variable as a keyword arg: x. From version 0.12, the only valid positional argument will be `data`, and passing other arguments without an explicit keyword will result in an error or misinterpretation.\n",
            "\n"
          ]
        },
        {
          "data": {
            "image/png": "[encoded data removed]",
            "text/plain": [
              "<Figure size 864x288 with 1 Axes>"
            ]
          },
          "metadata": {
            "needs_background": "light"
          },
          "output_type": "display_data"
        },
        {
          "name": "stdout",
          "output_type": "stream",
          "text": [
            "T-shirt/top         :   1284 or 10.7%\n",
            "Trouser             :   1255 or 10.458333333333334%\n",
            "Bag                 :   1243 or 10.358333333333333%\n",
            "Shirt               :   1221 or 10.174999999999999%\n",
            "Coat                :   1204 or 10.033333333333333%\n",
            "Sneaker             :   1202 or 10.016666666666667%\n",
            "Ankle Boot          :   1173 or 9.775%\n",
            "Pullover            :   1164 or 9.700000000000001%\n",
            "Sandal              :   1145 or 9.541666666666666%\n",
            "Dress               :   1109 or 9.241666666666665%\n"
          ]
        }
      ],
      "source": [
        "plot_count_per_class(np.argmax(y_val,axis=1))\n",
        "get_count_per_class(np.argmax(y_val,axis=1))"
      ]
    },
    {
      "cell_type": "markdown",
      "metadata": {
        "_uuid": "315162ff857021131d4ac6739bda800acc5c6c4b",
        "id": "aEymWDjjwej9"
      },
      "source": [
        "Both the train and validation set are unbalanced with respect of distribution of classes. "
      ]
    },
    {
      "cell_type": "markdown",
      "metadata": {
        "_uuid": "dd9405b5a3fe0c7bd5bebe0616190a8cf26d2811",
        "id": "HdrdCSFewej9"
      },
      "source": [
        "## <a id=\"52\">Train the model</a>\n",
        "\n",
        "### Build the model   \n",
        "\n",
        "\n",
        "\n",
        "We will use a **Sequential** model.\n",
        "* The **Sequential** model is a linear stack of layers. It can be first initialized and then we add layers using **add** method or we can add all layers at init stage. The layers added are as follows:\n",
        "\n",
        "* **Conv2D** is a 2D Convolutional layer (i.e. spatial convolution over images). The parameters used are:\n",
        " * filters - the number of filters (Kernels) used with this layer; here filters = 32;\n",
        " * kernel_size - the dimmension of the Kernel: (3 x 3);\n",
        " * activation - is the activation function used, in this case `relu`;\n",
        " * kernel_initializer - the function used for initializing the kernel;\n",
        " * input_shape - is the shape of the image presented to the CNN: in our case is 28 x 28\n",
        " The input and output of the **Conv2D** is a 4D tensor.\n",
        " \n",
        "* **MaxPooling2D** is a Max pooling operation for spatial data. Parameters used here are:\n",
        " * *pool_size*, in this case (2,2), representing the factors by which to downscale in both directions;\n",
        " \n",
        " * **Conv2D** with the following parameters:\n",
        " * filters: 64;\n",
        " * kernel_size : (3 x 3);\n",
        " * activation : `relu`;\n",
        " \n",
        "* **MaxPooling2D** with parameter:\n",
        " * *pool_size* : (2,2);\n",
        "\n",
        "* **Conv2D** with the following parameters:\n",
        " * filters: 128;\n",
        " * kernel_size : (3 x 3);\n",
        " * activation : `relu`;\n",
        " \n",
        "* **Flatten**. This layer Flattens the input. Does not affect the batch size. It is used without parameters;\n",
        "\n",
        "* **Dense**. This layer is a regular fully-connected NN layer. It is used without parameters;\n",
        " * units - this is a positive integer, with the meaning: dimensionality of the output space; in this case is: 128;\n",
        " * activation - activation function : `relu`;\n",
        " \n",
        "* **Dense**. This is the final layer (fully connected). It is used with the parameters:\n",
        " * units: the number of classes (in our case 10);\n",
        " * activation : `softmax`; for this final layer it is used `softmax` activation (standard for multiclass classification)\n",
        " \n",
        "\n",
        "Then we compile the model, specifying as well the following parameters:\n",
        "* *loss*;\n",
        "* *optimizer*;\n",
        "* *metrics*. \n"
      ]
    },
    {
      "cell_type": "code",
      "execution_count": null,
      "metadata": {
        "_uuid": "e31836cd5ec9d86340485404b8f613d1f574aca4",
        "id": "AX1Hmgiywej-"
      },
      "outputs": [],
      "source": [
        "# Model\n",
        "model = Sequential()\n",
        "# Add convolution 2D\n",
        "model.add(Conv2D(32, kernel_size=(3, 3),\n",
        "                 activation='relu',\n",
        "                 kernel_initializer='he_normal',\n",
        "                 input_shape=(IMG_ROWS, IMG_COLS, 1)))\n",
        "model.add(MaxPooling2D((2, 2)))\n",
        "model.add(Conv2D(64, \n",
        "                 kernel_size=(3, 3), \n",
        "                 activation='relu'))\n",
        "model.add(MaxPooling2D(pool_size=(2, 2)))\n",
        "model.add(Conv2D(128, (3, 3), activation='relu'))\n",
        "model.add(Flatten())\n",
        "model.add(Dense(128, activation='relu'))\n",
        "model.add(Dense(NUM_CLASSES, activation='softmax'))\n",
        "\n",
        "\n",
        "model.compile(loss=keras.losses.categorical_crossentropy,\n",
        "              optimizer='adam',\n",
        "              metrics=['accuracy'])"
      ]
    },
    {
      "cell_type": "markdown",
      "metadata": {
        "_uuid": "ecb450d70539a62fb310bb7ed44849d2d01481ee",
        "id": "B5efSbzTwej-"
      },
      "source": [
        "### Inspect the model\n",
        "\n",
        "Let's check the model we initialized."
      ]
    },
    {
      "cell_type": "code",
      "execution_count": null,
      "metadata": {
        "_uuid": "b4b923b11ceaf4a97677f8e24265e3e97ae1653b",
        "colab": {
          "base_uri": "https://localhost:8080/"
        },
        "id": "Dk71W6ftwej-",
        "outputId": "0a570616-e54e-49e9-e01e-c3fb7c66f942",
        "scrolled": true
      },
      "outputs": [
        {
          "name": "stdout",
          "output_type": "stream",
          "text": [
            "Model: \"sequential\"\n",
            "_________________________________________________________________\n",
            "Layer (type)                 Output Shape              Param #   \n",
            "=================================================================\n",
            "conv2d (Conv2D)              (None, 26, 26, 32)        320       \n",
            "_________________________________________________________________\n",
            "max_pooling2d (MaxPooling2D) (None, 13, 13, 32)        0         \n",
            "_________________________________________________________________\n",
            "conv2d_1 (Conv2D)            (None, 11, 11, 64)        18496     \n",
            "_________________________________________________________________\n",
            "max_pooling2d_1 (MaxPooling2 (None, 5, 5, 64)          0         \n",
            "_________________________________________________________________\n",
            "conv2d_2 (Conv2D)            (None, 3, 3, 128)         73856     \n",
            "_________________________________________________________________\n",
            "flatten (Flatten)            (None, 1152)              0         \n",
            "_________________________________________________________________\n",
            "dense (Dense)                (None, 128)               147584    \n",
            "_________________________________________________________________\n",
            "dense_1 (Dense)              (None, 10)                1290      \n",
            "=================================================================\n",
            "Total params: 241,546\n",
            "Trainable params: 241,546\n",
            "Non-trainable params: 0\n",
            "_________________________________________________________________\n"
          ]
        }
      ],
      "source": [
        "model.summary()"
      ]
    },
    {
      "cell_type": "markdown",
      "metadata": {
        "_uuid": "47062fcbe61fdc131bdc369428415c483167d046",
        "id": "Xw7xcKgTwej_"
      },
      "source": [
        "Let's also plot the model"
      ]
    },
    {
      "cell_type": "code",
      "execution_count": null,
      "metadata": {
        "_uuid": "a9863ccbdc1a3f9d03fc6f3dbbd3f2713995d03e",
        "id": "ffKH0iH7wej_"
      },
      "outputs": [],
      "source": [
        "# plot_model(model, to_file='model.png')\n",
        "# SVG(model_to_dot(model).create(prog='dot', format='svg'))"
      ]
    },
    {
      "cell_type": "markdown",
      "metadata": {
        "_uuid": "68a2e932241f29e52a3150b3fcf3fe9c21243be2",
        "id": "iKDZd3kMwej_"
      },
      "source": [
        "### Run the model\n",
        "\n",
        "We run the model with the training set. We are also using the validation set (a subset from the orginal training set) for validation."
      ]
    },
    {
      "cell_type": "code",
      "execution_count": null,
      "metadata": {
        "_uuid": "400494b7e0525069175625422e8c300bd7b41c51",
        "colab": {
          "base_uri": "https://localhost:8080/"
        },
        "id": "shW2Er82wekA",
        "outputId": "a04ff004-6704-481b-af63-6e227e8edf46",
        "scrolled": true
      },
      "outputs": [
        {
          "name": "stdout",
          "output_type": "stream",
          "text": [
            "Epoch 1/50\n",
            "375/375 [==============================] - 58s 154ms/step - loss: 0.5565 - accuracy: 0.7973 - val_loss: 0.3775 - val_accuracy: 0.8627\n",
            "Epoch 2/50\n",
            "375/375 [==============================] - 44s 117ms/step - loss: 0.3520 - accuracy: 0.8723 - val_loss: 0.3487 - val_accuracy: 0.8746\n",
            "Epoch 3/50\n",
            "375/375 [==============================] - 44s 118ms/step - loss: 0.2998 - accuracy: 0.8903 - val_loss: 0.2977 - val_accuracy: 0.8927\n",
            "Epoch 4/50\n",
            "375/375 [==============================] - 44s 116ms/step - loss: 0.2630 - accuracy: 0.9040 - val_loss: 0.2908 - val_accuracy: 0.8973\n",
            "Epoch 5/50\n",
            "375/375 [==============================] - 47s 124ms/step - loss: 0.2365 - accuracy: 0.9124 - val_loss: 0.2881 - val_accuracy: 0.8957\n",
            "Epoch 6/50\n",
            "375/375 [==============================] - 44s 117ms/step - loss: 0.2129 - accuracy: 0.9217 - val_loss: 0.2688 - val_accuracy: 0.9082\n",
            "Epoch 7/50\n",
            "375/375 [==============================] - 44s 117ms/step - loss: 0.1909 - accuracy: 0.9297 - val_loss: 0.2650 - val_accuracy: 0.9079\n",
            "Epoch 8/50\n",
            "375/375 [==============================] - 44s 118ms/step - loss: 0.1757 - accuracy: 0.9350 - val_loss: 0.2865 - val_accuracy: 0.9064\n",
            "Epoch 9/50\n",
            "375/375 [==============================] - 44s 117ms/step - loss: 0.1534 - accuracy: 0.9432 - val_loss: 0.2726 - val_accuracy: 0.9091\n",
            "Epoch 10/50\n",
            "375/375 [==============================] - 44s 117ms/step - loss: 0.1402 - accuracy: 0.9475 - val_loss: 0.2876 - val_accuracy: 0.9045\n",
            "Epoch 11/50\n",
            "375/375 [==============================] - 44s 117ms/step - loss: 0.1244 - accuracy: 0.9552 - val_loss: 0.2929 - val_accuracy: 0.9070\n",
            "Epoch 12/50\n",
            "375/375 [==============================] - 44s 118ms/step - loss: 0.1128 - accuracy: 0.9584 - val_loss: 0.2901 - val_accuracy: 0.9137\n",
            "Epoch 13/50\n",
            "375/375 [==============================] - 44s 116ms/step - loss: 0.0993 - accuracy: 0.9634 - val_loss: 0.2917 - val_accuracy: 0.9135\n",
            "Epoch 14/50\n",
            "375/375 [==============================] - 44s 116ms/step - loss: 0.0875 - accuracy: 0.9680 - val_loss: 0.3188 - val_accuracy: 0.9109\n",
            "Epoch 15/50\n",
            "375/375 [==============================] - 44s 116ms/step - loss: 0.0763 - accuracy: 0.9720 - val_loss: 0.3431 - val_accuracy: 0.9087\n",
            "Epoch 16/50\n",
            "375/375 [==============================] - 43s 116ms/step - loss: 0.0689 - accuracy: 0.9757 - val_loss: 0.3787 - val_accuracy: 0.9070\n",
            "Epoch 17/50\n",
            "375/375 [==============================] - 43s 116ms/step - loss: 0.0610 - accuracy: 0.9778 - val_loss: 0.3732 - val_accuracy: 0.9087\n",
            "Epoch 18/50\n",
            "375/375 [==============================] - 44s 119ms/step - loss: 0.0559 - accuracy: 0.9795 - val_loss: 0.3780 - val_accuracy: 0.9124\n",
            "Epoch 19/50\n",
            "375/375 [==============================] - 45s 120ms/step - loss: 0.0457 - accuracy: 0.9842 - val_loss: 0.3864 - val_accuracy: 0.9090\n",
            "Epoch 20/50\n",
            "375/375 [==============================] - 43s 116ms/step - loss: 0.0471 - accuracy: 0.9833 - val_loss: 0.4810 - val_accuracy: 0.8995\n",
            "Epoch 21/50\n",
            "375/375 [==============================] - 44s 116ms/step - loss: 0.0429 - accuracy: 0.9841 - val_loss: 0.4358 - val_accuracy: 0.9105\n",
            "Epoch 22/50\n",
            "375/375 [==============================] - 44s 116ms/step - loss: 0.0394 - accuracy: 0.9857 - val_loss: 0.4490 - val_accuracy: 0.9074\n",
            "Epoch 23/50\n",
            "375/375 [==============================] - 44s 117ms/step - loss: 0.0320 - accuracy: 0.9887 - val_loss: 0.4922 - val_accuracy: 0.9079\n",
            "Epoch 24/50\n",
            "375/375 [==============================] - 45s 119ms/step - loss: 0.0357 - accuracy: 0.9867 - val_loss: 0.5301 - val_accuracy: 0.9061\n",
            "Epoch 25/50\n",
            "375/375 [==============================] - 44s 116ms/step - loss: 0.0310 - accuracy: 0.9891 - val_loss: 0.5135 - val_accuracy: 0.9086\n",
            "Epoch 26/50\n",
            "375/375 [==============================] - 44s 116ms/step - loss: 0.0259 - accuracy: 0.9914 - val_loss: 0.5315 - val_accuracy: 0.9058\n",
            "Epoch 27/50\n",
            "375/375 [==============================] - 44s 116ms/step - loss: 0.0287 - accuracy: 0.9899 - val_loss: 0.5217 - val_accuracy: 0.9074\n",
            "Epoch 28/50\n",
            "375/375 [==============================] - 44s 116ms/step - loss: 0.0252 - accuracy: 0.9908 - val_loss: 0.5510 - val_accuracy: 0.9055\n",
            "Epoch 29/50\n",
            "375/375 [==============================] - 44s 116ms/step - loss: 0.0221 - accuracy: 0.9923 - val_loss: 0.5983 - val_accuracy: 0.9028\n",
            "Epoch 30/50\n",
            "375/375 [==============================] - 44s 116ms/step - loss: 0.0305 - accuracy: 0.9891 - val_loss: 0.5681 - val_accuracy: 0.9074\n",
            "Epoch 31/50\n",
            "375/375 [==============================] - 44s 118ms/step - loss: 0.0233 - accuracy: 0.9914 - val_loss: 0.6218 - val_accuracy: 0.9057\n",
            "Epoch 32/50\n",
            "375/375 [==============================] - 44s 117ms/step - loss: 0.0210 - accuracy: 0.9925 - val_loss: 0.5952 - val_accuracy: 0.9110\n",
            "Epoch 33/50\n",
            "375/375 [==============================] - 44s 116ms/step - loss: 0.0204 - accuracy: 0.9928 - val_loss: 0.6295 - val_accuracy: 0.9055\n",
            "Epoch 34/50\n",
            "375/375 [==============================] - 44s 116ms/step - loss: 0.0262 - accuracy: 0.9906 - val_loss: 0.6298 - val_accuracy: 0.9064\n",
            "Epoch 35/50\n",
            "375/375 [==============================] - 43s 115ms/step - loss: 0.0162 - accuracy: 0.9943 - val_loss: 0.7001 - val_accuracy: 0.9049\n",
            "Epoch 36/50\n",
            "375/375 [==============================] - 43s 115ms/step - loss: 0.0206 - accuracy: 0.9925 - val_loss: 0.6375 - val_accuracy: 0.9090\n",
            "Epoch 37/50\n",
            "375/375 [==============================] - 44s 117ms/step - loss: 0.0161 - accuracy: 0.9941 - val_loss: 0.6683 - val_accuracy: 0.9105\n",
            "Epoch 38/50\n",
            "375/375 [==============================] - 44s 116ms/step - loss: 0.0125 - accuracy: 0.9958 - val_loss: 0.6929 - val_accuracy: 0.9078\n",
            "Epoch 39/50\n",
            "375/375 [==============================] - 44s 116ms/step - loss: 0.0264 - accuracy: 0.9908 - val_loss: 0.6211 - val_accuracy: 0.9017\n",
            "Epoch 40/50\n",
            "375/375 [==============================] - 43s 115ms/step - loss: 0.0184 - accuracy: 0.9937 - val_loss: 0.6649 - val_accuracy: 0.9069\n",
            "Epoch 41/50\n",
            "375/375 [==============================] - 43s 115ms/step - loss: 0.0157 - accuracy: 0.9947 - val_loss: 0.6960 - val_accuracy: 0.9053\n",
            "Epoch 42/50\n",
            "375/375 [==============================] - 43s 115ms/step - loss: 0.0098 - accuracy: 0.9969 - val_loss: 0.6836 - val_accuracy: 0.9072\n",
            "Epoch 43/50\n",
            "375/375 [==============================] - 44s 117ms/step - loss: 0.0148 - accuracy: 0.9947 - val_loss: 0.7052 - val_accuracy: 0.9100\n",
            "Epoch 44/50\n",
            "375/375 [==============================] - 43s 115ms/step - loss: 0.0157 - accuracy: 0.9942 - val_loss: 0.6957 - val_accuracy: 0.9078\n",
            "Epoch 45/50\n",
            "375/375 [==============================] - 43s 115ms/step - loss: 0.0186 - accuracy: 0.9935 - val_loss: 0.6914 - val_accuracy: 0.9093\n",
            "Epoch 46/50\n",
            "375/375 [==============================] - 43s 116ms/step - loss: 0.0208 - accuracy: 0.9927 - val_loss: 0.7017 - val_accuracy: 0.9087\n",
            "Epoch 47/50\n",
            "375/375 [==============================] - 43s 116ms/step - loss: 0.0140 - accuracy: 0.9951 - val_loss: 0.7146 - val_accuracy: 0.9045\n",
            "Epoch 48/50\n",
            "375/375 [==============================] - 43s 116ms/step - loss: 0.0157 - accuracy: 0.9946 - val_loss: 0.7837 - val_accuracy: 0.9042\n",
            "Epoch 49/50\n",
            "375/375 [==============================] - 43s 116ms/step - loss: 0.0144 - accuracy: 0.9950 - val_loss: 0.7416 - val_accuracy: 0.9081\n",
            "Epoch 50/50\n",
            "375/375 [==============================] - 44s 117ms/step - loss: 0.0186 - accuracy: 0.9938 - val_loss: 0.7561 - val_accuracy: 0.9025\n"
          ]
        }
      ],
      "source": [
        "train_model = model.fit(X_train, y_train,\n",
        "                  batch_size=BATCH_SIZE,\n",
        "                  epochs=NO_EPOCHS,\n",
        "                  verbose=1,\n",
        "                  validation_data=(X_val, y_val))"
      ]
    },
    {
      "cell_type": "markdown",
      "metadata": {
        "_uuid": "8346a686cce7c75ab6d3c1f496aaa25b8a2f96d7",
        "id": "C2dnxlfPwekA"
      },
      "source": []
    },
    {
      "cell_type": "markdown",
      "metadata": {
        "_uuid": "8699df44bc0a95f1a43a201d3dd566746d87173f",
        "id": "FJ-u7HEBwekA"
      },
      "source": [
        "## <a id=\"53\">Test prediction accuracy</a>\n",
        "\n",
        "We calculate the test loss and accuracy."
      ]
    },
    {
      "cell_type": "code",
      "execution_count": null,
      "metadata": {
        "_uuid": "b9e2bb7f25b02d491e34dd0d6d05943e287ae369",
        "colab": {
          "base_uri": "https://localhost:8080/"
        },
        "id": "F_gn5qFUwekA",
        "outputId": "6345e097-f927-4891-e02e-86aaacf1401b"
      },
      "outputs": [
        {
          "name": "stdout",
          "output_type": "stream",
          "text": [
            "Test loss: 0.6394365429878235\n",
            "Test accuracy: 0.9100000262260437\n"
          ]
        }
      ],
      "source": [
        "score = model.evaluate(X_test, y_test, verbose=0)\n",
        "print('Test loss:', score[0])\n",
        "print('Test accuracy:', score[1])"
      ]
    },
    {
      "cell_type": "markdown",
      "metadata": {
        "_uuid": "4d779b0e47b8263370031c292a231b69decad374",
        "id": "zGwill1GwekB"
      },
      "source": [
        "Test accuracy is  around  0.91.\n",
        "\n",
        "We evaluated the model accuracy based on the predicted values for the test set.  Let's check the validation value during training.\n",
        "\n"
      ]
    },
    {
      "cell_type": "markdown",
      "metadata": {
        "_uuid": "2b08e362a264d65687c49919f477e5d11c84d658",
        "id": "0ZZQC1E2wekB"
      },
      "source": [
        "## <a id=\"53\">Validation accuracy and loss</a>\n",
        "\n",
        "Let's plot the train and validation accuracy and loss, from the train history."
      ]
    },
    {
      "cell_type": "code",
      "execution_count": null,
      "metadata": {
        "_uuid": "c034e2f70f0a26f453a764cd3dc6bbdebb3c4c53",
        "colab": {
          "base_uri": "https://localhost:8080/",
          "height": 542
        },
        "id": "h534CVZCwekB",
        "outputId": "410bed69-57c2-49d3-f263-598426434d05"
      },
      "outputs": [
        {
          "data": {
            "application/vnd.plotly.v1+json": {
              "config": {
                "linkText": "Export to plot.ly",
                "plotlyServerURL": "https://plot.ly",
                "showLink": false
              },
              "data": [
                {
                  "marker": {
                    "color": "Green"
                  },
                  "mode": "markers+lines",
                  "name": "Training accuracy",
                  "text": [
                    "1",
                    "2",
                    "3",
                    "4",
                    "5",
                    "6",
                    "7",
                    "8",
                    "9",
                    "10",
                    "11",
                    "12",
                    "13",
                    "14",
                    "15",
                    "16",
                    "17",
                    "18",
                    "19",
                    "20",
                    "21",
                    "22",
                    "23",
                    "24",
                    "25",
                    "26",
                    "27",
                    "28",
                    "29",
                    "30",
                    "31",
                    "32",
                    "33",
                    "34",
                    "35",
                    "36",
                    "37",
                    "38",
                    "39",
                    "40",
                    "41",
                    "42",
                    "43",
                    "44",
                    "45",
                    "46",
                    "47",
                    "48",
                    "49",
                    "50"
                  ],
                  "type": "scatter",
                  "x": [
                    1,
                    2,
                    3,
                    4,
                    5,
                    6,
                    7,
                    8,
                    9,
                    10,
                    11,
                    12,
                    13,
                    14,
                    15,
                    16,
                    17,
                    18,
                    19,
                    20,
                    21,
                    22,
                    23,
                    24,
                    25,
                    26,
                    27,
                    28,
                    29,
                    30,
                    31,
                    32,
                    33,
                    34,
                    35,
                    36,
                    37,
                    38,
                    39,
                    40,
                    41,
                    42,
                    43,
                    44,
                    45,
                    46,
                    47,
                    48,
                    49,
                    50
                  ],
                  "xaxis": "x",
                  "y": [
                    0.7973333597183228,
                    0.8723333477973938,
                    0.890250027179718,
                    0.9039791822433472,
                    0.9124374985694885,
                    0.921708345413208,
                    0.929729163646698,
                    0.9350000023841858,
                    0.9431666731834412,
                    0.9474999904632568,
                    0.9552083611488342,
                    0.9583958387374878,
                    0.9634374976158142,
                    0.9679999947547913,
                    0.972041666507721,
                    0.9756875038146973,
                    0.9778333306312561,
                    0.9795416593551636,
                    0.98416668176651,
                    0.9833124876022339,
                    0.9841041564941406,
                    0.9857291579246521,
                    0.9887083172798157,
                    0.9867291450500488,
                    0.9890833497047424,
                    0.9913750290870667,
                    0.9898750185966492,
                    0.9907708168029785,
                    0.9923333525657654,
                    0.989104151725769,
                    0.9913750290870667,
                    0.9924583435058594,
                    0.9928333163261414,
                    0.9905833601951599,
                    0.9942708611488342,
                    0.992479145526886,
                    0.9941250085830688,
                    0.9958124756813049,
                    0.9907708168029785,
                    0.9937291741371155,
                    0.9947291612625122,
                    0.996874988079071,
                    0.9947291612625122,
                    0.9942499995231628,
                    0.9934999942779541,
                    0.9927083253860474,
                    0.9951249957084656,
                    0.9945833086967468,
                    0.9950208067893982,
                    0.9938333630561829
                  ],
                  "yaxis": "y"
                },
                {
                  "marker": {
                    "color": "Red"
                  },
                  "mode": "markers+lines",
                  "name": "Validation accuracy",
                  "text": [
                    "1",
                    "2",
                    "3",
                    "4",
                    "5",
                    "6",
                    "7",
                    "8",
                    "9",
                    "10",
                    "11",
                    "12",
                    "13",
                    "14",
                    "15",
                    "16",
                    "17",
                    "18",
                    "19",
                    "20",
                    "21",
                    "22",
                    "23",
                    "24",
                    "25",
                    "26",
                    "27",
                    "28",
                    "29",
                    "30",
                    "31",
                    "32",
                    "33",
                    "34",
                    "35",
                    "36",
                    "37",
                    "38",
                    "39",
                    "40",
                    "41",
                    "42",
                    "43",
                    "44",
                    "45",
                    "46",
                    "47",
                    "48",
                    "49",
                    "50"
                  ],
                  "type": "scatter",
                  "x": [
                    1,
                    2,
                    3,
                    4,
                    5,
                    6,
                    7,
                    8,
                    9,
                    10,
                    11,
                    12,
                    13,
                    14,
                    15,
                    16,
                    17,
                    18,
                    19,
                    20,
                    21,
                    22,
                    23,
                    24,
                    25,
                    26,
                    27,
                    28,
                    29,
                    30,
                    31,
                    32,
                    33,
                    34,
                    35,
                    36,
                    37,
                    38,
                    39,
                    40,
                    41,
                    42,
                    43,
                    44,
                    45,
                    46,
                    47,
                    48,
                    49,
                    50
                  ],
                  "xaxis": "x",
                  "y": [
                    0.862666666507721,
                    0.8745833039283752,
                    0.8926666378974915,
                    0.8973333239555359,
                    0.8957499861717224,
                    0.9081666469573975,
                    0.9079166650772095,
                    0.906416654586792,
                    0.9090833067893982,
                    0.9045000076293945,
                    0.9070000052452087,
                    0.9137499928474426,
                    0.9135000109672546,
                    0.9109166860580444,
                    0.9086666703224182,
                    0.9070000052452087,
                    0.9086666703224182,
                    0.9124166369438171,
                    0.9089999794960022,
                    0.8995000123977661,
                    0.9104999899864197,
                    0.9074166417121887,
                    0.9079166650772095,
                    0.906083345413208,
                    0.9085833430290222,
                    0.9058333039283752,
                    0.9074166417121887,
                    0.9054999947547913,
                    0.9028333425521851,
                    0.9074166417121887,
                    0.9056666493415833,
                    0.9110000133514404,
                    0.9054999947547913,
                    0.906416654586792,
                    0.9049166440963745,
                    0.9089999794960022,
                    0.9104999899864197,
                    0.9077500104904175,
                    0.9016666412353516,
                    0.9069166779518127,
                    0.9052500128746033,
                    0.9071666598320007,
                    0.9100000262260437,
                    0.9077500104904175,
                    0.909250020980835,
                    0.9087499976158142,
                    0.9045000076293945,
                    0.9041666388511658,
                    0.9080833196640015,
                    0.9024999737739563
                  ],
                  "yaxis": "y"
                },
                {
                  "marker": {
                    "color": "Blue"
                  },
                  "mode": "markers+lines",
                  "name": "Training loss",
                  "text": [
                    "1",
                    "2",
                    "3",
                    "4",
                    "5",
                    "6",
                    "7",
                    "8",
                    "9",
                    "10",
                    "11",
                    "12",
                    "13",
                    "14",
                    "15",
                    "16",
                    "17",
                    "18",
                    "19",
                    "20",
                    "21",
                    "22",
                    "23",
                    "24",
                    "25",
                    "26",
                    "27",
                    "28",
                    "29",
                    "30",
                    "31",
                    "32",
                    "33",
                    "34",
                    "35",
                    "36",
                    "37",
                    "38",
                    "39",
                    "40",
                    "41",
                    "42",
                    "43",
                    "44",
                    "45",
                    "46",
                    "47",
                    "48",
                    "49",
                    "50"
                  ],
                  "type": "scatter",
                  "x": [
                    1,
                    2,
                    3,
                    4,
                    5,
                    6,
                    7,
                    8,
                    9,
                    10,
                    11,
                    12,
                    13,
                    14,
                    15,
                    16,
                    17,
                    18,
                    19,
                    20,
                    21,
                    22,
                    23,
                    24,
                    25,
                    26,
                    27,
                    28,
                    29,
                    30,
                    31,
                    32,
                    33,
                    34,
                    35,
                    36,
                    37,
                    38,
                    39,
                    40,
                    41,
                    42,
                    43,
                    44,
                    45,
                    46,
                    47,
                    48,
                    49,
                    50
                  ],
                  "xaxis": "x2",
                  "y": [
                    0.5564606189727783,
                    0.35199010372161865,
                    0.2998215854167938,
                    0.26299628615379333,
                    0.23645776510238647,
                    0.21290265023708344,
                    0.1909112185239792,
                    0.17570669949054718,
                    0.15342241525650024,
                    0.14018207788467407,
                    0.12436990439891815,
                    0.11284718662500381,
                    0.09926476329565048,
                    0.08745023608207703,
                    0.0763063132762909,
                    0.06892069429159164,
                    0.06097044795751572,
                    0.05593590810894966,
                    0.04566367715597153,
                    0.0471288338303566,
                    0.04290179908275604,
                    0.03937944397330284,
                    0.03199337050318718,
                    0.03573523461818695,
                    0.03100363351404667,
                    0.025932906195521355,
                    0.028658846393227577,
                    0.02522359788417816,
                    0.022113410755991936,
                    0.03052389807999134,
                    0.02330835722386837,
                    0.021030420437455177,
                    0.02044857107102871,
                    0.026153914630413055,
                    0.0161526370793581,
                    0.020584970712661743,
                    0.016066059470176697,
                    0.012539339251816273,
                    0.026414884254336357,
                    0.018418870866298676,
                    0.015697449445724487,
                    0.00976975355297327,
                    0.01475538033992052,
                    0.015718158334493637,
                    0.01864236779510975,
                    0.020782705396413803,
                    0.013997797854244709,
                    0.015748754143714905,
                    0.014446348883211613,
                    0.01863015443086624
                  ],
                  "yaxis": "y2"
                },
                {
                  "marker": {
                    "color": "Magenta"
                  },
                  "mode": "markers+lines",
                  "name": "Validation loss",
                  "text": [
                    "1",
                    "2",
                    "3",
                    "4",
                    "5",
                    "6",
                    "7",
                    "8",
                    "9",
                    "10",
                    "11",
                    "12",
                    "13",
                    "14",
                    "15",
                    "16",
                    "17",
                    "18",
                    "19",
                    "20",
                    "21",
                    "22",
                    "23",
                    "24",
                    "25",
                    "26",
                    "27",
                    "28",
                    "29",
                    "30",
                    "31",
                    "32",
                    "33",
                    "34",
                    "35",
                    "36",
                    "37",
                    "38",
                    "39",
                    "40",
                    "41",
                    "42",
                    "43",
                    "44",
                    "45",
                    "46",
                    "47",
                    "48",
                    "49",
                    "50"
                  ],
                  "type": "scatter",
                  "x": [
                    1,
                    2,
                    3,
                    4,
                    5,
                    6,
                    7,
                    8,
                    9,
                    10,
                    11,
                    12,
                    13,
                    14,
                    15,
                    16,
                    17,
                    18,
                    19,
                    20,
                    21,
                    22,
                    23,
                    24,
                    25,
                    26,
                    27,
                    28,
                    29,
                    30,
                    31,
                    32,
                    33,
                    34,
                    35,
                    36,
                    37,
                    38,
                    39,
                    40,
                    41,
                    42,
                    43,
                    44,
                    45,
                    46,
                    47,
                    48,
                    49,
                    50
                  ],
                  "xaxis": "x2",
                  "y": [
                    0.3774532973766327,
                    0.3486771285533905,
                    0.2976570725440979,
                    0.2907525300979614,
                    0.28807497024536133,
                    0.2687738239765167,
                    0.26498332619667053,
                    0.2865261435508728,
                    0.2725887894630432,
                    0.28764158487319946,
                    0.29291942715644836,
                    0.29014861583709717,
                    0.2917361557483673,
                    0.31875285506248474,
                    0.3430727422237396,
                    0.3786885142326355,
                    0.37319937348365784,
                    0.37800687551498413,
                    0.3864499628543854,
                    0.4810013771057129,
                    0.4358040690422058,
                    0.4489794075489044,
                    0.4922066926956177,
                    0.5301083922386169,
                    0.513466477394104,
                    0.5315216183662415,
                    0.5216643214225769,
                    0.5510205626487732,
                    0.598284125328064,
                    0.5680669546127319,
                    0.6217545866966248,
                    0.5952193737030029,
                    0.6294657588005066,
                    0.6297760009765625,
                    0.7000967860221863,
                    0.6375271677970886,
                    0.6682833433151245,
                    0.692884087562561,
                    0.621118426322937,
                    0.6648761034011841,
                    0.6960428357124329,
                    0.6835746169090271,
                    0.7052295804023743,
                    0.6957321763038635,
                    0.6914052963256836,
                    0.7017494440078735,
                    0.7146444320678711,
                    0.7836836576461792,
                    0.7416080832481384,
                    0.7561047077178955
                  ],
                  "yaxis": "y2"
                }
              ],
              "layout": {
                "annotations": [
                  {
                    "font": {
                      "size": 16
                    },
                    "showarrow": false,
                    "text": "Training and validation accuracy",
                    "x": 0.225,
                    "xanchor": "center",
                    "xref": "paper",
                    "y": 1,
                    "yanchor": "bottom",
                    "yref": "paper"
                  },
                  {
                    "font": {
                      "size": 16
                    },
                    "showarrow": false,
                    "text": "Training and validation loss",
                    "x": 0.775,
                    "xanchor": "center",
                    "xref": "paper",
                    "y": 1,
                    "yanchor": "bottom",
                    "yref": "paper"
                  }
                ],
                "template": {
                  "data": {
                    "bar": [
                      {
                        "error_x": {
                          "color": "#2a3f5f"
                        },
                        "error_y": {
                          "color": "#2a3f5f"
                        },
                        "marker": {
                          "line": {
                            "color": "#E5ECF6",
                            "width": 0.5
                          },
                          "pattern": {
                            "fillmode": "overlay",
                            "size": 10,
                            "solidity": 0.2
                          }
                        },
                        "type": "bar"
                      }
                    ],
                    "barpolar": [
                      {
                        "marker": {
                          "line": {
                            "color": "#E5ECF6",
                            "width": 0.5
                          },
                          "pattern": {
                            "fillmode": "overlay",
                            "size": 10,
                            "solidity": 0.2
                          }
                        },
                        "type": "barpolar"
                      }
                    ],
                    "carpet": [
                      {
                        "aaxis": {
                          "endlinecolor": "#2a3f5f",
                          "gridcolor": "white",
                          "linecolor": "white",
                          "minorgridcolor": "white",
                          "startlinecolor": "#2a3f5f"
                        },
                        "baxis": {
                          "endlinecolor": "#2a3f5f",
                          "gridcolor": "white",
                          "linecolor": "white",
                          "minorgridcolor": "white",
                          "startlinecolor": "#2a3f5f"
                        },
                        "type": "carpet"
                      }
                    ],
                    "choropleth": [
                      {
                        "colorbar": {
                          "outlinewidth": 0,
                          "ticks": ""
                        },
                        "type": "choropleth"
                      }
                    ],
                    "contour": [
                      {
                        "colorbar": {
                          "outlinewidth": 0,
                          "ticks": ""
                        },
                        "colorscale": [
                          [
                            0,
                            "#0d0887"
                          ],
                          [
                            0.1111111111111111,
                            "#46039f"
                          ],
                          [
                            0.2222222222222222,
                            "#7201a8"
                          ],
                          [
                            0.3333333333333333,
                            "#9c179e"
                          ],
                          [
                            0.4444444444444444,
                            "#bd3786"
                          ],
                          [
                            0.5555555555555556,
                            "#d8576b"
                          ],
                          [
                            0.6666666666666666,
                            "#ed7953"
                          ],
                          [
                            0.7777777777777778,
                            "#fb9f3a"
                          ],
                          [
                            0.8888888888888888,
                            "#fdca26"
                          ],
                          [
                            1,
                            "#f0f921"
                          ]
                        ],
                        "type": "contour"
                      }
                    ],
                    "contourcarpet": [
                      {
                        "colorbar": {
                          "outlinewidth": 0,
                          "ticks": ""
                        },
                        "type": "contourcarpet"
                      }
                    ],
                    "heatmap": [
                      {
                        "colorbar": {
                          "outlinewidth": 0,
                          "ticks": ""
                        },
                        "colorscale": [
                          [
                            0,
                            "#0d0887"
                          ],
                          [
                            0.1111111111111111,
                            "#46039f"
                          ],
                          [
                            0.2222222222222222,
                            "#7201a8"
                          ],
                          [
                            0.3333333333333333,
                            "#9c179e"
                          ],
                          [
                            0.4444444444444444,
                            "#bd3786"
                          ],
                          [
                            0.5555555555555556,
                            "#d8576b"
                          ],
                          [
                            0.6666666666666666,
                            "#ed7953"
                          ],
                          [
                            0.7777777777777778,
                            "#fb9f3a"
                          ],
                          [
                            0.8888888888888888,
                            "#fdca26"
                          ],
                          [
                            1,
                            "#f0f921"
                          ]
                        ],
                        "type": "heatmap"
                      }
                    ],
                    "heatmapgl": [
                      {
                        "colorbar": {
                          "outlinewidth": 0,
                          "ticks": ""
                        },
                        "colorscale": [
                          [
                            0,
                            "#0d0887"
                          ],
                          [
                            0.1111111111111111,
                            "#46039f"
                          ],
                          [
                            0.2222222222222222,
                            "#7201a8"
                          ],
                          [
                            0.3333333333333333,
                            "#9c179e"
                          ],
                          [
                            0.4444444444444444,
                            "#bd3786"
                          ],
                          [
                            0.5555555555555556,
                            "#d8576b"
                          ],
                          [
                            0.6666666666666666,
                            "#ed7953"
                          ],
                          [
                            0.7777777777777778,
                            "#fb9f3a"
                          ],
                          [
                            0.8888888888888888,
                            "#fdca26"
                          ],
                          [
                            1,
                            "#f0f921"
                          ]
                        ],
                        "type": "heatmapgl"
                      }
                    ],
                    "histogram": [
                      {
                        "marker": {
                          "pattern": {
                            "fillmode": "overlay",
                            "size": 10,
                            "solidity": 0.2
                          }
                        },
                        "type": "histogram"
                      }
                    ],
                    "histogram2d": [
                      {
                        "colorbar": {
                          "outlinewidth": 0,
                          "ticks": ""
                        },
                        "colorscale": [
                          [
                            0,
                            "#0d0887"
                          ],
                          [
                            0.1111111111111111,
                            "#46039f"
                          ],
                          [
                            0.2222222222222222,
                            "#7201a8"
                          ],
                          [
                            0.3333333333333333,
                            "#9c179e"
                          ],
                          [
                            0.4444444444444444,
                            "#bd3786"
                          ],
                          [
                            0.5555555555555556,
                            "#d8576b"
                          ],
                          [
                            0.6666666666666666,
                            "#ed7953"
                          ],
                          [
                            0.7777777777777778,
                            "#fb9f3a"
                          ],
                          [
                            0.8888888888888888,
                            "#fdca26"
                          ],
                          [
                            1,
                            "#f0f921"
                          ]
                        ],
                        "type": "histogram2d"
                      }
                    ],
                    "histogram2dcontour": [
                      {
                        "colorbar": {
                          "outlinewidth": 0,
                          "ticks": ""
                        },
                        "colorscale": [
                          [
                            0,
                            "#0d0887"
                          ],
                          [
                            0.1111111111111111,
                            "#46039f"
                          ],
                          [
                            0.2222222222222222,
                            "#7201a8"
                          ],
                          [
                            0.3333333333333333,
                            "#9c179e"
                          ],
                          [
                            0.4444444444444444,
                            "#bd3786"
                          ],
                          [
                            0.5555555555555556,
                            "#d8576b"
                          ],
                          [
                            0.6666666666666666,
                            "#ed7953"
                          ],
                          [
                            0.7777777777777778,
                            "#fb9f3a"
                          ],
                          [
                            0.8888888888888888,
                            "#fdca26"
                          ],
                          [
                            1,
                            "#f0f921"
                          ]
                        ],
                        "type": "histogram2dcontour"
                      }
                    ],
                    "mesh3d": [
                      {
                        "colorbar": {
                          "outlinewidth": 0,
                          "ticks": ""
                        },
                        "type": "mesh3d"
                      }
                    ],
                    "parcoords": [
                      {
                        "line": {
                          "colorbar": {
                            "outlinewidth": 0,
                            "ticks": ""
                          }
                        },
                        "type": "parcoords"
                      }
                    ],
                    "pie": [
                      {
                        "automargin": true,
                        "type": "pie"
                      }
                    ],
                    "scatter": [
                      {
                        "marker": {
                          "colorbar": {
                            "outlinewidth": 0,
                            "ticks": ""
                          }
                        },
                        "type": "scatter"
                      }
                    ],
                    "scatter3d": [
                      {
                        "line": {
                          "colorbar": {
                            "outlinewidth": 0,
                            "ticks": ""
                          }
                        },
                        "marker": {
                          "colorbar": {
                            "outlinewidth": 0,
                            "ticks": ""
                          }
                        },
                        "type": "scatter3d"
                      }
                    ],
                    "scattercarpet": [
                      {
                        "marker": {
                          "colorbar": {
                            "outlinewidth": 0,
                            "ticks": ""
                          }
                        },
                        "type": "scattercarpet"
                      }
                    ],
                    "scattergeo": [
                      {
                        "marker": {
                          "colorbar": {
                            "outlinewidth": 0,
                            "ticks": ""
                          }
                        },
                        "type": "scattergeo"
                      }
                    ],
                    "scattergl": [
                      {
                        "marker": {
                          "colorbar": {
                            "outlinewidth": 0,
                            "ticks": ""
                          }
                        },
                        "type": "scattergl"
                      }
                    ],
                    "scattermapbox": [
                      {
                        "marker": {
                          "colorbar": {
                            "outlinewidth": 0,
                            "ticks": ""
                          }
                        },
                        "type": "scattermapbox"
                      }
                    ],
                    "scatterpolar": [
                      {
                        "marker": {
                          "colorbar": {
                            "outlinewidth": 0,
                            "ticks": ""
                          }
                        },
                        "type": "scatterpolar"
                      }
                    ],
                    "scatterpolargl": [
                      {
                        "marker": {
                          "colorbar": {
                            "outlinewidth": 0,
                            "ticks": ""
                          }
                        },
                        "type": "scatterpolargl"
                      }
                    ],
                    "scatterternary": [
                      {
                        "marker": {
                          "colorbar": {
                            "outlinewidth": 0,
                            "ticks": ""
                          }
                        },
                        "type": "scatterternary"
                      }
                    ],
                    "surface": [
                      {
                        "colorbar": {
                          "outlinewidth": 0,
                          "ticks": ""
                        },
                        "colorscale": [
                          [
                            0,
                            "#0d0887"
                          ],
                          [
                            0.1111111111111111,
                            "#46039f"
                          ],
                          [
                            0.2222222222222222,
                            "#7201a8"
                          ],
                          [
                            0.3333333333333333,
                            "#9c179e"
                          ],
                          [
                            0.4444444444444444,
                            "#bd3786"
                          ],
                          [
                            0.5555555555555556,
                            "#d8576b"
                          ],
                          [
                            0.6666666666666666,
                            "#ed7953"
                          ],
                          [
                            0.7777777777777778,
                            "#fb9f3a"
                          ],
                          [
                            0.8888888888888888,
                            "#fdca26"
                          ],
                          [
                            1,
                            "#f0f921"
                          ]
                        ],
                        "type": "surface"
                      }
                    ],
                    "table": [
                      {
                        "cells": {
                          "fill": {
                            "color": "#EBF0F8"
                          },
                          "line": {
                            "color": "white"
                          }
                        },
                        "header": {
                          "fill": {
                            "color": "#C8D4E3"
                          },
                          "line": {
                            "color": "white"
                          }
                        },
                        "type": "table"
                      }
                    ]
                  },
                  "layout": {
                    "annotationdefaults": {
                      "arrowcolor": "#2a3f5f",
                      "arrowhead": 0,
                      "arrowwidth": 1
                    },
                    "autotypenumbers": "strict",
                    "coloraxis": {
                      "colorbar": {
                        "outlinewidth": 0,
                        "ticks": ""
                      }
                    },
                    "colorscale": {
                      "diverging": [
                        [
                          0,
                          "#8e0152"
                        ],
                        [
                          0.1,
                          "#c51b7d"
                        ],
                        [
                          0.2,
                          "#de77ae"
                        ],
                        [
                          0.3,
                          "#f1b6da"
                        ],
                        [
                          0.4,
                          "#fde0ef"
                        ],
                        [
                          0.5,
                          "#f7f7f7"
                        ],
                        [
                          0.6,
                          "#e6f5d0"
                        ],
                        [
                          0.7,
                          "#b8e186"
                        ],
                        [
                          0.8,
                          "#7fbc41"
                        ],
                        [
                          0.9,
                          "#4d9221"
                        ],
                        [
                          1,
                          "#276419"
                        ]
                      ],
                      "sequential": [
                        [
                          0,
                          "#0d0887"
                        ],
                        [
                          0.1111111111111111,
                          "#46039f"
                        ],
                        [
                          0.2222222222222222,
                          "#7201a8"
                        ],
                        [
                          0.3333333333333333,
                          "#9c179e"
                        ],
                        [
                          0.4444444444444444,
                          "#bd3786"
                        ],
                        [
                          0.5555555555555556,
                          "#d8576b"
                        ],
                        [
                          0.6666666666666666,
                          "#ed7953"
                        ],
                        [
                          0.7777777777777778,
                          "#fb9f3a"
                        ],
                        [
                          0.8888888888888888,
                          "#fdca26"
                        ],
                        [
                          1,
                          "#f0f921"
                        ]
                      ],
                      "sequentialminus": [
                        [
                          0,
                          "#0d0887"
                        ],
                        [
                          0.1111111111111111,
                          "#46039f"
                        ],
                        [
                          0.2222222222222222,
                          "#7201a8"
                        ],
                        [
                          0.3333333333333333,
                          "#9c179e"
                        ],
                        [
                          0.4444444444444444,
                          "#bd3786"
                        ],
                        [
                          0.5555555555555556,
                          "#d8576b"
                        ],
                        [
                          0.6666666666666666,
                          "#ed7953"
                        ],
                        [
                          0.7777777777777778,
                          "#fb9f3a"
                        ],
                        [
                          0.8888888888888888,
                          "#fdca26"
                        ],
                        [
                          1,
                          "#f0f921"
                        ]
                      ]
                    },
                    "colorway": [
                      "#636efa",
                      "#EF553B",
                      "#00cc96",
                      "#ab63fa",
                      "#FFA15A",
                      "#19d3f3",
                      "#FF6692",
                      "#B6E880",
                      "#FF97FF",
                      "#FECB52"
                    ],
                    "font": {
                      "color": "#2a3f5f"
                    },
                    "geo": {
                      "bgcolor": "white",
                      "lakecolor": "white",
                      "landcolor": "#E5ECF6",
                      "showlakes": true,
                      "showland": true,
                      "subunitcolor": "white"
                    },
                    "hoverlabel": {
                      "align": "left"
                    },
                    "hovermode": "closest",
                    "mapbox": {
                      "style": "light"
                    },
                    "paper_bgcolor": "white",
                    "plot_bgcolor": "#E5ECF6",
                    "polar": {
                      "angularaxis": {
                        "gridcolor": "white",
                        "linecolor": "white",
                        "ticks": ""
                      },
                      "bgcolor": "#E5ECF6",
                      "radialaxis": {
                        "gridcolor": "white",
                        "linecolor": "white",
                        "ticks": ""
                      }
                    },
                    "scene": {
                      "xaxis": {
                        "backgroundcolor": "#E5ECF6",
                        "gridcolor": "white",
                        "gridwidth": 2,
                        "linecolor": "white",
                        "showbackground": true,
                        "ticks": "",
                        "zerolinecolor": "white"
                      },
                      "yaxis": {
                        "backgroundcolor": "#E5ECF6",
                        "gridcolor": "white",
                        "gridwidth": 2,
                        "linecolor": "white",
                        "showbackground": true,
                        "ticks": "",
                        "zerolinecolor": "white"
                      },
                      "zaxis": {
                        "backgroundcolor": "#E5ECF6",
                        "gridcolor": "white",
                        "gridwidth": 2,
                        "linecolor": "white",
                        "showbackground": true,
                        "ticks": "",
                        "zerolinecolor": "white"
                      }
                    },
                    "shapedefaults": {
                      "line": {
                        "color": "#2a3f5f"
                      }
                    },
                    "ternary": {
                      "aaxis": {
                        "gridcolor": "white",
                        "linecolor": "white",
                        "ticks": ""
                      },
                      "baxis": {
                        "gridcolor": "white",
                        "linecolor": "white",
                        "ticks": ""
                      },
                      "bgcolor": "#E5ECF6",
                      "caxis": {
                        "gridcolor": "white",
                        "linecolor": "white",
                        "ticks": ""
                      }
                    },
                    "title": {
                      "x": 0.05
                    },
                    "xaxis": {
                      "automargin": true,
                      "gridcolor": "white",
                      "linecolor": "white",
                      "ticks": "",
                      "title": {
                        "standoff": 15
                      },
                      "zerolinecolor": "white",
                      "zerolinewidth": 2
                    },
                    "yaxis": {
                      "automargin": true,
                      "gridcolor": "white",
                      "linecolor": "white",
                      "ticks": "",
                      "title": {
                        "standoff": 15
                      },
                      "zerolinecolor": "white",
                      "zerolinewidth": 2
                    }
                  }
                },
                "xaxis": {
                  "anchor": "y",
                  "domain": [
                    0,
                    0.45
                  ],
                  "title": {
                    "text": "Epoch"
                  }
                },
                "xaxis2": {
                  "anchor": "y2",
                  "domain": [
                    0.55,
                    1
                  ],
                  "title": {
                    "text": "Epoch"
                  }
                },
                "yaxis": {
                  "anchor": "x",
                  "domain": [
                    0,
                    1
                  ],
                  "range": [
                    0,
                    1
                  ],
                  "title": {
                    "text": "Accuracy"
                  }
                },
                "yaxis2": {
                  "anchor": "x2",
                  "domain": [
                    0,
                    1
                  ],
                  "range": [
                    0,
                    1
                  ],
                  "title": {
                    "text": "Loss"
                  }
                }
              }
            },
            "text/html": [
              "<div>                            <div id=\"d3b8727b-2a4b-40be-af81-c443bb15fc3d\" class=\"plotly-graph-div\" style=\"height:525px; width:100%;\"></div>            <script type=\"text/javascript\">                require([\"plotly\"], function(Plotly) {                    window.PLOTLYENV=window.PLOTLYENV || {};                                    if (document.getElementById(\"d3b8727b-2a4b-40be-af81-c443bb15fc3d\")) {                    Plotly.newPlot(                        \"d3b8727b-2a4b-40be-af81-c443bb15fc3d\",                        [{\"marker\":{\"color\":\"Green\"},\"mode\":\"markers+lines\",\"name\":\"Training accuracy\",\"text\":[\"1\",\"2\",\"3\",\"4\",\"5\",\"6\",\"7\",\"8\",\"9\",\"10\",\"11\",\"12\",\"13\",\"14\",\"15\",\"16\",\"17\",\"18\",\"19\",\"20\",\"21\",\"22\",\"23\",\"24\",\"25\",\"26\",\"27\",\"28\",\"29\",\"30\",\"31\",\"32\",\"33\",\"34\",\"35\",\"36\",\"37\",\"38\",\"39\",\"40\",\"41\",\"42\",\"43\",\"44\",\"45\",\"46\",\"47\",\"48\",\"49\",\"50\"],\"x\":[1,2,3,4,5,6,7,8,9,10,11,12,13,14,15,16,17,18,19,20,21,22,23,24,25,26,27,28,29,30,31,32,33,34,35,36,37,38,39,40,41,42,43,44,45,46,47,48,49,50],\"xaxis\":\"x\",\"y\":[0.7973333597183228,0.8723333477973938,0.890250027179718,0.9039791822433472,0.9124374985694885,0.921708345413208,0.929729163646698,0.9350000023841858,0.9431666731834412,0.9474999904632568,0.9552083611488342,0.9583958387374878,0.9634374976158142,0.9679999947547913,0.972041666507721,0.9756875038146973,0.9778333306312561,0.9795416593551636,0.98416668176651,0.9833124876022339,0.9841041564941406,0.9857291579246521,0.9887083172798157,0.9867291450500488,0.9890833497047424,0.9913750290870667,0.9898750185966492,0.9907708168029785,0.9923333525657654,0.989104151725769,0.9913750290870667,0.9924583435058594,0.9928333163261414,0.9905833601951599,0.9942708611488342,0.992479145526886,0.9941250085830688,0.9958124756813049,0.9907708168029785,0.9937291741371155,0.9947291612625122,0.996874988079071,0.9947291612625122,0.9942499995231628,0.9934999942779541,0.9927083253860474,0.9951249957084656,0.9945833086967468,0.9950208067893982,0.9938333630561829],\"yaxis\":\"y\",\"type\":\"scatter\"},{\"marker\":{\"color\":\"Red\"},\"mode\":\"markers+lines\",\"name\":\"Validation accuracy\",\"text\":[\"1\",\"2\",\"3\",\"4\",\"5\",\"6\",\"7\",\"8\",\"9\",\"10\",\"11\",\"12\",\"13\",\"14\",\"15\",\"16\",\"17\",\"18\",\"19\",\"20\",\"21\",\"22\",\"23\",\"24\",\"25\",\"26\",\"27\",\"28\",\"29\",\"30\",\"31\",\"32\",\"33\",\"34\",\"35\",\"36\",\"37\",\"38\",\"39\",\"40\",\"41\",\"42\",\"43\",\"44\",\"45\",\"46\",\"47\",\"48\",\"49\",\"50\"],\"x\":[1,2,3,4,5,6,7,8,9,10,11,12,13,14,15,16,17,18,19,20,21,22,23,24,25,26,27,28,29,30,31,32,33,34,35,36,37,38,39,40,41,42,43,44,45,46,47,48,49,50],\"xaxis\":\"x\",\"y\":[0.862666666507721,0.8745833039283752,0.8926666378974915,0.8973333239555359,0.8957499861717224,0.9081666469573975,0.9079166650772095,0.906416654586792,0.9090833067893982,0.9045000076293945,0.9070000052452087,0.9137499928474426,0.9135000109672546,0.9109166860580444,0.9086666703224182,0.9070000052452087,0.9086666703224182,0.9124166369438171,0.9089999794960022,0.8995000123977661,0.9104999899864197,0.9074166417121887,0.9079166650772095,0.906083345413208,0.9085833430290222,0.9058333039283752,0.9074166417121887,0.9054999947547913,0.9028333425521851,0.9074166417121887,0.9056666493415833,0.9110000133514404,0.9054999947547913,0.906416654586792,0.9049166440963745,0.9089999794960022,0.9104999899864197,0.9077500104904175,0.9016666412353516,0.9069166779518127,0.9052500128746033,0.9071666598320007,0.9100000262260437,0.9077500104904175,0.909250020980835,0.9087499976158142,0.9045000076293945,0.9041666388511658,0.9080833196640015,0.9024999737739563],\"yaxis\":\"y\",\"type\":\"scatter\"},{\"marker\":{\"color\":\"Blue\"},\"mode\":\"markers+lines\",\"name\":\"Training loss\",\"text\":[\"1\",\"2\",\"3\",\"4\",\"5\",\"6\",\"7\",\"8\",\"9\",\"10\",\"11\",\"12\",\"13\",\"14\",\"15\",\"16\",\"17\",\"18\",\"19\",\"20\",\"21\",\"22\",\"23\",\"24\",\"25\",\"26\",\"27\",\"28\",\"29\",\"30\",\"31\",\"32\",\"33\",\"34\",\"35\",\"36\",\"37\",\"38\",\"39\",\"40\",\"41\",\"42\",\"43\",\"44\",\"45\",\"46\",\"47\",\"48\",\"49\",\"50\"],\"x\":[1,2,3,4,5,6,7,8,9,10,11,12,13,14,15,16,17,18,19,20,21,22,23,24,25,26,27,28,29,30,31,32,33,34,35,36,37,38,39,40,41,42,43,44,45,46,47,48,49,50],\"xaxis\":\"x2\",\"y\":[0.5564606189727783,0.35199010372161865,0.2998215854167938,0.26299628615379333,0.23645776510238647,0.21290265023708344,0.1909112185239792,0.17570669949054718,0.15342241525650024,0.14018207788467407,0.12436990439891815,0.11284718662500381,0.09926476329565048,0.08745023608207703,0.0763063132762909,0.06892069429159164,0.06097044795751572,0.05593590810894966,0.04566367715597153,0.0471288338303566,0.04290179908275604,0.03937944397330284,0.03199337050318718,0.03573523461818695,0.03100363351404667,0.025932906195521355,0.028658846393227577,0.02522359788417816,0.022113410755991936,0.03052389807999134,0.02330835722386837,0.021030420437455177,0.02044857107102871,0.026153914630413055,0.0161526370793581,0.020584970712661743,0.016066059470176697,0.012539339251816273,0.026414884254336357,0.018418870866298676,0.015697449445724487,0.00976975355297327,0.01475538033992052,0.015718158334493637,0.01864236779510975,0.020782705396413803,0.013997797854244709,0.015748754143714905,0.014446348883211613,0.01863015443086624],\"yaxis\":\"y2\",\"type\":\"scatter\"},{\"marker\":{\"color\":\"Magenta\"},\"mode\":\"markers+lines\",\"name\":\"Validation loss\",\"text\":[\"1\",\"2\",\"3\",\"4\",\"5\",\"6\",\"7\",\"8\",\"9\",\"10\",\"11\",\"12\",\"13\",\"14\",\"15\",\"16\",\"17\",\"18\",\"19\",\"20\",\"21\",\"22\",\"23\",\"24\",\"25\",\"26\",\"27\",\"28\",\"29\",\"30\",\"31\",\"32\",\"33\",\"34\",\"35\",\"36\",\"37\",\"38\",\"39\",\"40\",\"41\",\"42\",\"43\",\"44\",\"45\",\"46\",\"47\",\"48\",\"49\",\"50\"],\"x\":[1,2,3,4,5,6,7,8,9,10,11,12,13,14,15,16,17,18,19,20,21,22,23,24,25,26,27,28,29,30,31,32,33,34,35,36,37,38,39,40,41,42,43,44,45,46,47,48,49,50],\"xaxis\":\"x2\",\"y\":[0.3774532973766327,0.3486771285533905,0.2976570725440979,0.2907525300979614,0.28807497024536133,0.2687738239765167,0.26498332619667053,0.2865261435508728,0.2725887894630432,0.28764158487319946,0.29291942715644836,0.29014861583709717,0.2917361557483673,0.31875285506248474,0.3430727422237396,0.3786885142326355,0.37319937348365784,0.37800687551498413,0.3864499628543854,0.4810013771057129,0.4358040690422058,0.4489794075489044,0.4922066926956177,0.5301083922386169,0.513466477394104,0.5315216183662415,0.5216643214225769,0.5510205626487732,0.598284125328064,0.5680669546127319,0.6217545866966248,0.5952193737030029,0.6294657588005066,0.6297760009765625,0.7000967860221863,0.6375271677970886,0.6682833433151245,0.692884087562561,0.621118426322937,0.6648761034011841,0.6960428357124329,0.6835746169090271,0.7052295804023743,0.6957321763038635,0.6914052963256836,0.7017494440078735,0.7146444320678711,0.7836836576461792,0.7416080832481384,0.7561047077178955],\"yaxis\":\"y2\",\"type\":\"scatter\"}],                        {\"annotations\":[{\"font\":{\"size\":16},\"showarrow\":false,\"text\":\"Training and validation accuracy\",\"x\":0.225,\"xanchor\":\"center\",\"xref\":\"paper\",\"y\":1.0,\"yanchor\":\"bottom\",\"yref\":\"paper\"},{\"font\":{\"size\":16},\"showarrow\":false,\"text\":\"Training and validation loss\",\"x\":0.775,\"xanchor\":\"center\",\"xref\":\"paper\",\"y\":1.0,\"yanchor\":\"bottom\",\"yref\":\"paper\"}],\"template\":{\"data\":{\"barpolar\":[{\"marker\":{\"line\":{\"color\":\"#E5ECF6\",\"width\":0.5},\"pattern\":{\"fillmode\":\"overlay\",\"size\":10,\"solidity\":0.2}},\"type\":\"barpolar\"}],\"bar\":[{\"error_x\":{\"color\":\"#2a3f5f\"},\"error_y\":{\"color\":\"#2a3f5f\"},\"marker\":{\"line\":{\"color\":\"#E5ECF6\",\"width\":0.5},\"pattern\":{\"fillmode\":\"overlay\",\"size\":10,\"solidity\":0.2}},\"type\":\"bar\"}],\"carpet\":[{\"aaxis\":{\"endlinecolor\":\"#2a3f5f\",\"gridcolor\":\"white\",\"linecolor\":\"white\",\"minorgridcolor\":\"white\",\"startlinecolor\":\"#2a3f5f\"},\"baxis\":{\"endlinecolor\":\"#2a3f5f\",\"gridcolor\":\"white\",\"linecolor\":\"white\",\"minorgridcolor\":\"white\",\"startlinecolor\":\"#2a3f5f\"},\"type\":\"carpet\"}],\"choropleth\":[{\"colorbar\":{\"outlinewidth\":0,\"ticks\":\"\"},\"type\":\"choropleth\"}],\"contourcarpet\":[{\"colorbar\":{\"outlinewidth\":0,\"ticks\":\"\"},\"type\":\"contourcarpet\"}],\"contour\":[{\"colorbar\":{\"outlinewidth\":0,\"ticks\":\"\"},\"colorscale\":[[0.0,\"#0d0887\"],[0.1111111111111111,\"#46039f\"],[0.2222222222222222,\"#7201a8\"],[0.3333333333333333,\"#9c179e\"],[0.4444444444444444,\"#bd3786\"],[0.5555555555555556,\"#d8576b\"],[0.6666666666666666,\"#ed7953\"],[0.7777777777777778,\"#fb9f3a\"],[0.8888888888888888,\"#fdca26\"],[1.0,\"#f0f921\"]],\"type\":\"contour\"}],\"heatmapgl\":[{\"colorbar\":{\"outlinewidth\":0,\"ticks\":\"\"},\"colorscale\":[[0.0,\"#0d0887\"],[0.1111111111111111,\"#46039f\"],[0.2222222222222222,\"#7201a8\"],[0.3333333333333333,\"#9c179e\"],[0.4444444444444444,\"#bd3786\"],[0.5555555555555556,\"#d8576b\"],[0.6666666666666666,\"#ed7953\"],[0.7777777777777778,\"#fb9f3a\"],[0.8888888888888888,\"#fdca26\"],[1.0,\"#f0f921\"]],\"type\":\"heatmapgl\"}],\"heatmap\":[{\"colorbar\":{\"outlinewidth\":0,\"ticks\":\"\"},\"colorscale\":[[0.0,\"#0d0887\"],[0.1111111111111111,\"#46039f\"],[0.2222222222222222,\"#7201a8\"],[0.3333333333333333,\"#9c179e\"],[0.4444444444444444,\"#bd3786\"],[0.5555555555555556,\"#d8576b\"],[0.6666666666666666,\"#ed7953\"],[0.7777777777777778,\"#fb9f3a\"],[0.8888888888888888,\"#fdca26\"],[1.0,\"#f0f921\"]],\"type\":\"heatmap\"}],\"histogram2dcontour\":[{\"colorbar\":{\"outlinewidth\":0,\"ticks\":\"\"},\"colorscale\":[[0.0,\"#0d0887\"],[0.1111111111111111,\"#46039f\"],[0.2222222222222222,\"#7201a8\"],[0.3333333333333333,\"#9c179e\"],[0.4444444444444444,\"#bd3786\"],[0.5555555555555556,\"#d8576b\"],[0.6666666666666666,\"#ed7953\"],[0.7777777777777778,\"#fb9f3a\"],[0.8888888888888888,\"#fdca26\"],[1.0,\"#f0f921\"]],\"type\":\"histogram2dcontour\"}],\"histogram2d\":[{\"colorbar\":{\"outlinewidth\":0,\"ticks\":\"\"},\"colorscale\":[[0.0,\"#0d0887\"],[0.1111111111111111,\"#46039f\"],[0.2222222222222222,\"#7201a8\"],[0.3333333333333333,\"#9c179e\"],[0.4444444444444444,\"#bd3786\"],[0.5555555555555556,\"#d8576b\"],[0.6666666666666666,\"#ed7953\"],[0.7777777777777778,\"#fb9f3a\"],[0.8888888888888888,\"#fdca26\"],[1.0,\"#f0f921\"]],\"type\":\"histogram2d\"}],\"histogram\":[{\"marker\":{\"pattern\":{\"fillmode\":\"overlay\",\"size\":10,\"solidity\":0.2}},\"type\":\"histogram\"}],\"mesh3d\":[{\"colorbar\":{\"outlinewidth\":0,\"ticks\":\"\"},\"type\":\"mesh3d\"}],\"parcoords\":[{\"line\":{\"colorbar\":{\"outlinewidth\":0,\"ticks\":\"\"}},\"type\":\"parcoords\"}],\"pie\":[{\"automargin\":true,\"type\":\"pie\"}],\"scatter3d\":[{\"line\":{\"colorbar\":{\"outlinewidth\":0,\"ticks\":\"\"}},\"marker\":{\"colorbar\":{\"outlinewidth\":0,\"ticks\":\"\"}},\"type\":\"scatter3d\"}],\"scattercarpet\":[{\"marker\":{\"colorbar\":{\"outlinewidth\":0,\"ticks\":\"\"}},\"type\":\"scattercarpet\"}],\"scattergeo\":[{\"marker\":{\"colorbar\":{\"outlinewidth\":0,\"ticks\":\"\"}},\"type\":\"scattergeo\"}],\"scattergl\":[{\"marker\":{\"colorbar\":{\"outlinewidth\":0,\"ticks\":\"\"}},\"type\":\"scattergl\"}],\"scattermapbox\":[{\"marker\":{\"colorbar\":{\"outlinewidth\":0,\"ticks\":\"\"}},\"type\":\"scattermapbox\"}],\"scatterpolargl\":[{\"marker\":{\"colorbar\":{\"outlinewidth\":0,\"ticks\":\"\"}},\"type\":\"scatterpolargl\"}],\"scatterpolar\":[{\"marker\":{\"colorbar\":{\"outlinewidth\":0,\"ticks\":\"\"}},\"type\":\"scatterpolar\"}],\"scatter\":[{\"marker\":{\"colorbar\":{\"outlinewidth\":0,\"ticks\":\"\"}},\"type\":\"scatter\"}],\"scatterternary\":[{\"marker\":{\"colorbar\":{\"outlinewidth\":0,\"ticks\":\"\"}},\"type\":\"scatterternary\"}],\"surface\":[{\"colorbar\":{\"outlinewidth\":0,\"ticks\":\"\"},\"colorscale\":[[0.0,\"#0d0887\"],[0.1111111111111111,\"#46039f\"],[0.2222222222222222,\"#7201a8\"],[0.3333333333333333,\"#9c179e\"],[0.4444444444444444,\"#bd3786\"],[0.5555555555555556,\"#d8576b\"],[0.6666666666666666,\"#ed7953\"],[0.7777777777777778,\"#fb9f3a\"],[0.8888888888888888,\"#fdca26\"],[1.0,\"#f0f921\"]],\"type\":\"surface\"}],\"table\":[{\"cells\":{\"fill\":{\"color\":\"#EBF0F8\"},\"line\":{\"color\":\"white\"}},\"header\":{\"fill\":{\"color\":\"#C8D4E3\"},\"line\":{\"color\":\"white\"}},\"type\":\"table\"}]},\"layout\":{\"annotationdefaults\":{\"arrowcolor\":\"#2a3f5f\",\"arrowhead\":0,\"arrowwidth\":1},\"autotypenumbers\":\"strict\",\"coloraxis\":{\"colorbar\":{\"outlinewidth\":0,\"ticks\":\"\"}},\"colorscale\":{\"diverging\":[[0,\"#8e0152\"],[0.1,\"#c51b7d\"],[0.2,\"#de77ae\"],[0.3,\"#f1b6da\"],[0.4,\"#fde0ef\"],[0.5,\"#f7f7f7\"],[0.6,\"#e6f5d0\"],[0.7,\"#b8e186\"],[0.8,\"#7fbc41\"],[0.9,\"#4d9221\"],[1,\"#276419\"]],\"sequential\":[[0.0,\"#0d0887\"],[0.1111111111111111,\"#46039f\"],[0.2222222222222222,\"#7201a8\"],[0.3333333333333333,\"#9c179e\"],[0.4444444444444444,\"#bd3786\"],[0.5555555555555556,\"#d8576b\"],[0.6666666666666666,\"#ed7953\"],[0.7777777777777778,\"#fb9f3a\"],[0.8888888888888888,\"#fdca26\"],[1.0,\"#f0f921\"]],\"sequentialminus\":[[0.0,\"#0d0887\"],[0.1111111111111111,\"#46039f\"],[0.2222222222222222,\"#7201a8\"],[0.3333333333333333,\"#9c179e\"],[0.4444444444444444,\"#bd3786\"],[0.5555555555555556,\"#d8576b\"],[0.6666666666666666,\"#ed7953\"],[0.7777777777777778,\"#fb9f3a\"],[0.8888888888888888,\"#fdca26\"],[1.0,\"#f0f921\"]]},\"colorway\":[\"#636efa\",\"#EF553B\",\"#00cc96\",\"#ab63fa\",\"#FFA15A\",\"#19d3f3\",\"#FF6692\",\"#B6E880\",\"#FF97FF\",\"#FECB52\"],\"font\":{\"color\":\"#2a3f5f\"},\"geo\":{\"bgcolor\":\"white\",\"lakecolor\":\"white\",\"landcolor\":\"#E5ECF6\",\"showlakes\":true,\"showland\":true,\"subunitcolor\":\"white\"},\"hoverlabel\":{\"align\":\"left\"},\"hovermode\":\"closest\",\"mapbox\":{\"style\":\"light\"},\"paper_bgcolor\":\"white\",\"plot_bgcolor\":\"#E5ECF6\",\"polar\":{\"angularaxis\":{\"gridcolor\":\"white\",\"linecolor\":\"white\",\"ticks\":\"\"},\"bgcolor\":\"#E5ECF6\",\"radialaxis\":{\"gridcolor\":\"white\",\"linecolor\":\"white\",\"ticks\":\"\"}},\"scene\":{\"xaxis\":{\"backgroundcolor\":\"#E5ECF6\",\"gridcolor\":\"white\",\"gridwidth\":2,\"linecolor\":\"white\",\"showbackground\":true,\"ticks\":\"\",\"zerolinecolor\":\"white\"},\"yaxis\":{\"backgroundcolor\":\"#E5ECF6\",\"gridcolor\":\"white\",\"gridwidth\":2,\"linecolor\":\"white\",\"showbackground\":true,\"ticks\":\"\",\"zerolinecolor\":\"white\"},\"zaxis\":{\"backgroundcolor\":\"#E5ECF6\",\"gridcolor\":\"white\",\"gridwidth\":2,\"linecolor\":\"white\",\"showbackground\":true,\"ticks\":\"\",\"zerolinecolor\":\"white\"}},\"shapedefaults\":{\"line\":{\"color\":\"#2a3f5f\"}},\"ternary\":{\"aaxis\":{\"gridcolor\":\"white\",\"linecolor\":\"white\",\"ticks\":\"\"},\"baxis\":{\"gridcolor\":\"white\",\"linecolor\":\"white\",\"ticks\":\"\"},\"bgcolor\":\"#E5ECF6\",\"caxis\":{\"gridcolor\":\"white\",\"linecolor\":\"white\",\"ticks\":\"\"}},\"title\":{\"x\":0.05},\"xaxis\":{\"automargin\":true,\"gridcolor\":\"white\",\"linecolor\":\"white\",\"ticks\":\"\",\"title\":{\"standoff\":15},\"zerolinecolor\":\"white\",\"zerolinewidth\":2},\"yaxis\":{\"automargin\":true,\"gridcolor\":\"white\",\"linecolor\":\"white\",\"ticks\":\"\",\"title\":{\"standoff\":15},\"zerolinecolor\":\"white\",\"zerolinewidth\":2}}},\"xaxis\":{\"anchor\":\"y\",\"domain\":[0.0,0.45],\"title\":{\"text\":\"Epoch\"}},\"yaxis\":{\"anchor\":\"x\",\"domain\":[0.0,1.0],\"range\":[0,1],\"title\":{\"text\":\"Accuracy\"}},\"xaxis2\":{\"anchor\":\"y2\",\"domain\":[0.55,1.0],\"title\":{\"text\":\"Epoch\"}},\"yaxis2\":{\"anchor\":\"x2\",\"domain\":[0.0,1.0],\"range\":[0,1],\"title\":{\"text\":\"Loss\"}}},                        {\"responsive\": true}                    ).then(function(){\n",
              "                            \n",
              "var gd = document.getElementById('d3b8727b-2a4b-40be-af81-c443bb15fc3d');\n",
              "var x = new MutationObserver(function (mutations, observer) {{\n",
              "        var display = window.getComputedStyle(gd).display;\n",
              "        if (!display || display === 'none') {{\n",
              "            console.log([gd, 'removed!']);\n",
              "            Plotly.purge(gd);\n",
              "            observer.disconnect();\n",
              "        }}\n",
              "}});\n",
              "\n",
              "// Listen for the removal of the full notebook cells\n",
              "var notebookContainer = gd.closest('#notebook-container');\n",
              "if (notebookContainer) {{\n",
              "    x.observe(notebookContainer, {childList: true});\n",
              "}}\n",
              "\n",
              "// Listen for the clearing of the current output cell\n",
              "var outputEl = gd.closest('.output');\n",
              "if (outputEl) {{\n",
              "    x.observe(outputEl, {childList: true});\n",
              "}}\n",
              "\n",
              "                        })                };                });            </script>        </div>"
            ]
          },
          "metadata": {},
          "output_type": "display_data"
        }
      ],
      "source": [
        "from plotly import subplots\n",
        "def create_trace(x,y,ylabel,color):\n",
        "        trace = go.Scatter(\n",
        "            x = x,y = y,\n",
        "            name=ylabel,\n",
        "            marker=dict(color=color),\n",
        "            mode = \"markers+lines\",\n",
        "            text=x\n",
        "        )\n",
        "        return trace\n",
        "    \n",
        "def plot_accuracy_and_loss(train_model):\n",
        "    hist = train_model.history\n",
        "    acc = hist['accuracy']\n",
        "    val_acc = hist['val_accuracy']\n",
        "    loss = hist['loss']\n",
        "    val_loss = hist['val_loss']\n",
        "    epochs = list(range(1,len(acc)+1))\n",
        "    \n",
        "    trace_ta = create_trace(epochs,acc,\"Training accuracy\", \"Green\")\n",
        "    trace_va = create_trace(epochs,val_acc,\"Validation accuracy\", \"Red\")\n",
        "    trace_tl = create_trace(epochs,loss,\"Training loss\", \"Blue\")\n",
        "    trace_vl = create_trace(epochs,val_loss,\"Validation loss\", \"Magenta\")\n",
        "   \n",
        "    fig = subplots.make_subplots(rows=1,cols=2, subplot_titles=('Training and validation accuracy',\n",
        "                                                             'Training and validation loss'))\n",
        "    fig.append_trace(trace_ta,1,1)\n",
        "    fig.append_trace(trace_va,1,1)\n",
        "    fig.append_trace(trace_tl,1,2)\n",
        "    fig.append_trace(trace_vl,1,2)\n",
        "    fig['layout']['xaxis'].update(title = 'Epoch')\n",
        "    fig['layout']['xaxis2'].update(title = 'Epoch')\n",
        "    fig['layout']['yaxis'].update(title = 'Accuracy', range=[0,1])\n",
        "    fig['layout']['yaxis2'].update(title = 'Loss', range=[0,1])\n",
        "\n",
        "    \n",
        "    iplot(fig, filename='accuracy-loss')\n",
        "\n",
        "plot_accuracy_and_loss(train_model)"
      ]
    },
    {
      "cell_type": "code",
      "execution_count": null,
      "metadata": {
        "colab": {
          "base_uri": "https://localhost:8080/",
          "height": 295
        },
        "id": "1LLVxVDJBbTZ",
        "outputId": "b25de4e2-2877-4a4f-e2a4-f58ef5db445f"
      },
      "outputs": [
        {
          "data": {
            "image/png": "[encoded data removed]",
            "text/plain": [
              "<Figure size 432x288 with 1 Axes>"
            ]
          },
          "metadata": {
            "needs_background": "light"
          },
          "output_type": "display_data"
        }
      ],
      "source": [
        "hist = train_model.history\n",
        "\n",
        "# summarize history for accuracy\n",
        "plt.plot(hist['accuracy'])\n",
        "plt.plot(hist['val_accuracy'])\n",
        "plt.title('model accuracy')\n",
        "plt.ylabel('accuracy')\n",
        "plt.xlabel('epoch')\n",
        "plt.legend(['train', 'test'], loc='upper left')\n",
        "plt.show()"
      ]
    },
    {
      "cell_type": "code",
      "execution_count": null,
      "metadata": {
        "colab": {
          "base_uri": "https://localhost:8080/",
          "height": 295
        },
        "id": "vUm2WaHtBtv9",
        "outputId": "5a55970d-c45d-4fd8-9983-c60267bfd56c"
      },
      "outputs": [
        {
          "data": {
            "image/png": "[encoded data removed]",
            "text/plain": [
              "<Figure size 432x288 with 1 Axes>"
            ]
          },
          "metadata": {
            "needs_background": "light"
          },
          "output_type": "display_data"
        }
      ],
      "source": [
        "# summarize history for loss\n",
        "plt.plot(hist['loss'])\n",
        "plt.plot(hist['val_loss'])\n",
        "plt.title('model loss')\n",
        "plt.ylabel('loss')\n",
        "plt.xlabel('epoch')\n",
        "plt.legend(['train', 'test'], loc='upper left')\n",
        "plt.show()"
      ]
    },
    {
      "cell_type": "code",
      "execution_count": null,
      "metadata": {
        "id": "Jme4Vlv_BbKB"
      },
      "outputs": [],
      "source": []
    },
    {
      "cell_type": "markdown",
      "metadata": {
        "_uuid": "678f32a0980699b8aa41a3f98840bcc1eabb2aa8",
        "id": "0NTv8V21wekC"
      },
      "source": [
        "The validation accuracy does not improve after few epochs and the validation loss is increasing after few epochs. This confirms our assumption that the model is overfitted. We will try to improve the model by adding Dropout layers."
      ]
    },
    {
      "cell_type": "markdown",
      "metadata": {
        "_uuid": "5c026022d95d3afefc3e2cf47050c3db5f800ee1",
        "id": "o_BowagnwekC"
      },
      "source": [
        "## <a id=\"55\">Add Dropout layers to the model</a>\n",
        "\n",
        "We add several Dropout layers to the model, to help avoiding overfitting.    \n",
        "Dropout is helping avoid overfitting in several ways, as explained in <a href='#8'>[6]</a> and <a href='#8'>[7]</a>.  \n"
      ]
    },
    {
      "cell_type": "code",
      "execution_count": null,
      "metadata": {
        "_uuid": "6aff87cd33a993a60d701c35026ce8ea19d8665a",
        "id": "OTAn5JW6wekC"
      },
      "outputs": [],
      "source": [
        "# Model\n",
        "model = Sequential()\n",
        "# Add convolution 2D\n",
        "model.add(Conv2D(32, kernel_size=(3, 3),\n",
        "                 activation='relu',\n",
        "                 kernel_initializer='he_normal',\n",
        "                 input_shape=(IMG_ROWS, IMG_COLS, 1)))\n",
        "model.add(MaxPooling2D((2, 2)))\n",
        "# Add dropouts to the model\n",
        "model.add(Dropout(0.25))\n",
        "model.add(Conv2D(64, \n",
        "                 kernel_size=(3, 3), \n",
        "                 activation='relu'))\n",
        "model.add(MaxPooling2D(pool_size=(2, 2)))\n",
        "# Add dropouts to the model\n",
        "model.add(Dropout(0.25))\n",
        "model.add(Conv2D(128, (3, 3), activation='relu'))\n",
        "# Add dropouts to the model\n",
        "model.add(Dropout(0.4))\n",
        "model.add(Flatten())\n",
        "model.add(Dense(128, activation='relu'))\n",
        "# Add dropouts to the model\n",
        "model.add(Dropout(0.3))\n",
        "model.add(Dense(NUM_CLASSES, activation='softmax'))\n",
        "\n",
        "\n",
        "model.compile(loss=keras.losses.categorical_crossentropy,\n",
        "              optimizer='adam',\n",
        "              metrics=['accuracy'])"
      ]
    },
    {
      "cell_type": "markdown",
      "metadata": {
        "_uuid": "46811947e60224235b1ffaed48e7367b3ba68833",
        "id": "8KaGrKIdwekD"
      },
      "source": [
        "## <a id=\"56\">Re-train the model</a>\n",
        "\n",
        "Let's inspect first the model."
      ]
    },
    {
      "cell_type": "code",
      "execution_count": null,
      "metadata": {
        "_uuid": "594c8f00280db3fd6d4719791326d73c4769117d",
        "colab": {
          "base_uri": "https://localhost:8080/"
        },
        "id": "AbsJhil8wekD",
        "outputId": "ac96fe88-d381-4864-bab7-3783c197c443"
      },
      "outputs": [
        {
          "name": "stdout",
          "output_type": "stream",
          "text": [
            "Model: \"sequential_2\"\n",
            "_________________________________________________________________\n",
            "Layer (type)                 Output Shape              Param #   \n",
            "=================================================================\n",
            "conv2d_6 (Conv2D)            (None, 26, 26, 32)        320       \n",
            "_________________________________________________________________\n",
            "max_pooling2d_4 (MaxPooling2 (None, 13, 13, 32)        0         \n",
            "_________________________________________________________________\n",
            "dropout_4 (Dropout)          (None, 13, 13, 32)        0         \n",
            "_________________________________________________________________\n",
            "conv2d_7 (Conv2D)            (None, 11, 11, 64)        18496     \n",
            "_________________________________________________________________\n",
            "max_pooling2d_5 (MaxPooling2 (None, 5, 5, 64)          0         \n",
            "_________________________________________________________________\n",
            "dropout_5 (Dropout)          (None, 5, 5, 64)          0         \n",
            "_________________________________________________________________\n",
            "conv2d_8 (Conv2D)            (None, 3, 3, 128)         73856     \n",
            "_________________________________________________________________\n",
            "dropout_6 (Dropout)          (None, 3, 3, 128)         0         \n",
            "_________________________________________________________________\n",
            "flatten_2 (Flatten)          (None, 1152)              0         \n",
            "_________________________________________________________________\n",
            "dense_4 (Dense)              (None, 128)               147584    \n",
            "_________________________________________________________________\n",
            "dropout_7 (Dropout)          (None, 128)               0         \n",
            "_________________________________________________________________\n",
            "dense_5 (Dense)              (None, 10)                1290      \n",
            "=================================================================\n",
            "Total params: 241,546\n",
            "Trainable params: 241,546\n",
            "Non-trainable params: 0\n",
            "_________________________________________________________________\n"
          ]
        }
      ],
      "source": [
        "model.summary()"
      ]
    },
    {
      "cell_type": "markdown",
      "metadata": {
        "_uuid": "ab0eb83773ab435204faef8c88b609a29feb635e",
        "id": "oJ5uzGrkwekD"
      },
      "source": [
        "Let's also plot the model."
      ]
    },
    {
      "cell_type": "code",
      "execution_count": null,
      "metadata": {
        "_uuid": "6abc11f358fb81d2655f80bea7762546b18dee82",
        "id": "KwJbtlgzwekE"
      },
      "outputs": [],
      "source": [
        "# plot_model(model, to_file='model.png')\n",
        "# SVG(model_to_dot(model).create(prog='dot', format='svg'))"
      ]
    },
    {
      "cell_type": "markdown",
      "metadata": {
        "_uuid": "99a964cc1478f1a8583e803ad7eeb35aadd15995",
        "id": "nE70WY9QwekE"
      },
      "source": [
        "And now let's run the new model."
      ]
    },
    {
      "cell_type": "code",
      "execution_count": null,
      "metadata": {
        "_uuid": "83029bfb27f99fb6be2ecedc1bd256c0e861456c",
        "colab": {
          "base_uri": "https://localhost:8080/"
        },
        "id": "2QbkZJTjwekF",
        "outputId": "2f19b026-56ec-4c6d-af0e-b546533d86ee"
      },
      "outputs": [
        {
          "name": "stdout",
          "output_type": "stream",
          "text": [
            "Epoch 1/50\n",
            "375/375 [==============================] - 63s 166ms/step - loss: 0.7687 - accuracy: 0.7087 - val_loss: 0.4794 - val_accuracy: 0.8218\n",
            "Epoch 2/50\n",
            "375/375 [==============================] - 48s 128ms/step - loss: 0.4897 - accuracy: 0.8183 - val_loss: 0.3946 - val_accuracy: 0.8553\n",
            "Epoch 3/50\n",
            "375/375 [==============================] - 50s 132ms/step - loss: 0.4130 - accuracy: 0.8483 - val_loss: 0.3476 - val_accuracy: 0.8687\n",
            "Epoch 4/50\n",
            "375/375 [==============================] - 49s 132ms/step - loss: 0.3737 - accuracy: 0.8622 - val_loss: 0.3025 - val_accuracy: 0.8906\n",
            "Epoch 5/50\n",
            "375/375 [==============================] - 47s 126ms/step - loss: 0.3445 - accuracy: 0.8751 - val_loss: 0.2951 - val_accuracy: 0.8932\n",
            "Epoch 6/50\n",
            "375/375 [==============================] - 47s 125ms/step - loss: 0.3278 - accuracy: 0.8791 - val_loss: 0.2944 - val_accuracy: 0.8945\n",
            "Epoch 7/50\n",
            "375/375 [==============================] - 47s 125ms/step - loss: 0.3101 - accuracy: 0.8866 - val_loss: 0.2679 - val_accuracy: 0.9033\n",
            "Epoch 8/50\n",
            "375/375 [==============================] - 47s 126ms/step - loss: 0.2971 - accuracy: 0.8904 - val_loss: 0.2590 - val_accuracy: 0.9057\n",
            "Epoch 9/50\n",
            "375/375 [==============================] - 47s 126ms/step - loss: 0.2931 - accuracy: 0.8921 - val_loss: 0.2544 - val_accuracy: 0.9083\n",
            "Epoch 10/50\n",
            "375/375 [==============================] - 48s 128ms/step - loss: 0.2786 - accuracy: 0.8954 - val_loss: 0.2566 - val_accuracy: 0.9067\n",
            "Epoch 11/50\n",
            "375/375 [==============================] - 47s 125ms/step - loss: 0.2779 - accuracy: 0.8966 - val_loss: 0.2453 - val_accuracy: 0.9119\n",
            "Epoch 12/50\n",
            "375/375 [==============================] - 47s 126ms/step - loss: 0.2661 - accuracy: 0.9012 - val_loss: 0.2461 - val_accuracy: 0.9101\n",
            "Epoch 13/50\n",
            "375/375 [==============================] - 47s 126ms/step - loss: 0.2586 - accuracy: 0.9028 - val_loss: 0.2423 - val_accuracy: 0.9126\n",
            "Epoch 14/50\n",
            "375/375 [==============================] - 47s 126ms/step - loss: 0.2567 - accuracy: 0.9046 - val_loss: 0.2354 - val_accuracy: 0.9128\n",
            "Epoch 15/50\n",
            "375/375 [==============================] - 48s 129ms/step - loss: 0.2540 - accuracy: 0.9044 - val_loss: 0.2495 - val_accuracy: 0.9095\n",
            "Epoch 16/50\n",
            "375/375 [==============================] - 47s 125ms/step - loss: 0.2476 - accuracy: 0.9079 - val_loss: 0.2427 - val_accuracy: 0.9107\n",
            "Epoch 17/50\n",
            "375/375 [==============================] - 47s 126ms/step - loss: 0.2462 - accuracy: 0.9091 - val_loss: 0.2284 - val_accuracy: 0.9189\n",
            "Epoch 18/50\n",
            "375/375 [==============================] - 47s 126ms/step - loss: 0.2391 - accuracy: 0.9102 - val_loss: 0.2327 - val_accuracy: 0.9178\n",
            "Epoch 19/50\n",
            "375/375 [==============================] - 47s 125ms/step - loss: 0.2352 - accuracy: 0.9111 - val_loss: 0.2403 - val_accuracy: 0.9128\n",
            "Epoch 20/50\n",
            "375/375 [==============================] - 47s 125ms/step - loss: 0.2368 - accuracy: 0.9115 - val_loss: 0.2333 - val_accuracy: 0.9147\n",
            "Epoch 21/50\n",
            "375/375 [==============================] - 48s 128ms/step - loss: 0.2291 - accuracy: 0.9136 - val_loss: 0.2285 - val_accuracy: 0.9194\n",
            "Epoch 22/50\n",
            "375/375 [==============================] - 47s 126ms/step - loss: 0.2264 - accuracy: 0.9166 - val_loss: 0.2270 - val_accuracy: 0.9187\n",
            "Epoch 23/50\n",
            "375/375 [==============================] - 47s 125ms/step - loss: 0.2293 - accuracy: 0.9137 - val_loss: 0.2240 - val_accuracy: 0.9198\n",
            "Epoch 24/50\n",
            "375/375 [==============================] - 47s 126ms/step - loss: 0.2223 - accuracy: 0.9167 - val_loss: 0.2273 - val_accuracy: 0.9182\n",
            "Epoch 25/50\n",
            "375/375 [==============================] - 47s 125ms/step - loss: 0.2233 - accuracy: 0.9143 - val_loss: 0.2228 - val_accuracy: 0.9199\n",
            "Epoch 26/50\n",
            "375/375 [==============================] - 47s 125ms/step - loss: 0.2158 - accuracy: 0.9201 - val_loss: 0.2271 - val_accuracy: 0.9189\n",
            "Epoch 27/50\n",
            "375/375 [==============================] - 48s 128ms/step - loss: 0.2165 - accuracy: 0.9183 - val_loss: 0.2287 - val_accuracy: 0.9186\n",
            "Epoch 28/50\n",
            "375/375 [==============================] - 47s 125ms/step - loss: 0.2121 - accuracy: 0.9183 - val_loss: 0.2222 - val_accuracy: 0.9189\n",
            "Epoch 29/50\n",
            "375/375 [==============================] - 47s 126ms/step - loss: 0.2093 - accuracy: 0.9189 - val_loss: 0.2216 - val_accuracy: 0.9214\n",
            "Epoch 30/50\n",
            "375/375 [==============================] - 47s 125ms/step - loss: 0.2095 - accuracy: 0.9217 - val_loss: 0.2232 - val_accuracy: 0.9197\n",
            "Epoch 31/50\n",
            "375/375 [==============================] - 47s 125ms/step - loss: 0.2069 - accuracy: 0.9201 - val_loss: 0.2245 - val_accuracy: 0.9207\n",
            "Epoch 32/50\n",
            "375/375 [==============================] - 47s 126ms/step - loss: 0.2072 - accuracy: 0.9218 - val_loss: 0.2350 - val_accuracy: 0.9153\n",
            "Epoch 33/50\n",
            "375/375 [==============================] - 48s 129ms/step - loss: 0.2039 - accuracy: 0.9226 - val_loss: 0.2241 - val_accuracy: 0.9189\n",
            "Epoch 34/50\n",
            "375/375 [==============================] - 47s 126ms/step - loss: 0.2035 - accuracy: 0.9224 - val_loss: 0.2208 - val_accuracy: 0.9211\n",
            "Epoch 35/50\n",
            "375/375 [==============================] - 47s 125ms/step - loss: 0.2015 - accuracy: 0.9243 - val_loss: 0.2242 - val_accuracy: 0.9218\n",
            "Epoch 36/50\n",
            "375/375 [==============================] - 47s 125ms/step - loss: 0.2011 - accuracy: 0.9248 - val_loss: 0.2184 - val_accuracy: 0.9237\n",
            "Epoch 37/50\n",
            "375/375 [==============================] - 47s 125ms/step - loss: 0.2001 - accuracy: 0.9236 - val_loss: 0.2258 - val_accuracy: 0.9215\n",
            "Epoch 38/50\n",
            "375/375 [==============================] - 48s 127ms/step - loss: 0.2020 - accuracy: 0.9246 - val_loss: 0.2267 - val_accuracy: 0.9215\n",
            "Epoch 39/50\n",
            "375/375 [==============================] - 47s 125ms/step - loss: 0.1986 - accuracy: 0.9250 - val_loss: 0.2218 - val_accuracy: 0.9224\n",
            "Epoch 40/50\n",
            "375/375 [==============================] - 47s 125ms/step - loss: 0.1980 - accuracy: 0.9250 - val_loss: 0.2228 - val_accuracy: 0.9234\n",
            "Epoch 41/50\n",
            "375/375 [==============================] - 47s 125ms/step - loss: 0.1977 - accuracy: 0.9246 - val_loss: 0.2186 - val_accuracy: 0.9220\n",
            "Epoch 42/50\n",
            "375/375 [==============================] - 47s 125ms/step - loss: 0.1931 - accuracy: 0.9272 - val_loss: 0.2167 - val_accuracy: 0.9233\n",
            "Epoch 43/50\n",
            "375/375 [==============================] - 47s 126ms/step - loss: 0.1913 - accuracy: 0.9283 - val_loss: 0.2346 - val_accuracy: 0.9159\n",
            "Epoch 44/50\n",
            "375/375 [==============================] - 48s 129ms/step - loss: 0.1961 - accuracy: 0.9259 - val_loss: 0.2227 - val_accuracy: 0.9227\n",
            "Epoch 45/50\n",
            "375/375 [==============================] - 46s 124ms/step - loss: 0.1921 - accuracy: 0.9276 - val_loss: 0.2170 - val_accuracy: 0.9232\n",
            "Epoch 46/50\n",
            "375/375 [==============================] - 47s 124ms/step - loss: 0.1874 - accuracy: 0.9286 - val_loss: 0.2157 - val_accuracy: 0.9245\n",
            "Epoch 47/50\n",
            "375/375 [==============================] - 47s 124ms/step - loss: 0.1883 - accuracy: 0.9271 - val_loss: 0.2226 - val_accuracy: 0.9243\n",
            "Epoch 48/50\n",
            "375/375 [==============================] - 47s 126ms/step - loss: 0.1884 - accuracy: 0.9281 - val_loss: 0.2202 - val_accuracy: 0.9226\n",
            "Epoch 49/50\n",
            "375/375 [==============================] - 48s 128ms/step - loss: 0.1844 - accuracy: 0.9305 - val_loss: 0.2265 - val_accuracy: 0.9197\n",
            "Epoch 50/50\n",
            "375/375 [==============================] - 48s 128ms/step - loss: 0.1832 - accuracy: 0.9307 - val_loss: 0.2261 - val_accuracy: 0.9222\n"
          ]
        }
      ],
      "source": [
        "train_model = model.fit(X_train, y_train,\n",
        "                  batch_size=BATCH_SIZE,\n",
        "                  epochs=NO_EPOCHS,\n",
        "                  verbose=1,\n",
        "                  validation_data=(X_val, y_val))"
      ]
    },
    {
      "cell_type": "markdown",
      "metadata": {
        "_uuid": "676e1c4a3a64db55d6f0e8498f9c59e0e6182931",
        "id": "LOZOwt7dwekF"
      },
      "source": [
        "## <a id=\"57\">Prediction accuracy with the new model</a>\n",
        "\n",
        "Let's re-evaluate the prediction accuracy with the new model."
      ]
    },
    {
      "cell_type": "code",
      "execution_count": null,
      "metadata": {
        "_uuid": "6b3940059502bfb6303a85a2cee1095b45304491",
        "colab": {
          "base_uri": "https://localhost:8080/",
          "height": 542
        },
        "id": "j4mhpl34wekF",
        "outputId": "2a796308-c438-4f38-f419-6aa7c2f6f78a"
      },
      "outputs": [
        {
          "data": {
            "application/vnd.plotly.v1+json": {
              "config": {
                "linkText": "Export to plot.ly",
                "plotlyServerURL": "https://plot.ly",
                "showLink": false
              },
              "data": [
                {
                  "marker": {
                    "color": "Green"
                  },
                  "mode": "markers+lines",
                  "name": "Training accuracy",
                  "text": [
                    "1",
                    "2",
                    "3",
                    "4",
                    "5",
                    "6",
                    "7",
                    "8",
                    "9",
                    "10",
                    "11",
                    "12",
                    "13",
                    "14",
                    "15",
                    "16",
                    "17",
                    "18",
                    "19",
                    "20",
                    "21",
                    "22",
                    "23",
                    "24",
                    "25",
                    "26",
                    "27",
                    "28",
                    "29",
                    "30",
                    "31",
                    "32",
                    "33",
                    "34",
                    "35",
                    "36",
                    "37",
                    "38",
                    "39",
                    "40",
                    "41",
                    "42",
                    "43",
                    "44",
                    "45",
                    "46",
                    "47",
                    "48",
                    "49",
                    "50"
                  ],
                  "type": "scatter",
                  "x": [
                    1,
                    2,
                    3,
                    4,
                    5,
                    6,
                    7,
                    8,
                    9,
                    10,
                    11,
                    12,
                    13,
                    14,
                    15,
                    16,
                    17,
                    18,
                    19,
                    20,
                    21,
                    22,
                    23,
                    24,
                    25,
                    26,
                    27,
                    28,
                    29,
                    30,
                    31,
                    32,
                    33,
                    34,
                    35,
                    36,
                    37,
                    38,
                    39,
                    40,
                    41,
                    42,
                    43,
                    44,
                    45,
                    46,
                    47,
                    48,
                    49,
                    50
                  ],
                  "xaxis": "x",
                  "y": [
                    0.7087291479110718,
                    0.8183125257492065,
                    0.8482916951179504,
                    0.8621875047683716,
                    0.8750625252723694,
                    0.8790833353996277,
                    0.8866249918937683,
                    0.89041668176651,
                    0.8920833468437195,
                    0.8953750133514404,
                    0.8965833187103271,
                    0.9012083411216736,
                    0.9027708172798157,
                    0.9046458601951599,
                    0.9043541550636292,
                    0.9078958630561829,
                    0.9090625047683716,
                    0.9101874828338623,
                    0.9111250042915344,
                    0.9114791750907898,
                    0.9135624766349792,
                    0.9165833592414856,
                    0.9136666655540466,
                    0.9166666865348816,
                    0.91427081823349,
                    0.9201458096504211,
                    0.9183124899864197,
                    0.9183333516120911,
                    0.918874979019165,
                    0.921708345413208,
                    0.9201041460037231,
                    0.921833336353302,
                    0.9225833415985107,
                    0.9224374890327454,
                    0.9242500066757202,
                    0.924791693687439,
                    0.9236458539962769,
                    0.9246249794960022,
                    0.924958348274231,
                    0.9249791502952576,
                    0.9246458411216736,
                    0.9272083044052124,
                    0.9282916784286499,
                    0.9259166717529297,
                    0.9276041388511658,
                    0.9286041855812073,
                    0.9271249771118164,
                    0.9281458258628845,
                    0.9305208325386047,
                    0.9307291507720947
                  ],
                  "yaxis": "y"
                },
                {
                  "marker": {
                    "color": "Red"
                  },
                  "mode": "markers+lines",
                  "name": "Validation accuracy",
                  "text": [
                    "1",
                    "2",
                    "3",
                    "4",
                    "5",
                    "6",
                    "7",
                    "8",
                    "9",
                    "10",
                    "11",
                    "12",
                    "13",
                    "14",
                    "15",
                    "16",
                    "17",
                    "18",
                    "19",
                    "20",
                    "21",
                    "22",
                    "23",
                    "24",
                    "25",
                    "26",
                    "27",
                    "28",
                    "29",
                    "30",
                    "31",
                    "32",
                    "33",
                    "34",
                    "35",
                    "36",
                    "37",
                    "38",
                    "39",
                    "40",
                    "41",
                    "42",
                    "43",
                    "44",
                    "45",
                    "46",
                    "47",
                    "48",
                    "49",
                    "50"
                  ],
                  "type": "scatter",
                  "x": [
                    1,
                    2,
                    3,
                    4,
                    5,
                    6,
                    7,
                    8,
                    9,
                    10,
                    11,
                    12,
                    13,
                    14,
                    15,
                    16,
                    17,
                    18,
                    19,
                    20,
                    21,
                    22,
                    23,
                    24,
                    25,
                    26,
                    27,
                    28,
                    29,
                    30,
                    31,
                    32,
                    33,
                    34,
                    35,
                    36,
                    37,
                    38,
                    39,
                    40,
                    41,
                    42,
                    43,
                    44,
                    45,
                    46,
                    47,
                    48,
                    49,
                    50
                  ],
                  "xaxis": "x",
                  "y": [
                    0.8218333125114441,
                    0.8552500009536743,
                    0.8686666488647461,
                    0.890583336353302,
                    0.8932499885559082,
                    0.8945000171661377,
                    0.903333306312561,
                    0.9056666493415833,
                    0.9083333611488342,
                    0.9066666960716248,
                    0.9119166731834412,
                    0.9100833535194397,
                    0.9125833511352539,
                    0.9128333330154419,
                    0.909500002861023,
                    0.9106666445732117,
                    0.918916642665863,
                    0.9178333282470703,
                    0.9127500057220459,
                    0.9147499799728394,
                    0.9194166660308838,
                    0.918749988079071,
                    0.9198333621025085,
                    0.9181666374206543,
                    0.9199166893959045,
                    0.918916642665863,
                    0.918583333492279,
                    0.918916642665863,
                    0.9214166402816772,
                    0.9196666479110718,
                    0.9206666946411133,
                    0.9152500033378601,
                    0.918916642665863,
                    0.9210833311080933,
                    0.921833336353302,
                    0.9237499833106995,
                    0.921500027179718,
                    0.921500027179718,
                    0.9224166870117188,
                    0.9234166741371155,
                    0.921999990940094,
                    0.9233333468437195,
                    0.9159166812896729,
                    0.9227499961853027,
                    0.9231666922569275,
                    0.9244999885559082,
                    0.9243333339691162,
                    0.9225833415985107,
                    0.9197499752044678,
                    0.922249972820282
                  ],
                  "yaxis": "y"
                },
                {
                  "marker": {
                    "color": "Blue"
                  },
                  "mode": "markers+lines",
                  "name": "Training loss",
                  "text": [
                    "1",
                    "2",
                    "3",
                    "4",
                    "5",
                    "6",
                    "7",
                    "8",
                    "9",
                    "10",
                    "11",
                    "12",
                    "13",
                    "14",
                    "15",
                    "16",
                    "17",
                    "18",
                    "19",
                    "20",
                    "21",
                    "22",
                    "23",
                    "24",
                    "25",
                    "26",
                    "27",
                    "28",
                    "29",
                    "30",
                    "31",
                    "32",
                    "33",
                    "34",
                    "35",
                    "36",
                    "37",
                    "38",
                    "39",
                    "40",
                    "41",
                    "42",
                    "43",
                    "44",
                    "45",
                    "46",
                    "47",
                    "48",
                    "49",
                    "50"
                  ],
                  "type": "scatter",
                  "x": [
                    1,
                    2,
                    3,
                    4,
                    5,
                    6,
                    7,
                    8,
                    9,
                    10,
                    11,
                    12,
                    13,
                    14,
                    15,
                    16,
                    17,
                    18,
                    19,
                    20,
                    21,
                    22,
                    23,
                    24,
                    25,
                    26,
                    27,
                    28,
                    29,
                    30,
                    31,
                    32,
                    33,
                    34,
                    35,
                    36,
                    37,
                    38,
                    39,
                    40,
                    41,
                    42,
                    43,
                    44,
                    45,
                    46,
                    47,
                    48,
                    49,
                    50
                  ],
                  "xaxis": "x2",
                  "y": [
                    0.7687473297119141,
                    0.48969316482543945,
                    0.4130093455314636,
                    0.3736509084701538,
                    0.3445113003253937,
                    0.32784783840179443,
                    0.310129851102829,
                    0.2971346974372864,
                    0.293141633272171,
                    0.2785867750644684,
                    0.27787598967552185,
                    0.2660731077194214,
                    0.2586158215999603,
                    0.2566612958908081,
                    0.25401681661605835,
                    0.2476198673248291,
                    0.24621622264385223,
                    0.2391033172607422,
                    0.2351756989955902,
                    0.2367669641971588,
                    0.22905920445919037,
                    0.22641883790493011,
                    0.22933536767959595,
                    0.22226421535015106,
                    0.22328558564186096,
                    0.21584342420101166,
                    0.2164742797613144,
                    0.21213875710964203,
                    0.20933984220027924,
                    0.2095123827457428,
                    0.2068890929222107,
                    0.20720545947551727,
                    0.20386743545532227,
                    0.20347104966640472,
                    0.20146067440509796,
                    0.2010703682899475,
                    0.20013906061649323,
                    0.2019956111907959,
                    0.19859963655471802,
                    0.19799672067165375,
                    0.19766686856746674,
                    0.19312849640846252,
                    0.1912512630224228,
                    0.19612650573253632,
                    0.19208063185214996,
                    0.1873871386051178,
                    0.18833288550376892,
                    0.18835872411727905,
                    0.1843971163034439,
                    0.18319973349571228
                  ],
                  "yaxis": "y2"
                },
                {
                  "marker": {
                    "color": "Magenta"
                  },
                  "mode": "markers+lines",
                  "name": "Validation loss",
                  "text": [
                    "1",
                    "2",
                    "3",
                    "4",
                    "5",
                    "6",
                    "7",
                    "8",
                    "9",
                    "10",
                    "11",
                    "12",
                    "13",
                    "14",
                    "15",
                    "16",
                    "17",
                    "18",
                    "19",
                    "20",
                    "21",
                    "22",
                    "23",
                    "24",
                    "25",
                    "26",
                    "27",
                    "28",
                    "29",
                    "30",
                    "31",
                    "32",
                    "33",
                    "34",
                    "35",
                    "36",
                    "37",
                    "38",
                    "39",
                    "40",
                    "41",
                    "42",
                    "43",
                    "44",
                    "45",
                    "46",
                    "47",
                    "48",
                    "49",
                    "50"
                  ],
                  "type": "scatter",
                  "x": [
                    1,
                    2,
                    3,
                    4,
                    5,
                    6,
                    7,
                    8,
                    9,
                    10,
                    11,
                    12,
                    13,
                    14,
                    15,
                    16,
                    17,
                    18,
                    19,
                    20,
                    21,
                    22,
                    23,
                    24,
                    25,
                    26,
                    27,
                    28,
                    29,
                    30,
                    31,
                    32,
                    33,
                    34,
                    35,
                    36,
                    37,
                    38,
                    39,
                    40,
                    41,
                    42,
                    43,
                    44,
                    45,
                    46,
                    47,
                    48,
                    49,
                    50
                  ],
                  "xaxis": "x2",
                  "y": [
                    0.4794325828552246,
                    0.394601434469223,
                    0.3475569784641266,
                    0.30253681540489197,
                    0.2950762212276459,
                    0.294409841299057,
                    0.2678661644458771,
                    0.2589799165725708,
                    0.25439897179603577,
                    0.2565511465072632,
                    0.24534527957439423,
                    0.24605590105056763,
                    0.24230137467384338,
                    0.23538312315940857,
                    0.2494564801454544,
                    0.24274249374866486,
                    0.22838927805423737,
                    0.23270785808563232,
                    0.2403126060962677,
                    0.23330482840538025,
                    0.22848448157310486,
                    0.2269858568906784,
                    0.2239966243505478,
                    0.2272978276014328,
                    0.22284230589866638,
                    0.22709695994853973,
                    0.22868211567401886,
                    0.22221751511096954,
                    0.22164304554462433,
                    0.22320003807544708,
                    0.2244889885187149,
                    0.23495417833328247,
                    0.22406375408172607,
                    0.22075311839580536,
                    0.2241673320531845,
                    0.21836525201797485,
                    0.22580859065055847,
                    0.22673942148685455,
                    0.22184231877326965,
                    0.22281184792518616,
                    0.2185794860124588,
                    0.21670342981815338,
                    0.23455728590488434,
                    0.2226986140012741,
                    0.21697553992271423,
                    0.21574246883392334,
                    0.22264544665813446,
                    0.22015616297721863,
                    0.22649142146110535,
                    0.2261405885219574
                  ],
                  "yaxis": "y2"
                }
              ],
              "layout": {
                "annotations": [
                  {
                    "font": {
                      "size": 16
                    },
                    "showarrow": false,
                    "text": "Training and validation accuracy",
                    "x": 0.225,
                    "xanchor": "center",
                    "xref": "paper",
                    "y": 1,
                    "yanchor": "bottom",
                    "yref": "paper"
                  },
                  {
                    "font": {
                      "size": 16
                    },
                    "showarrow": false,
                    "text": "Training and validation loss",
                    "x": 0.775,
                    "xanchor": "center",
                    "xref": "paper",
                    "y": 1,
                    "yanchor": "bottom",
                    "yref": "paper"
                  }
                ],
                "template": {
                  "data": {
                    "bar": [
                      {
                        "error_x": {
                          "color": "#2a3f5f"
                        },
                        "error_y": {
                          "color": "#2a3f5f"
                        },
                        "marker": {
                          "line": {
                            "color": "#E5ECF6",
                            "width": 0.5
                          },
                          "pattern": {
                            "fillmode": "overlay",
                            "size": 10,
                            "solidity": 0.2
                          }
                        },
                        "type": "bar"
                      }
                    ],
                    "barpolar": [
                      {
                        "marker": {
                          "line": {
                            "color": "#E5ECF6",
                            "width": 0.5
                          },
                          "pattern": {
                            "fillmode": "overlay",
                            "size": 10,
                            "solidity": 0.2
                          }
                        },
                        "type": "barpolar"
                      }
                    ],
                    "carpet": [
                      {
                        "aaxis": {
                          "endlinecolor": "#2a3f5f",
                          "gridcolor": "white",
                          "linecolor": "white",
                          "minorgridcolor": "white",
                          "startlinecolor": "#2a3f5f"
                        },
                        "baxis": {
                          "endlinecolor": "#2a3f5f",
                          "gridcolor": "white",
                          "linecolor": "white",
                          "minorgridcolor": "white",
                          "startlinecolor": "#2a3f5f"
                        },
                        "type": "carpet"
                      }
                    ],
                    "choropleth": [
                      {
                        "colorbar": {
                          "outlinewidth": 0,
                          "ticks": ""
                        },
                        "type": "choropleth"
                      }
                    ],
                    "contour": [
                      {
                        "colorbar": {
                          "outlinewidth": 0,
                          "ticks": ""
                        },
                        "colorscale": [
                          [
                            0,
                            "#0d0887"
                          ],
                          [
                            0.1111111111111111,
                            "#46039f"
                          ],
                          [
                            0.2222222222222222,
                            "#7201a8"
                          ],
                          [
                            0.3333333333333333,
                            "#9c179e"
                          ],
                          [
                            0.4444444444444444,
                            "#bd3786"
                          ],
                          [
                            0.5555555555555556,
                            "#d8576b"
                          ],
                          [
                            0.6666666666666666,
                            "#ed7953"
                          ],
                          [
                            0.7777777777777778,
                            "#fb9f3a"
                          ],
                          [
                            0.8888888888888888,
                            "#fdca26"
                          ],
                          [
                            1,
                            "#f0f921"
                          ]
                        ],
                        "type": "contour"
                      }
                    ],
                    "contourcarpet": [
                      {
                        "colorbar": {
                          "outlinewidth": 0,
                          "ticks": ""
                        },
                        "type": "contourcarpet"
                      }
                    ],
                    "heatmap": [
                      {
                        "colorbar": {
                          "outlinewidth": 0,
                          "ticks": ""
                        },
                        "colorscale": [
                          [
                            0,
                            "#0d0887"
                          ],
                          [
                            0.1111111111111111,
                            "#46039f"
                          ],
                          [
                            0.2222222222222222,
                            "#7201a8"
                          ],
                          [
                            0.3333333333333333,
                            "#9c179e"
                          ],
                          [
                            0.4444444444444444,
                            "#bd3786"
                          ],
                          [
                            0.5555555555555556,
                            "#d8576b"
                          ],
                          [
                            0.6666666666666666,
                            "#ed7953"
                          ],
                          [
                            0.7777777777777778,
                            "#fb9f3a"
                          ],
                          [
                            0.8888888888888888,
                            "#fdca26"
                          ],
                          [
                            1,
                            "#f0f921"
                          ]
                        ],
                        "type": "heatmap"
                      }
                    ],
                    "heatmapgl": [
                      {
                        "colorbar": {
                          "outlinewidth": 0,
                          "ticks": ""
                        },
                        "colorscale": [
                          [
                            0,
                            "#0d0887"
                          ],
                          [
                            0.1111111111111111,
                            "#46039f"
                          ],
                          [
                            0.2222222222222222,
                            "#7201a8"
                          ],
                          [
                            0.3333333333333333,
                            "#9c179e"
                          ],
                          [
                            0.4444444444444444,
                            "#bd3786"
                          ],
                          [
                            0.5555555555555556,
                            "#d8576b"
                          ],
                          [
                            0.6666666666666666,
                            "#ed7953"
                          ],
                          [
                            0.7777777777777778,
                            "#fb9f3a"
                          ],
                          [
                            0.8888888888888888,
                            "#fdca26"
                          ],
                          [
                            1,
                            "#f0f921"
                          ]
                        ],
                        "type": "heatmapgl"
                      }
                    ],
                    "histogram": [
                      {
                        "marker": {
                          "pattern": {
                            "fillmode": "overlay",
                            "size": 10,
                            "solidity": 0.2
                          }
                        },
                        "type": "histogram"
                      }
                    ],
                    "histogram2d": [
                      {
                        "colorbar": {
                          "outlinewidth": 0,
                          "ticks": ""
                        },
                        "colorscale": [
                          [
                            0,
                            "#0d0887"
                          ],
                          [
                            0.1111111111111111,
                            "#46039f"
                          ],
                          [
                            0.2222222222222222,
                            "#7201a8"
                          ],
                          [
                            0.3333333333333333,
                            "#9c179e"
                          ],
                          [
                            0.4444444444444444,
                            "#bd3786"
                          ],
                          [
                            0.5555555555555556,
                            "#d8576b"
                          ],
                          [
                            0.6666666666666666,
                            "#ed7953"
                          ],
                          [
                            0.7777777777777778,
                            "#fb9f3a"
                          ],
                          [
                            0.8888888888888888,
                            "#fdca26"
                          ],
                          [
                            1,
                            "#f0f921"
                          ]
                        ],
                        "type": "histogram2d"
                      }
                    ],
                    "histogram2dcontour": [
                      {
                        "colorbar": {
                          "outlinewidth": 0,
                          "ticks": ""
                        },
                        "colorscale": [
                          [
                            0,
                            "#0d0887"
                          ],
                          [
                            0.1111111111111111,
                            "#46039f"
                          ],
                          [
                            0.2222222222222222,
                            "#7201a8"
                          ],
                          [
                            0.3333333333333333,
                            "#9c179e"
                          ],
                          [
                            0.4444444444444444,
                            "#bd3786"
                          ],
                          [
                            0.5555555555555556,
                            "#d8576b"
                          ],
                          [
                            0.6666666666666666,
                            "#ed7953"
                          ],
                          [
                            0.7777777777777778,
                            "#fb9f3a"
                          ],
                          [
                            0.8888888888888888,
                            "#fdca26"
                          ],
                          [
                            1,
                            "#f0f921"
                          ]
                        ],
                        "type": "histogram2dcontour"
                      }
                    ],
                    "mesh3d": [
                      {
                        "colorbar": {
                          "outlinewidth": 0,
                          "ticks": ""
                        },
                        "type": "mesh3d"
                      }
                    ],
                    "parcoords": [
                      {
                        "line": {
                          "colorbar": {
                            "outlinewidth": 0,
                            "ticks": ""
                          }
                        },
                        "type": "parcoords"
                      }
                    ],
                    "pie": [
                      {
                        "automargin": true,
                        "type": "pie"
                      }
                    ],
                    "scatter": [
                      {
                        "marker": {
                          "colorbar": {
                            "outlinewidth": 0,
                            "ticks": ""
                          }
                        },
                        "type": "scatter"
                      }
                    ],
                    "scatter3d": [
                      {
                        "line": {
                          "colorbar": {
                            "outlinewidth": 0,
                            "ticks": ""
                          }
                        },
                        "marker": {
                          "colorbar": {
                            "outlinewidth": 0,
                            "ticks": ""
                          }
                        },
                        "type": "scatter3d"
                      }
                    ],
                    "scattercarpet": [
                      {
                        "marker": {
                          "colorbar": {
                            "outlinewidth": 0,
                            "ticks": ""
                          }
                        },
                        "type": "scattercarpet"
                      }
                    ],
                    "scattergeo": [
                      {
                        "marker": {
                          "colorbar": {
                            "outlinewidth": 0,
                            "ticks": ""
                          }
                        },
                        "type": "scattergeo"
                      }
                    ],
                    "scattergl": [
                      {
                        "marker": {
                          "colorbar": {
                            "outlinewidth": 0,
                            "ticks": ""
                          }
                        },
                        "type": "scattergl"
                      }
                    ],
                    "scattermapbox": [
                      {
                        "marker": {
                          "colorbar": {
                            "outlinewidth": 0,
                            "ticks": ""
                          }
                        },
                        "type": "scattermapbox"
                      }
                    ],
                    "scatterpolar": [
                      {
                        "marker": {
                          "colorbar": {
                            "outlinewidth": 0,
                            "ticks": ""
                          }
                        },
                        "type": "scatterpolar"
                      }
                    ],
                    "scatterpolargl": [
                      {
                        "marker": {
                          "colorbar": {
                            "outlinewidth": 0,
                            "ticks": ""
                          }
                        },
                        "type": "scatterpolargl"
                      }
                    ],
                    "scatterternary": [
                      {
                        "marker": {
                          "colorbar": {
                            "outlinewidth": 0,
                            "ticks": ""
                          }
                        },
                        "type": "scatterternary"
                      }
                    ],
                    "surface": [
                      {
                        "colorbar": {
                          "outlinewidth": 0,
                          "ticks": ""
                        },
                        "colorscale": [
                          [
                            0,
                            "#0d0887"
                          ],
                          [
                            0.1111111111111111,
                            "#46039f"
                          ],
                          [
                            0.2222222222222222,
                            "#7201a8"
                          ],
                          [
                            0.3333333333333333,
                            "#9c179e"
                          ],
                          [
                            0.4444444444444444,
                            "#bd3786"
                          ],
                          [
                            0.5555555555555556,
                            "#d8576b"
                          ],
                          [
                            0.6666666666666666,
                            "#ed7953"
                          ],
                          [
                            0.7777777777777778,
                            "#fb9f3a"
                          ],
                          [
                            0.8888888888888888,
                            "#fdca26"
                          ],
                          [
                            1,
                            "#f0f921"
                          ]
                        ],
                        "type": "surface"
                      }
                    ],
                    "table": [
                      {
                        "cells": {
                          "fill": {
                            "color": "#EBF0F8"
                          },
                          "line": {
                            "color": "white"
                          }
                        },
                        "header": {
                          "fill": {
                            "color": "#C8D4E3"
                          },
                          "line": {
                            "color": "white"
                          }
                        },
                        "type": "table"
                      }
                    ]
                  },
                  "layout": {
                    "annotationdefaults": {
                      "arrowcolor": "#2a3f5f",
                      "arrowhead": 0,
                      "arrowwidth": 1
                    },
                    "autotypenumbers": "strict",
                    "coloraxis": {
                      "colorbar": {
                        "outlinewidth": 0,
                        "ticks": ""
                      }
                    },
                    "colorscale": {
                      "diverging": [
                        [
                          0,
                          "#8e0152"
                        ],
                        [
                          0.1,
                          "#c51b7d"
                        ],
                        [
                          0.2,
                          "#de77ae"
                        ],
                        [
                          0.3,
                          "#f1b6da"
                        ],
                        [
                          0.4,
                          "#fde0ef"
                        ],
                        [
                          0.5,
                          "#f7f7f7"
                        ],
                        [
                          0.6,
                          "#e6f5d0"
                        ],
                        [
                          0.7,
                          "#b8e186"
                        ],
                        [
                          0.8,
                          "#7fbc41"
                        ],
                        [
                          0.9,
                          "#4d9221"
                        ],
                        [
                          1,
                          "#276419"
                        ]
                      ],
                      "sequential": [
                        [
                          0,
                          "#0d0887"
                        ],
                        [
                          0.1111111111111111,
                          "#46039f"
                        ],
                        [
                          0.2222222222222222,
                          "#7201a8"
                        ],
                        [
                          0.3333333333333333,
                          "#9c179e"
                        ],
                        [
                          0.4444444444444444,
                          "#bd3786"
                        ],
                        [
                          0.5555555555555556,
                          "#d8576b"
                        ],
                        [
                          0.6666666666666666,
                          "#ed7953"
                        ],
                        [
                          0.7777777777777778,
                          "#fb9f3a"
                        ],
                        [
                          0.8888888888888888,
                          "#fdca26"
                        ],
                        [
                          1,
                          "#f0f921"
                        ]
                      ],
                      "sequentialminus": [
                        [
                          0,
                          "#0d0887"
                        ],
                        [
                          0.1111111111111111,
                          "#46039f"
                        ],
                        [
                          0.2222222222222222,
                          "#7201a8"
                        ],
                        [
                          0.3333333333333333,
                          "#9c179e"
                        ],
                        [
                          0.4444444444444444,
                          "#bd3786"
                        ],
                        [
                          0.5555555555555556,
                          "#d8576b"
                        ],
                        [
                          0.6666666666666666,
                          "#ed7953"
                        ],
                        [
                          0.7777777777777778,
                          "#fb9f3a"
                        ],
                        [
                          0.8888888888888888,
                          "#fdca26"
                        ],
                        [
                          1,
                          "#f0f921"
                        ]
                      ]
                    },
                    "colorway": [
                      "#636efa",
                      "#EF553B",
                      "#00cc96",
                      "#ab63fa",
                      "#FFA15A",
                      "#19d3f3",
                      "#FF6692",
                      "#B6E880",
                      "#FF97FF",
                      "#FECB52"
                    ],
                    "font": {
                      "color": "#2a3f5f"
                    },
                    "geo": {
                      "bgcolor": "white",
                      "lakecolor": "white",
                      "landcolor": "#E5ECF6",
                      "showlakes": true,
                      "showland": true,
                      "subunitcolor": "white"
                    },
                    "hoverlabel": {
                      "align": "left"
                    },
                    "hovermode": "closest",
                    "mapbox": {
                      "style": "light"
                    },
                    "paper_bgcolor": "white",
                    "plot_bgcolor": "#E5ECF6",
                    "polar": {
                      "angularaxis": {
                        "gridcolor": "white",
                        "linecolor": "white",
                        "ticks": ""
                      },
                      "bgcolor": "#E5ECF6",
                      "radialaxis": {
                        "gridcolor": "white",
                        "linecolor": "white",
                        "ticks": ""
                      }
                    },
                    "scene": {
                      "xaxis": {
                        "backgroundcolor": "#E5ECF6",
                        "gridcolor": "white",
                        "gridwidth": 2,
                        "linecolor": "white",
                        "showbackground": true,
                        "ticks": "",
                        "zerolinecolor": "white"
                      },
                      "yaxis": {
                        "backgroundcolor": "#E5ECF6",
                        "gridcolor": "white",
                        "gridwidth": 2,
                        "linecolor": "white",
                        "showbackground": true,
                        "ticks": "",
                        "zerolinecolor": "white"
                      },
                      "zaxis": {
                        "backgroundcolor": "#E5ECF6",
                        "gridcolor": "white",
                        "gridwidth": 2,
                        "linecolor": "white",
                        "showbackground": true,
                        "ticks": "",
                        "zerolinecolor": "white"
                      }
                    },
                    "shapedefaults": {
                      "line": {
                        "color": "#2a3f5f"
                      }
                    },
                    "ternary": {
                      "aaxis": {
                        "gridcolor": "white",
                        "linecolor": "white",
                        "ticks": ""
                      },
                      "baxis": {
                        "gridcolor": "white",
                        "linecolor": "white",
                        "ticks": ""
                      },
                      "bgcolor": "#E5ECF6",
                      "caxis": {
                        "gridcolor": "white",
                        "linecolor": "white",
                        "ticks": ""
                      }
                    },
                    "title": {
                      "x": 0.05
                    },
                    "xaxis": {
                      "automargin": true,
                      "gridcolor": "white",
                      "linecolor": "white",
                      "ticks": "",
                      "title": {
                        "standoff": 15
                      },
                      "zerolinecolor": "white",
                      "zerolinewidth": 2
                    },
                    "yaxis": {
                      "automargin": true,
                      "gridcolor": "white",
                      "linecolor": "white",
                      "ticks": "",
                      "title": {
                        "standoff": 15
                      },
                      "zerolinecolor": "white",
                      "zerolinewidth": 2
                    }
                  }
                },
                "xaxis": {
                  "anchor": "y",
                  "domain": [
                    0,
                    0.45
                  ],
                  "title": {
                    "text": "Epoch"
                  }
                },
                "xaxis2": {
                  "anchor": "y2",
                  "domain": [
                    0.55,
                    1
                  ],
                  "title": {
                    "text": "Epoch"
                  }
                },
                "yaxis": {
                  "anchor": "x",
                  "domain": [
                    0,
                    1
                  ],
                  "range": [
                    0,
                    1
                  ],
                  "title": {
                    "text": "Accuracy"
                  }
                },
                "yaxis2": {
                  "anchor": "x2",
                  "domain": [
                    0,
                    1
                  ],
                  "range": [
                    0,
                    1
                  ],
                  "title": {
                    "text": "Loss"
                  }
                }
              }
            },
            "text/html": [
              "<div>                            <div id=\"4581a8d3-292f-43a2-9f5c-69ae3407a60a\" class=\"plotly-graph-div\" style=\"height:525px; width:100%;\"></div>            <script type=\"text/javascript\">                require([\"plotly\"], function(Plotly) {                    window.PLOTLYENV=window.PLOTLYENV || {};                                    if (document.getElementById(\"4581a8d3-292f-43a2-9f5c-69ae3407a60a\")) {                    Plotly.newPlot(                        \"4581a8d3-292f-43a2-9f5c-69ae3407a60a\",                        [{\"marker\":{\"color\":\"Green\"},\"mode\":\"markers+lines\",\"name\":\"Training accuracy\",\"text\":[\"1\",\"2\",\"3\",\"4\",\"5\",\"6\",\"7\",\"8\",\"9\",\"10\",\"11\",\"12\",\"13\",\"14\",\"15\",\"16\",\"17\",\"18\",\"19\",\"20\",\"21\",\"22\",\"23\",\"24\",\"25\",\"26\",\"27\",\"28\",\"29\",\"30\",\"31\",\"32\",\"33\",\"34\",\"35\",\"36\",\"37\",\"38\",\"39\",\"40\",\"41\",\"42\",\"43\",\"44\",\"45\",\"46\",\"47\",\"48\",\"49\",\"50\"],\"x\":[1,2,3,4,5,6,7,8,9,10,11,12,13,14,15,16,17,18,19,20,21,22,23,24,25,26,27,28,29,30,31,32,33,34,35,36,37,38,39,40,41,42,43,44,45,46,47,48,49,50],\"xaxis\":\"x\",\"y\":[0.7087291479110718,0.8183125257492065,0.8482916951179504,0.8621875047683716,0.8750625252723694,0.8790833353996277,0.8866249918937683,0.89041668176651,0.8920833468437195,0.8953750133514404,0.8965833187103271,0.9012083411216736,0.9027708172798157,0.9046458601951599,0.9043541550636292,0.9078958630561829,0.9090625047683716,0.9101874828338623,0.9111250042915344,0.9114791750907898,0.9135624766349792,0.9165833592414856,0.9136666655540466,0.9166666865348816,0.91427081823349,0.9201458096504211,0.9183124899864197,0.9183333516120911,0.918874979019165,0.921708345413208,0.9201041460037231,0.921833336353302,0.9225833415985107,0.9224374890327454,0.9242500066757202,0.924791693687439,0.9236458539962769,0.9246249794960022,0.924958348274231,0.9249791502952576,0.9246458411216736,0.9272083044052124,0.9282916784286499,0.9259166717529297,0.9276041388511658,0.9286041855812073,0.9271249771118164,0.9281458258628845,0.9305208325386047,0.9307291507720947],\"yaxis\":\"y\",\"type\":\"scatter\"},{\"marker\":{\"color\":\"Red\"},\"mode\":\"markers+lines\",\"name\":\"Validation accuracy\",\"text\":[\"1\",\"2\",\"3\",\"4\",\"5\",\"6\",\"7\",\"8\",\"9\",\"10\",\"11\",\"12\",\"13\",\"14\",\"15\",\"16\",\"17\",\"18\",\"19\",\"20\",\"21\",\"22\",\"23\",\"24\",\"25\",\"26\",\"27\",\"28\",\"29\",\"30\",\"31\",\"32\",\"33\",\"34\",\"35\",\"36\",\"37\",\"38\",\"39\",\"40\",\"41\",\"42\",\"43\",\"44\",\"45\",\"46\",\"47\",\"48\",\"49\",\"50\"],\"x\":[1,2,3,4,5,6,7,8,9,10,11,12,13,14,15,16,17,18,19,20,21,22,23,24,25,26,27,28,29,30,31,32,33,34,35,36,37,38,39,40,41,42,43,44,45,46,47,48,49,50],\"xaxis\":\"x\",\"y\":[0.8218333125114441,0.8552500009536743,0.8686666488647461,0.890583336353302,0.8932499885559082,0.8945000171661377,0.903333306312561,0.9056666493415833,0.9083333611488342,0.9066666960716248,0.9119166731834412,0.9100833535194397,0.9125833511352539,0.9128333330154419,0.909500002861023,0.9106666445732117,0.918916642665863,0.9178333282470703,0.9127500057220459,0.9147499799728394,0.9194166660308838,0.918749988079071,0.9198333621025085,0.9181666374206543,0.9199166893959045,0.918916642665863,0.918583333492279,0.918916642665863,0.9214166402816772,0.9196666479110718,0.9206666946411133,0.9152500033378601,0.918916642665863,0.9210833311080933,0.921833336353302,0.9237499833106995,0.921500027179718,0.921500027179718,0.9224166870117188,0.9234166741371155,0.921999990940094,0.9233333468437195,0.9159166812896729,0.9227499961853027,0.9231666922569275,0.9244999885559082,0.9243333339691162,0.9225833415985107,0.9197499752044678,0.922249972820282],\"yaxis\":\"y\",\"type\":\"scatter\"},{\"marker\":{\"color\":\"Blue\"},\"mode\":\"markers+lines\",\"name\":\"Training loss\",\"text\":[\"1\",\"2\",\"3\",\"4\",\"5\",\"6\",\"7\",\"8\",\"9\",\"10\",\"11\",\"12\",\"13\",\"14\",\"15\",\"16\",\"17\",\"18\",\"19\",\"20\",\"21\",\"22\",\"23\",\"24\",\"25\",\"26\",\"27\",\"28\",\"29\",\"30\",\"31\",\"32\",\"33\",\"34\",\"35\",\"36\",\"37\",\"38\",\"39\",\"40\",\"41\",\"42\",\"43\",\"44\",\"45\",\"46\",\"47\",\"48\",\"49\",\"50\"],\"x\":[1,2,3,4,5,6,7,8,9,10,11,12,13,14,15,16,17,18,19,20,21,22,23,24,25,26,27,28,29,30,31,32,33,34,35,36,37,38,39,40,41,42,43,44,45,46,47,48,49,50],\"xaxis\":\"x2\",\"y\":[0.7687473297119141,0.48969316482543945,0.4130093455314636,0.3736509084701538,0.3445113003253937,0.32784783840179443,0.310129851102829,0.2971346974372864,0.293141633272171,0.2785867750644684,0.27787598967552185,0.2660731077194214,0.2586158215999603,0.2566612958908081,0.25401681661605835,0.2476198673248291,0.24621622264385223,0.2391033172607422,0.2351756989955902,0.2367669641971588,0.22905920445919037,0.22641883790493011,0.22933536767959595,0.22226421535015106,0.22328558564186096,0.21584342420101166,0.2164742797613144,0.21213875710964203,0.20933984220027924,0.2095123827457428,0.2068890929222107,0.20720545947551727,0.20386743545532227,0.20347104966640472,0.20146067440509796,0.2010703682899475,0.20013906061649323,0.2019956111907959,0.19859963655471802,0.19799672067165375,0.19766686856746674,0.19312849640846252,0.1912512630224228,0.19612650573253632,0.19208063185214996,0.1873871386051178,0.18833288550376892,0.18835872411727905,0.1843971163034439,0.18319973349571228],\"yaxis\":\"y2\",\"type\":\"scatter\"},{\"marker\":{\"color\":\"Magenta\"},\"mode\":\"markers+lines\",\"name\":\"Validation loss\",\"text\":[\"1\",\"2\",\"3\",\"4\",\"5\",\"6\",\"7\",\"8\",\"9\",\"10\",\"11\",\"12\",\"13\",\"14\",\"15\",\"16\",\"17\",\"18\",\"19\",\"20\",\"21\",\"22\",\"23\",\"24\",\"25\",\"26\",\"27\",\"28\",\"29\",\"30\",\"31\",\"32\",\"33\",\"34\",\"35\",\"36\",\"37\",\"38\",\"39\",\"40\",\"41\",\"42\",\"43\",\"44\",\"45\",\"46\",\"47\",\"48\",\"49\",\"50\"],\"x\":[1,2,3,4,5,6,7,8,9,10,11,12,13,14,15,16,17,18,19,20,21,22,23,24,25,26,27,28,29,30,31,32,33,34,35,36,37,38,39,40,41,42,43,44,45,46,47,48,49,50],\"xaxis\":\"x2\",\"y\":[0.4794325828552246,0.394601434469223,0.3475569784641266,0.30253681540489197,0.2950762212276459,0.294409841299057,0.2678661644458771,0.2589799165725708,0.25439897179603577,0.2565511465072632,0.24534527957439423,0.24605590105056763,0.24230137467384338,0.23538312315940857,0.2494564801454544,0.24274249374866486,0.22838927805423737,0.23270785808563232,0.2403126060962677,0.23330482840538025,0.22848448157310486,0.2269858568906784,0.2239966243505478,0.2272978276014328,0.22284230589866638,0.22709695994853973,0.22868211567401886,0.22221751511096954,0.22164304554462433,0.22320003807544708,0.2244889885187149,0.23495417833328247,0.22406375408172607,0.22075311839580536,0.2241673320531845,0.21836525201797485,0.22580859065055847,0.22673942148685455,0.22184231877326965,0.22281184792518616,0.2185794860124588,0.21670342981815338,0.23455728590488434,0.2226986140012741,0.21697553992271423,0.21574246883392334,0.22264544665813446,0.22015616297721863,0.22649142146110535,0.2261405885219574],\"yaxis\":\"y2\",\"type\":\"scatter\"}],                        {\"annotations\":[{\"font\":{\"size\":16},\"showarrow\":false,\"text\":\"Training and validation accuracy\",\"x\":0.225,\"xanchor\":\"center\",\"xref\":\"paper\",\"y\":1.0,\"yanchor\":\"bottom\",\"yref\":\"paper\"},{\"font\":{\"size\":16},\"showarrow\":false,\"text\":\"Training and validation loss\",\"x\":0.775,\"xanchor\":\"center\",\"xref\":\"paper\",\"y\":1.0,\"yanchor\":\"bottom\",\"yref\":\"paper\"}],\"template\":{\"data\":{\"barpolar\":[{\"marker\":{\"line\":{\"color\":\"#E5ECF6\",\"width\":0.5},\"pattern\":{\"fillmode\":\"overlay\",\"size\":10,\"solidity\":0.2}},\"type\":\"barpolar\"}],\"bar\":[{\"error_x\":{\"color\":\"#2a3f5f\"},\"error_y\":{\"color\":\"#2a3f5f\"},\"marker\":{\"line\":{\"color\":\"#E5ECF6\",\"width\":0.5},\"pattern\":{\"fillmode\":\"overlay\",\"size\":10,\"solidity\":0.2}},\"type\":\"bar\"}],\"carpet\":[{\"aaxis\":{\"endlinecolor\":\"#2a3f5f\",\"gridcolor\":\"white\",\"linecolor\":\"white\",\"minorgridcolor\":\"white\",\"startlinecolor\":\"#2a3f5f\"},\"baxis\":{\"endlinecolor\":\"#2a3f5f\",\"gridcolor\":\"white\",\"linecolor\":\"white\",\"minorgridcolor\":\"white\",\"startlinecolor\":\"#2a3f5f\"},\"type\":\"carpet\"}],\"choropleth\":[{\"colorbar\":{\"outlinewidth\":0,\"ticks\":\"\"},\"type\":\"choropleth\"}],\"contourcarpet\":[{\"colorbar\":{\"outlinewidth\":0,\"ticks\":\"\"},\"type\":\"contourcarpet\"}],\"contour\":[{\"colorbar\":{\"outlinewidth\":0,\"ticks\":\"\"},\"colorscale\":[[0.0,\"#0d0887\"],[0.1111111111111111,\"#46039f\"],[0.2222222222222222,\"#7201a8\"],[0.3333333333333333,\"#9c179e\"],[0.4444444444444444,\"#bd3786\"],[0.5555555555555556,\"#d8576b\"],[0.6666666666666666,\"#ed7953\"],[0.7777777777777778,\"#fb9f3a\"],[0.8888888888888888,\"#fdca26\"],[1.0,\"#f0f921\"]],\"type\":\"contour\"}],\"heatmapgl\":[{\"colorbar\":{\"outlinewidth\":0,\"ticks\":\"\"},\"colorscale\":[[0.0,\"#0d0887\"],[0.1111111111111111,\"#46039f\"],[0.2222222222222222,\"#7201a8\"],[0.3333333333333333,\"#9c179e\"],[0.4444444444444444,\"#bd3786\"],[0.5555555555555556,\"#d8576b\"],[0.6666666666666666,\"#ed7953\"],[0.7777777777777778,\"#fb9f3a\"],[0.8888888888888888,\"#fdca26\"],[1.0,\"#f0f921\"]],\"type\":\"heatmapgl\"}],\"heatmap\":[{\"colorbar\":{\"outlinewidth\":0,\"ticks\":\"\"},\"colorscale\":[[0.0,\"#0d0887\"],[0.1111111111111111,\"#46039f\"],[0.2222222222222222,\"#7201a8\"],[0.3333333333333333,\"#9c179e\"],[0.4444444444444444,\"#bd3786\"],[0.5555555555555556,\"#d8576b\"],[0.6666666666666666,\"#ed7953\"],[0.7777777777777778,\"#fb9f3a\"],[0.8888888888888888,\"#fdca26\"],[1.0,\"#f0f921\"]],\"type\":\"heatmap\"}],\"histogram2dcontour\":[{\"colorbar\":{\"outlinewidth\":0,\"ticks\":\"\"},\"colorscale\":[[0.0,\"#0d0887\"],[0.1111111111111111,\"#46039f\"],[0.2222222222222222,\"#7201a8\"],[0.3333333333333333,\"#9c179e\"],[0.4444444444444444,\"#bd3786\"],[0.5555555555555556,\"#d8576b\"],[0.6666666666666666,\"#ed7953\"],[0.7777777777777778,\"#fb9f3a\"],[0.8888888888888888,\"#fdca26\"],[1.0,\"#f0f921\"]],\"type\":\"histogram2dcontour\"}],\"histogram2d\":[{\"colorbar\":{\"outlinewidth\":0,\"ticks\":\"\"},\"colorscale\":[[0.0,\"#0d0887\"],[0.1111111111111111,\"#46039f\"],[0.2222222222222222,\"#7201a8\"],[0.3333333333333333,\"#9c179e\"],[0.4444444444444444,\"#bd3786\"],[0.5555555555555556,\"#d8576b\"],[0.6666666666666666,\"#ed7953\"],[0.7777777777777778,\"#fb9f3a\"],[0.8888888888888888,\"#fdca26\"],[1.0,\"#f0f921\"]],\"type\":\"histogram2d\"}],\"histogram\":[{\"marker\":{\"pattern\":{\"fillmode\":\"overlay\",\"size\":10,\"solidity\":0.2}},\"type\":\"histogram\"}],\"mesh3d\":[{\"colorbar\":{\"outlinewidth\":0,\"ticks\":\"\"},\"type\":\"mesh3d\"}],\"parcoords\":[{\"line\":{\"colorbar\":{\"outlinewidth\":0,\"ticks\":\"\"}},\"type\":\"parcoords\"}],\"pie\":[{\"automargin\":true,\"type\":\"pie\"}],\"scatter3d\":[{\"line\":{\"colorbar\":{\"outlinewidth\":0,\"ticks\":\"\"}},\"marker\":{\"colorbar\":{\"outlinewidth\":0,\"ticks\":\"\"}},\"type\":\"scatter3d\"}],\"scattercarpet\":[{\"marker\":{\"colorbar\":{\"outlinewidth\":0,\"ticks\":\"\"}},\"type\":\"scattercarpet\"}],\"scattergeo\":[{\"marker\":{\"colorbar\":{\"outlinewidth\":0,\"ticks\":\"\"}},\"type\":\"scattergeo\"}],\"scattergl\":[{\"marker\":{\"colorbar\":{\"outlinewidth\":0,\"ticks\":\"\"}},\"type\":\"scattergl\"}],\"scattermapbox\":[{\"marker\":{\"colorbar\":{\"outlinewidth\":0,\"ticks\":\"\"}},\"type\":\"scattermapbox\"}],\"scatterpolargl\":[{\"marker\":{\"colorbar\":{\"outlinewidth\":0,\"ticks\":\"\"}},\"type\":\"scatterpolargl\"}],\"scatterpolar\":[{\"marker\":{\"colorbar\":{\"outlinewidth\":0,\"ticks\":\"\"}},\"type\":\"scatterpolar\"}],\"scatter\":[{\"marker\":{\"colorbar\":{\"outlinewidth\":0,\"ticks\":\"\"}},\"type\":\"scatter\"}],\"scatterternary\":[{\"marker\":{\"colorbar\":{\"outlinewidth\":0,\"ticks\":\"\"}},\"type\":\"scatterternary\"}],\"surface\":[{\"colorbar\":{\"outlinewidth\":0,\"ticks\":\"\"},\"colorscale\":[[0.0,\"#0d0887\"],[0.1111111111111111,\"#46039f\"],[0.2222222222222222,\"#7201a8\"],[0.3333333333333333,\"#9c179e\"],[0.4444444444444444,\"#bd3786\"],[0.5555555555555556,\"#d8576b\"],[0.6666666666666666,\"#ed7953\"],[0.7777777777777778,\"#fb9f3a\"],[0.8888888888888888,\"#fdca26\"],[1.0,\"#f0f921\"]],\"type\":\"surface\"}],\"table\":[{\"cells\":{\"fill\":{\"color\":\"#EBF0F8\"},\"line\":{\"color\":\"white\"}},\"header\":{\"fill\":{\"color\":\"#C8D4E3\"},\"line\":{\"color\":\"white\"}},\"type\":\"table\"}]},\"layout\":{\"annotationdefaults\":{\"arrowcolor\":\"#2a3f5f\",\"arrowhead\":0,\"arrowwidth\":1},\"autotypenumbers\":\"strict\",\"coloraxis\":{\"colorbar\":{\"outlinewidth\":0,\"ticks\":\"\"}},\"colorscale\":{\"diverging\":[[0,\"#8e0152\"],[0.1,\"#c51b7d\"],[0.2,\"#de77ae\"],[0.3,\"#f1b6da\"],[0.4,\"#fde0ef\"],[0.5,\"#f7f7f7\"],[0.6,\"#e6f5d0\"],[0.7,\"#b8e186\"],[0.8,\"#7fbc41\"],[0.9,\"#4d9221\"],[1,\"#276419\"]],\"sequential\":[[0.0,\"#0d0887\"],[0.1111111111111111,\"#46039f\"],[0.2222222222222222,\"#7201a8\"],[0.3333333333333333,\"#9c179e\"],[0.4444444444444444,\"#bd3786\"],[0.5555555555555556,\"#d8576b\"],[0.6666666666666666,\"#ed7953\"],[0.7777777777777778,\"#fb9f3a\"],[0.8888888888888888,\"#fdca26\"],[1.0,\"#f0f921\"]],\"sequentialminus\":[[0.0,\"#0d0887\"],[0.1111111111111111,\"#46039f\"],[0.2222222222222222,\"#7201a8\"],[0.3333333333333333,\"#9c179e\"],[0.4444444444444444,\"#bd3786\"],[0.5555555555555556,\"#d8576b\"],[0.6666666666666666,\"#ed7953\"],[0.7777777777777778,\"#fb9f3a\"],[0.8888888888888888,\"#fdca26\"],[1.0,\"#f0f921\"]]},\"colorway\":[\"#636efa\",\"#EF553B\",\"#00cc96\",\"#ab63fa\",\"#FFA15A\",\"#19d3f3\",\"#FF6692\",\"#B6E880\",\"#FF97FF\",\"#FECB52\"],\"font\":{\"color\":\"#2a3f5f\"},\"geo\":{\"bgcolor\":\"white\",\"lakecolor\":\"white\",\"landcolor\":\"#E5ECF6\",\"showlakes\":true,\"showland\":true,\"subunitcolor\":\"white\"},\"hoverlabel\":{\"align\":\"left\"},\"hovermode\":\"closest\",\"mapbox\":{\"style\":\"light\"},\"paper_bgcolor\":\"white\",\"plot_bgcolor\":\"#E5ECF6\",\"polar\":{\"angularaxis\":{\"gridcolor\":\"white\",\"linecolor\":\"white\",\"ticks\":\"\"},\"bgcolor\":\"#E5ECF6\",\"radialaxis\":{\"gridcolor\":\"white\",\"linecolor\":\"white\",\"ticks\":\"\"}},\"scene\":{\"xaxis\":{\"backgroundcolor\":\"#E5ECF6\",\"gridcolor\":\"white\",\"gridwidth\":2,\"linecolor\":\"white\",\"showbackground\":true,\"ticks\":\"\",\"zerolinecolor\":\"white\"},\"yaxis\":{\"backgroundcolor\":\"#E5ECF6\",\"gridcolor\":\"white\",\"gridwidth\":2,\"linecolor\":\"white\",\"showbackground\":true,\"ticks\":\"\",\"zerolinecolor\":\"white\"},\"zaxis\":{\"backgroundcolor\":\"#E5ECF6\",\"gridcolor\":\"white\",\"gridwidth\":2,\"linecolor\":\"white\",\"showbackground\":true,\"ticks\":\"\",\"zerolinecolor\":\"white\"}},\"shapedefaults\":{\"line\":{\"color\":\"#2a3f5f\"}},\"ternary\":{\"aaxis\":{\"gridcolor\":\"white\",\"linecolor\":\"white\",\"ticks\":\"\"},\"baxis\":{\"gridcolor\":\"white\",\"linecolor\":\"white\",\"ticks\":\"\"},\"bgcolor\":\"#E5ECF6\",\"caxis\":{\"gridcolor\":\"white\",\"linecolor\":\"white\",\"ticks\":\"\"}},\"title\":{\"x\":0.05},\"xaxis\":{\"automargin\":true,\"gridcolor\":\"white\",\"linecolor\":\"white\",\"ticks\":\"\",\"title\":{\"standoff\":15},\"zerolinecolor\":\"white\",\"zerolinewidth\":2},\"yaxis\":{\"automargin\":true,\"gridcolor\":\"white\",\"linecolor\":\"white\",\"ticks\":\"\",\"title\":{\"standoff\":15},\"zerolinecolor\":\"white\",\"zerolinewidth\":2}}},\"xaxis\":{\"anchor\":\"y\",\"domain\":[0.0,0.45],\"title\":{\"text\":\"Epoch\"}},\"yaxis\":{\"anchor\":\"x\",\"domain\":[0.0,1.0],\"range\":[0,1],\"title\":{\"text\":\"Accuracy\"}},\"xaxis2\":{\"anchor\":\"y2\",\"domain\":[0.55,1.0],\"title\":{\"text\":\"Epoch\"}},\"yaxis2\":{\"anchor\":\"x2\",\"domain\":[0.0,1.0],\"range\":[0,1],\"title\":{\"text\":\"Loss\"}}},                        {\"responsive\": true}                    ).then(function(){\n",
              "                            \n",
              "var gd = document.getElementById('4581a8d3-292f-43a2-9f5c-69ae3407a60a');\n",
              "var x = new MutationObserver(function (mutations, observer) {{\n",
              "        var display = window.getComputedStyle(gd).display;\n",
              "        if (!display || display === 'none') {{\n",
              "            console.log([gd, 'removed!']);\n",
              "            Plotly.purge(gd);\n",
              "            observer.disconnect();\n",
              "        }}\n",
              "}});\n",
              "\n",
              "// Listen for the removal of the full notebook cells\n",
              "var notebookContainer = gd.closest('#notebook-container');\n",
              "if (notebookContainer) {{\n",
              "    x.observe(notebookContainer, {childList: true});\n",
              "}}\n",
              "\n",
              "// Listen for the clearing of the current output cell\n",
              "var outputEl = gd.closest('.output');\n",
              "if (outputEl) {{\n",
              "    x.observe(outputEl, {childList: true});\n",
              "}}\n",
              "\n",
              "                        })                };                });            </script>        </div>"
            ]
          },
          "metadata": {},
          "output_type": "display_data"
        }
      ],
      "source": [
        "plot_accuracy_and_loss(train_model)"
      ]
    },
    {
      "cell_type": "code",
      "execution_count": null,
      "metadata": {
        "colab": {
          "base_uri": "https://localhost:8080/",
          "height": 295
        },
        "id": "skQQ6xvULw-N",
        "outputId": "dfa39ed2-ada4-4b55-83ef-0c12c9e81dfc"
      },
      "outputs": [
        {
          "data": {
            "image/png": "[encoded data removed]",
            "text/plain": [
              "<Figure size 432x288 with 1 Axes>"
            ]
          },
          "metadata": {
            "needs_background": "light"
          },
          "output_type": "display_data"
        }
      ],
      "source": [
        "hist = train_model.history\n",
        "\n",
        "# summarize history for accuracy\n",
        "plt.plot(hist['accuracy'])\n",
        "plt.plot(hist['val_accuracy'])\n",
        "plt.title('model accuracy')\n",
        "plt.ylabel('accuracy')\n",
        "plt.xlabel('epoch')\n",
        "plt.legend(['train', 'test'], loc='upper left')\n",
        "plt.show()"
      ]
    },
    {
      "cell_type": "code",
      "execution_count": null,
      "metadata": {
        "colab": {
          "base_uri": "https://localhost:8080/",
          "height": 295
        },
        "id": "2kmOPfTFLw7K",
        "outputId": "79868d8f-0ed4-4349-c79b-318ba52e6632"
      },
      "outputs": [
        {
          "data": {
            "image/png": "[encoded data removed]",
            "text/plain": [
              "<Figure size 432x288 with 1 Axes>"
            ]
          },
          "metadata": {
            "needs_background": "light"
          },
          "output_type": "display_data"
        }
      ],
      "source": [
        "# summarize history for loss\n",
        "plt.plot(hist['loss'])\n",
        "plt.plot(hist['val_loss'])\n",
        "plt.title('model loss')\n",
        "plt.ylabel('loss')\n",
        "plt.xlabel('epoch')\n",
        "plt.legend(['train', 'test'], loc='upper left')\n",
        "plt.show()"
      ]
    },
    {
      "cell_type": "markdown",
      "metadata": {
        "_uuid": "f201d6925f70ad2420b3ee7e3a204cdc77f86723",
        "id": "rGrIf_oiwekG"
      },
      "source": [
        "After adding the Dropout layers, the validation accuracy and validation loss are much better. Let's check now the prediction for the test set.\n",
        "\n",
        "\n",
        "## <a id=\"58\">Prediction accuracy with the new model</a>\n",
        "\n",
        "Let's re-evaluate the test prediction accuracy with the new model."
      ]
    },
    {
      "cell_type": "code",
      "execution_count": null,
      "metadata": {
        "_uuid": "d8e9293e99e34010bd456af7435c4cc7ccebdefd",
        "colab": {
          "base_uri": "https://localhost:8080/"
        },
        "id": "_mSF9ao-wekG",
        "outputId": "806100b4-1549-4392-f78f-8d828a62954c"
      },
      "outputs": [
        {
          "name": "stdout",
          "output_type": "stream",
          "text": [
            "Test loss: 0.20822739601135254\n",
            "Test accuracy: 0.9264000058174133\n"
          ]
        }
      ],
      "source": [
        "score = model.evaluate(X_test, y_test, verbose=0)\n",
        "print('Test loss:', score[0])\n",
        "print('Test accuracy:', score[1])"
      ]
    },
    {
      "cell_type": "markdown",
      "metadata": {
        "_uuid": "572baa4ad0f12f490337137f7f9fb56a8a9a48c6",
        "id": "Svvs4GMkwekG"
      },
      "source": [
        "Also the test accuracy improved. The test accuracy is now approximately 0.93."
      ]
    },
    {
      "cell_type": "code",
      "execution_count": null,
      "metadata": {
        "_uuid": "e519f82cc29b0dd8c5145d612da3eb496e2b321d",
        "colab": {
          "base_uri": "https://localhost:8080/"
        },
        "id": "nviGMRclwekG",
        "outputId": "9b919d80-f6eb-4a81-c037-c357a2eed010"
      },
      "outputs": [
        {
          "name": "stderr",
          "output_type": "stream",
          "text": [
            "/usr/local/lib/python3.7/dist-packages/tensorflow/python/keras/engine/sequential.py:454: UserWarning:\n",
            "\n",
            "`model.predict_classes()` is deprecated and will be removed after 2021-01-01. Please use instead:* `np.argmax(model.predict(x), axis=-1)`,   if your model does multi-class classification   (e.g. if it uses a `softmax` last-layer activation).* `(model.predict(x) > 0.5).astype(\"int32\")`,   if your model does binary classification   (e.g. if it uses a `sigmoid` last-layer activation).\n",
            "\n"
          ]
        }
      ],
      "source": [
        "#get the predictions for the test data\n",
        "predicted_classes = model.predict_classes(X_test)\n",
        "#get the indices to be plotted\n",
        "y_true = test_data.iloc[:, 0]"
      ]
    },
    {
      "cell_type": "code",
      "execution_count": null,
      "metadata": {
        "colab": {
          "base_uri": "https://localhost:8080/"
        },
        "id": "nAOFUKVwMh9Y",
        "outputId": "631622e6-4f41-4fd2-e73c-8f5b8373572f"
      },
      "outputs": [
        {
          "name": "stdout",
          "output_type": "stream",
          "text": [
            "Mounted at /content/drive\n"
          ]
        }
      ],
      "source": [
        "from google.colab import drive\n",
        "drive.mount('/content/drive')"
      ]
    },
    {
      "cell_type": "code",
      "execution_count": null,
      "metadata": {
        "id": "xRCNaA81MbJk"
      },
      "outputs": [],
      "source": [
        "model.save('/content/drive/MyDrive/Colab Notebooks/model_states/fishion.h5')"
      ]
    },
    {
      "cell_type": "code",
      "execution_count": null,
      "metadata": {
        "colab": {
          "base_uri": "https://localhost:8080/"
        },
        "id": "NbxR0ZWjMbHD",
        "outputId": "7711d6c6-8664-4928-aa27-7d41977508be"
      },
      "outputs": [
        {
          "data": {
            "text/plain": [
              "(1024, 820, 1)"
            ]
          },
          "execution_count": 252,
          "metadata": {},
          "output_type": "execute_result"
        }
      ],
      "source": [
        "import cv2\n",
        "img=cv2.imread('dres.jpg',0)\n",
        "img=img.reshape(img.shape + (1,))\n",
        "img.shape"
      ]
    },
    {
      "cell_type": "code",
      "execution_count": null,
      "metadata": {
        "colab": {
          "base_uri": "https://localhost:8080/",
          "height": 282
        },
        "id": "vkwDO2nxMbEK",
        "outputId": "be35035f-e9c7-41a5-cd72-b6e0af2fffb5"
      },
      "outputs": [
        {
          "data": {
            "text/plain": [
              "<matplotlib.image.AxesImage at 0x7f3f3f099710>"
            ]
          },
          "execution_count": 253,
          "metadata": {},
          "output_type": "execute_result"
        },
        {
          "data": {
            "image/png": "[encoded data removed]",
            "text/plain": [
              "<Figure size 432x288 with 1 Axes>"
            ]
          },
          "metadata": {
            "needs_background": "light"
          },
          "output_type": "display_data"
        }
      ],
      "source": [
        "# import cv2\n",
        "import matplotlib.pyplot as plt\n",
        "import cv2\n",
        "import tensorflow as tf\n",
        "import numpy as np\n",
        "img = cv2.resize(img, (28, 28))\n",
        "im = 255-img\n",
        "plt.imshow(im, cmap=\"gray\")\n",
        "# plt.title(id2class[y_test_inf[idx]]);"
      ]
    },
    {
      "cell_type": "code",
      "execution_count": null,
      "metadata": {
        "colab": {
          "base_uri": "https://localhost:8080/"
        },
        "id": "aeo-hDg6MbBp",
        "outputId": "940771aa-f112-4d66-9aef-c7cabcc17dd8"
      },
      "outputs": [
        {
          "data": {
            "text/plain": [
              "(28, 28)"
            ]
          },
          "execution_count": 254,
          "metadata": {},
          "output_type": "execute_result"
        }
      ],
      "source": [
        "im = im.astype(\"float32\") / 255\n",
        "# im = np.expand_dims(im, -1)[None]\n",
        "im.shape"
      ]
    },
    {
      "cell_type": "code",
      "execution_count": null,
      "metadata": {
        "id": "tRX-o3X0Ma_I"
      },
      "outputs": [],
      "source": [
        "FASHION_LABELS = {\n",
        "        0: 'T-shirt/top',\n",
        "        1: 'Trouser',\n",
        "        2: 'Pullover',\n",
        "        3: 'Dress',\n",
        "        4: 'Coat',\n",
        "        5: 'Sandal',\n",
        "        6: 'Shirt',\n",
        "        7: 'Sneaker',\n",
        "        8: 'Bag',\n",
        "        9: 'Ankle boot',\n",
        "    }"
      ]
    },
    {
      "cell_type": "code",
      "execution_count": null,
      "metadata": {
        "id": "HPqC-49EMa8j"
      },
      "outputs": [],
      "source": [
        "# model=tf.keras.models.load_model(\"/content/drive/MyDrive/Colab Notebooks/model_states/kr_fashion_cnn_do_reg_2.h5\")"
      ]
    },
    {
      "cell_type": "code",
      "execution_count": null,
      "metadata": {
        "id": "eWrUV4pINg05"
      },
      "outputs": [],
      "source": [
        "im = np.expand_dims(im, -1)[None]"
      ]
    },
    {
      "cell_type": "code",
      "execution_count": null,
      "metadata": {
        "colab": {
          "base_uri": "https://localhost:8080/",
          "height": 36
        },
        "id": "5qMc8OzaMa5s",
        "outputId": "029eb1d8-80eb-424e-dc50-de164f536bdb"
      },
      "outputs": [
        {
          "data": {
            "application/vnd.google.colaboratory.intrinsic+json": {
              "type": "string"
            },
            "text/plain": [
              "'Dress'"
            ]
          },
          "execution_count": 258,
          "metadata": {},
          "output_type": "execute_result"
        }
      ],
      "source": [
        "\n",
        "out = labels[np.argmax(model.predict(im))]\n",
        "out"
      ]
    },
    {
      "cell_type": "code",
      "execution_count": 3,
      "metadata": {
        "_uuid": "d5989dd811570fe73b1f6b0715b06c428e578669",
        "colab": {
          "base_uri": "https://localhost:8080/",
          "height": 397
        },
        "id": "Q8BC2TyxwekH",
        "outputId": "9a0df0da-4d87-48e6-8127-89b71fd3cacb"
      },
      "outputs": [],
      "source": [
        "p = predicted_classes[:10000]\n",
        "y = y_true[:10000]\n",
        "correct = np.nonzero(p==y)[0]\n",
        "incorrect = np.nonzero(p!=y)[0]"
      ]
    },
    {
      "cell_type": "code",
      "execution_count": null,
      "metadata": {
        "_uuid": "46acb309f135a4082b4e1cd9b98a613b888f7c7e",
        "id": "qrCDY_avwekH"
      },
      "outputs": [],
      "source": [
        "print(\"Correct predicted classes:\",correct.shape[0])\n",
        "print(\"Incorrect predicted classes:\",incorrect.shape[0])"
      ]
    },
    {
      "cell_type": "code",
      "execution_count": null,
      "metadata": {
        "_uuid": "bc3bfd05450aaee55c9e5edc7fb84d884c1d3e0b",
        "id": "TEJcSO5WwekH",
        "outputId": "a5538cb4-0949-4818-d657-ff51c4fb8f94"
      },
      "outputs": [
        {
          "name": "stdout",
          "output_type": "stream",
          "text": [
            "                         precision    recall  f1-score   support\n",
            "\n",
            "Class 0 (T-shirt/top) :       0.88      0.88      0.88      1000\n",
            "    Class 1 (Trouser) :       0.99      0.99      0.99      1000\n",
            "   Class 2 (Pullover) :       0.91      0.88      0.89      1000\n",
            "      Class 3 (Dress) :       0.93      0.93      0.93      1000\n",
            "       Class 4 (Coat) :       0.88      0.90      0.89      1000\n",
            "     Class 5 (Sandal) :       0.99      0.98      0.98      1000\n",
            "      Class 6 (Shirt) :       0.79      0.80      0.80      1000\n",
            "    Class 7 (Sneaker) :       0.97      0.96      0.96      1000\n",
            "        Class 8 (Bag) :       0.99      0.99      0.99      1000\n",
            " Class 9 (Ankle Boot) :       0.96      0.98      0.97      1000\n",
            "\n",
            "            avg / total       0.93      0.93      0.93     10000\n",
            "\n"
          ]
        }
      ],
      "source": [
        "target_names = [\"Class {} ({}) :\".format(i,labels[i]) for i in range(NUM_CLASSES)]\n",
        "print(classification_report(y_true, predicted_classes, target_names=target_names))"
      ]
    },
    {
      "cell_type": "markdown",
      "metadata": {
        "_uuid": "4b0b88588bd3afed148a3c696d997aea4a6c564a",
        "id": "JCSvpdf-wekI"
      },
      "source": [
        "\n",
        "The best accuracy is obtained for Class 1, Class 5, Class 8, Class 9  and Class 7. Worst accuracy is for Class 6.   \n",
        "\n",
        "The recall is highest for Class 8, Class 5 and smallest for Class 6 and Class 4.    \n",
        "\n",
        "f1-score is highest for Class 1, Class 5 and Class 8 and smallest for Class 6 followed by Class 4 and Class 2.  \n",
        "\n",
        "Let's also inspect some of the images. We created two subsets of the predicted images set, correctly and incorrectly classified."
      ]
    },
    {
      "cell_type": "markdown",
      "metadata": {
        "_uuid": "614afbc7ed760856cf9b47f879334902d1b6545b",
        "id": "5AAXWeQHwekI"
      },
      "source": [
        "# <a id=\"6\">Visualize classified images</a>\n",
        "\n",
        "## <a id=\"61\">Correctly classified images</a>\n",
        "\n",
        "\n",
        "We visualize few images correctly classified."
      ]
    },
    {
      "cell_type": "code",
      "execution_count": null,
      "metadata": {
        "_uuid": "e64edf6e7ae3146eafe8da01f4dbc4e05c8bc1ce",
        "colab": {
          "base_uri": "https://localhost:8080/",
          "height": 200
        },
        "collapsed": true,
        "id": "U4mML0xgwekI",
        "jupyter": {
          "outputs_hidden": true
        },
        "outputId": "5f143e6e-b367-4a7d-adf2-65e028de50d6"
      },
      "outputs": [
        {
          "ename": "NameError",
          "evalue": "ignored",
          "output_type": "error",
          "traceback": [
            "\u001b[0;31m---------------------------------------------------------------------------\u001b[0m",
            "\u001b[0;31mNameError\u001b[0m                                 Traceback (most recent call last)",
            "\u001b[0;32m<ipython-input-259-982a19dd4daf>\u001b[0m in \u001b[0;36m<module>\u001b[0;34m()\u001b[0m\n\u001b[1;32m      9\u001b[0m     \u001b[0mplt\u001b[0m\u001b[0;34m.\u001b[0m\u001b[0mshow\u001b[0m\u001b[0;34m(\u001b[0m\u001b[0;34m)\u001b[0m\u001b[0;34m\u001b[0m\u001b[0;34m\u001b[0m\u001b[0m\n\u001b[1;32m     10\u001b[0m \u001b[0;34m\u001b[0m\u001b[0m\n\u001b[0;32m---> 11\u001b[0;31m \u001b[0mplot_images\u001b[0m\u001b[0;34m(\u001b[0m\u001b[0mcorrect\u001b[0m\u001b[0;34m,\u001b[0m \u001b[0;34m\"Greens\"\u001b[0m\u001b[0;34m)\u001b[0m\u001b[0;34m\u001b[0m\u001b[0;34m\u001b[0m\u001b[0m\n\u001b[0m",
            "\u001b[0;31mNameError\u001b[0m: name 'correct' is not defined"
          ]
        }
      ],
      "source": [
        "def plot_images(data_index,cmap=\"Blues\"):\n",
        "    # Plot the sample images now\n",
        "    f, ax = plt.subplots(4,4, figsize=(15,15))\n",
        "\n",
        "    for i, indx in enumerate(data_index[:16]):\n",
        "        ax[i//4, i%4].imshow(X_test[indx].reshape(IMG_ROWS,IMG_COLS), cmap=cmap)\n",
        "        ax[i//4, i%4].axis('off')\n",
        "        ax[i//4, i%4].set_title(\"True:{}  Pred:{}\".format(labels[y_true[indx]],labels[predicted_classes[indx]]))\n",
        "    plt.show()    \n",
        "    \n",
        "plot_images(correct, \"Greens\")"
      ]
    },
    {
      "cell_type": "markdown",
      "metadata": {
        "_uuid": "3c7bb1b300a4530d2fa418eb56258a54587e3b90",
        "id": "WniUmpGlwekI"
      },
      "source": [
        "## <a id=\"62\">Incorrectly classified images</a>\n",
        "\n",
        "Let's see also few images incorrectly classified."
      ]
    },
    {
      "cell_type": "code",
      "execution_count": null,
      "metadata": {
        "_uuid": "18b2843f6f8542cd95d0847617e84e959996341b",
        "collapsed": true,
        "id": "MlJc9yugwekJ",
        "jupyter": {
          "outputs_hidden": true
        },
        "outputId": "b0e39d05-9483-48cf-f2ee-09b802366536"
      },
      "outputs": [
        {
          "data": {
            "image/png": "[encoded data removed]",
            "text/plain": [
              "<Figure size 1080x1080 with 16 Axes>"
            ]
          },
          "metadata": {
            "needs_background": "light"
          },
          "output_type": "display_data"
        }
      ],
      "source": [
        "plot_images(incorrect, \"Reds\")"
      ]
    },
    {
      "cell_type": "markdown",
      "metadata": {
        "_uuid": "e24053db4dbfec25fd1b90391586d7ce6bc32988",
        "id": "zTh4ndBrwekJ"
      },
      "source": [
        "# <a id=\"7\">Conclusions</a>\n",
        "\n",
        "With a complex sequential model with multiple convolution layers and 50 epochs for the training, we obtained an accuracy ~0.92 for test prediction.\n",
        "After investigating the validation accuracy and loss, we understood that the model is overfitting.   \n",
        "We retrained the model with Dropout layers to the model to reduce overfitting.  \n",
        "We confirmed the model improvement and with the same number of epochs for the training we obtained with the new model an accuracy of ~0.93 for test prediction. Only few classes are not correctly classified all the time, especially Class 6 (Shirt) and Class 2 (Pullover)."
      ]
    },
    {
      "cell_type": "markdown",
      "metadata": {},
      "source": []
    }
  ],
  "metadata": {
    "colab": {
      "name": "cnn-with-tensorflow-keras-for-fashion-mnist.ipynb",
      "provenance": []
    },
    "kernelspec": {
      "display_name": "Python 3.10.4 64-bit",
      "language": "python",
      "name": "python3"
    },
    "language_info": {
      "codemirror_mode": {
        "name": "ipython",
        "version": 3
      },
      "file_extension": ".py",
      "mimetype": "text/x-python",
      "name": "python",
      "nbconvert_exporter": "python",
      "pygments_lexer": "ipython3",
      "version": "3.10.4"
    },
    "vscode": {
      "interpreter": {
        "hash": "5b4f631d8a5d0a171278900dc6a859c44645a931a8b53d7a504c639c3da7f248"
      }
    }
  },
  "nbformat": 4,
  "nbformat_minor": 0
}
